{
 "cells": [
  {
   "cell_type": "code",
   "execution_count": null,
   "metadata": {},
   "outputs": [],
   "source": [
    "#importing libraries and packages\n",
    "import sys,os,time\n",
    "print(sys.executable)\n",
    "import pandas as pd\n",
    "#from datetime import datetime\n",
    "from datetime import datetime, timedelta\n",
    "import numpy as np\n",
    "#import matplotlib as mplt\n",
    "import matplotlib.pyplot as plt\n",
    "import matplotlib.markers\n",
    "from pandas.tseries.frequencies import to_offset# needed to set the time offset to match to the muons DF\n",
    "import seaborn as sns\n",
    "from numpy import argmax\n",
    "from pandas import read_csv\n",
    "from sklearn.model_selection import train_test_split\n",
    "from sklearn.linear_model import LinearRegression\n",
    "from sklearn import metrics\n",
    "from sklearn.datasets import make_regression\n",
    "from sklearn.preprocessing import LabelEncoder\n",
    "#from tensorflow.keras import Sequential\n",
    "#from tensorflow.keras.layers import Dense\n",
    "#import tensorflow as tf\n",
    "#import pylab as plt\n",
    "#import ROOT"
   ]
  },
  {
   "cell_type": "code",
   "execution_count": null,
   "metadata": {},
   "outputs": [],
   "source": [
    "#pd.Timestamp('2019-10-21T12:05:04.126Z')\n",
    "dtypes = {'date': 'Timestamp'}\n",
    "fname1 = '/home/cosmic/onlineMon/data/Muon000/HeHome2020-11-03-to-2021-06-28.log'\n",
    "fname2 = '/home/cosmic/onlineMon/data/Muon000/Muon000-2022-04-23-to-2022-05-15.log'\n",
    "fname3 = '/home/cosmic/onlineMon/data/Muon000/muon000.log'\n",
    "#df1 = pd.read_csv(fname3,index_col=\"date\",parse_dates=['date'])\n",
    "dft1  = pd.read_csv(fname1,index_col=\"date\",parse_dates=['date'])\n",
    "dft2  = pd.read_csv(fname2,index_col=\"date\",parse_dates=['date'])\n",
    "dft3  = pd.read_csv(fname2,index_col=\"date\",parse_dates=['date'])\n",
    "\n",
    "frames = [dft1, dft2,dft3]\n",
    "df1  = pd.concat(frames)\n",
    "\n",
    "df1.rename(columns = {'One and Three':'Ch13', 'One and Two':'Ch12', 'Two and Three':'Ch23'},inplace = True)\n",
    "df1.drop(df1.columns[[0,1,2,6,10]],axis=1, inplace=True)\n",
    "df1.dtypes\n",
    "#df1"
   ]
  },
  {
   "cell_type": "code",
   "execution_count": null,
   "metadata": {},
   "outputs": [],
   "source": [
    "df1.info\n",
    "df1"
   ]
  },
  {
   "cell_type": "code",
   "execution_count": null,
   "metadata": {},
   "outputs": [],
   "source": [
    "#add_time= datetime.timedelta(hours=5)\n",
    "#df1['date'] = df1['date'] + timedelta(hours=5)\n",
    "df1.index=pd.to_datetime(df1.index)-timedelta(hours=5)\n",
    "df1"
   ]
  },
  {
   "cell_type": "code",
   "execution_count": null,
   "metadata": {},
   "outputs": [],
   "source": [
    "df1_hourly = df1.resample('H').sum()\n",
    "\n",
    "df1_hourly.drop(df1_hourly.head(1).index,inplace=True)\n",
    "df1_hourly.drop(df1_hourly.tail(1).index,inplace=True)\n",
    "df1_hourly.drop(df1_hourly[df1_hourly['Ch12'] < 7000].index, inplace = True)\n",
    "pd.to_datetime(df1_hourly.index).hour\n",
    "pd.to_datetime(df1_hourly.index).hour\n",
    "df1_hourly.head(10)\n",
    "df1_hourly\n",
    "#df1_hourly[df1_hourly['Ch12'] <7000]\n",
    "df1_hourly.drop(df1_hourly.head(1).index,inplace=True)\n",
    "df1_hourly.drop(df1_hourly.tail(1).index,inplace=True)\n",
    "#df1_hourly.drop(df1_hourly[df1_hourly['Ch12'] < 7000].index, inplace = True)\n",
    "pd.to_datetime(df1_hourly.index).hour\n",
    "df1_hourly.head(10)\n",
    "df1_hourly"
   ]
  },
  {
   "cell_type": "markdown",
   "metadata": {},
   "source": [
    "# Download the Pressure Temperature file"
   ]
  },
  {
   "cell_type": "code",
   "execution_count": null,
   "metadata": {},
   "outputs": [],
   "source": [
    "fPT1    ='mslp_temp.csv'\n",
    "df1_PT  = pd.read_csv(fPT1)\n",
    "df1_PT.drop(df1_PT[df1_PT['mslp'] == 'M'].index, inplace = True)\n",
    "df1_PT.drop(df1_PT[df1_PT['tmpf'] == 'M'].index, inplace = True)\n",
    "df1_PT.dropna(inplace=True)\n",
    "df1_PT['valid'] = pd.to_datetime(df1_PT['valid'], utc =True)\n",
    "df1_PT = df1_PT.set_index('valid')\n",
    "df1_PT = df1_PT.drop(columns=[\"station\"])\n",
    "loffset = '-52min'\n",
    "df1_PT.index = df1_PT.index + to_offset(loffset)\n",
    "df1_PT[\"mslp\"] = df1_PT[\"mslp\"].astype(str).astype(float)\n",
    "df1_PT[\"tmpf\"] = df1_PT[\"tmpf\"].astype(str).astype(float)\n",
    "df1_PT"
   ]
  },
  {
   "cell_type": "code",
   "execution_count": null,
   "metadata": {},
   "outputs": [],
   "source": [
    "merged_df1_all=pd.merge(df1_hourly,df1_PT, how='inner', left_index=True, right_index=True)\n",
    "merged_df1_all"
   ]
  },
  {
   "cell_type": "code",
   "execution_count": null,
   "metadata": {},
   "outputs": [],
   "source": [
    "fig, axs = plt.subplots(2, 3, sharey=False, sharex=False,tight_layout=True,figsize=(12, 8))\n",
    "#fig.suptitle('Muon001)')\n",
    "axs[0,0].hist(merged_df1_all['One'], bins=80,histtype='step',label='One(Muon000)',color='blue')\n",
    "axs[0,0].set_title(\"Layer One(Muon000)\")\n",
    "#axs[0,0].set_xlim(900,1400)\n",
    "axs[0,1].hist(merged_df1_all['Two'], bins=80,histtype='step',label='Two(Muon000)',color='blue')\n",
    "axs[0,1].set_title(\"Layer Two(Muon000)\")\n",
    "#axs[0,1].set_xlim(1000,1500)\n",
    "axs[0,2].hist(merged_df1_all['Three'], bins=80,histtype='step',label='Three(Muon000)',color='blue')\n",
    "axs[0,2].set_title(\"Layer Three(Muon000)\")\n",
    "#axs[0,2].set_xlim(900,1500)\n",
    "axs[1,0].hist(merged_df1_all['Ch12'],histtype='step',bins=100,color='blue')\n",
    "axs[1,0].set_title(\"Muon000 Coincidence (1&2)\")\n",
    "axs[1,1].hist(merged_df1_all['Ch23'],histtype='step',bins=100,color='blue')\n",
    "axs[1,1].set_title(\"Muon000 Coincidence (2&3)\")\n",
    "axs[1,2].hist(merged_df1_all['Ch13'],histtype='step',bins=100,color='blue')\n",
    "axs[1,2].set_title(\"Muon000 Coincidence (1&3)\")\n",
    "\n",
    "#axs[1,2].set_xlim(900,1500)\n",
    "#plt.xticks(fontsize=14)\n",
    "#plt.yticks(fontsize=14)\n",
    "#plt.legend(['Example legend'],loc='upper center')\n",
    "plt.savefig('/home/cosmic/onlineMon/images/M000_ch_coinc_mostrecent.png')"
   ]
  },
  {
   "cell_type": "code",
   "execution_count": null,
   "metadata": {},
   "outputs": [],
   "source": [
    "merged_df1_all = merged_df1_all.drop(columns=[\"One\",\"Two\",\"Three\"])"
   ]
  },
  {
   "cell_type": "code",
   "execution_count": null,
   "metadata": {},
   "outputs": [],
   "source": [
    "from datetime import datetime, timedelta\n",
    "now = datetime.utcnow().date()\n",
    "yesterday = datetime.utcnow().date() - timedelta(days=1)\n",
    "lastmonth = datetime.utcnow().date() - timedelta(days=30)\n",
    "print(now)\n",
    "print(yesterday)\n",
    "print(lastmonth)\n",
    "df1_tmp1 = (merged_df1_all.loc['2020-9-14':'2021-5-14']).copy()\n",
    "df1_tmp2 = (merged_df1_all.loc['2021-09-14':now]).copy()\n",
    "#framesnew = [df1_tmp1, df1_tmp2]\n",
    "#merged_df1  = df1_tmp2.copy()#pd.concat(framesnew)"
   ]
  },
  {
   "cell_type": "code",
   "execution_count": null,
   "metadata": {},
   "outputs": [],
   "source": [
    "merged_df1_1day   = merged_df1_all.loc[yesterday:now].copy()\n",
    "merged_df1_1day\n",
    "merged_df1_31days = merged_df1_all.loc[lastmonth:now].copy() "
   ]
  },
  {
   "cell_type": "code",
   "execution_count": null,
   "metadata": {},
   "outputs": [],
   "source": [
    "def calc_percent_change(merged_df):\n",
    "    merged_df[\"Ch12_pct\"] = ((merged_df['Ch12'] - merged_df['Ch12'].mean())/ \n",
    "                      merged_df['Ch12'].mean()*100)\n",
    "    merged_df[\"Ch13_pct\"] = ((merged_df['Ch13'] - merged_df['Ch13'].mean())/ \n",
    "                      merged_df['Ch13'].mean()*100)\n",
    "    merged_df[\"Ch23_pct\"] = ((merged_df['Ch23'] - merged_df['Ch23'].mean())/ \n",
    "                      merged_df['Ch23'].mean()*100)\n",
    "    merged_df[\"Ch12_m_avg\"] = merged_df.rolling('6H').Ch12_pct.mean()\n",
    "    merged_df[\"Ch13_m_avg\"] = merged_df.rolling('6H').Ch13_pct.mean()\n",
    "    merged_df[\"Ch23_m_avg\"] = merged_df.rolling('6H').Ch23_pct.mean()\n",
    "    merged_df[\"press_pct\"] = ((merged_df['mslp'] - merged_df['mslp'].mean())/ \n",
    "                      merged_df['mslp'].mean()*100)\n",
    "    merged_df[\"temp_pct\"] = ((merged_df['tmpf'] - merged_df['tmpf'].mean())/ \n",
    "                      merged_df['tmpf'].mean()*100)\n",
    "    merged_df['temp_scaled'] = 0.1*merged_df['temp_pct']\n",
    "    merged_df[\"delta_Ch12\"]  = np.log((merged_df[\"Ch12\"])/merged_df[\"Ch12\"].mean())\n",
    "    merged_df[\"delta_Ch13\"]  = np.log((merged_df[\"Ch13\"])/merged_df[\"Ch13\"].mean())\n",
    "    merged_df[\"delta_Ch23\"]  = np.log((merged_df[\"Ch23\"])/merged_df[\"Ch23\"].mean())\n",
    "    merged_df[\"delta_pres\"] = (merged_df[\"mslp\"]-merged_df[\"mslp\"].mean())\n",
    "    print(merged_df[\"mslp\"].mean(),merged_df[\"mslp\"].std(), merged_df['Ch12_pct'].max()*1.2, merged_df[\"Ch12\"].mean(),merged_df[\"Ch12_pct\"].std())\n",
    "    "
   ]
  },
  {
   "cell_type": "markdown",
   "metadata": {},
   "source": [
    "## Compute the %age change and rolling average¶"
   ]
  },
  {
   "cell_type": "code",
   "execution_count": null,
   "metadata": {},
   "outputs": [],
   "source": [
    "#calc_percent_change(merged_df1_1day)\n",
    "#calc_percent_change(merged_df1_31days)\n",
    "#calc_percent_change(merged_df1_all)"
   ]
  },
  {
   "cell_type": "code",
   "execution_count": null,
   "metadata": {},
   "outputs": [],
   "source": [
    "merged_df1_1day[\"Ch12_pct\"] = ((merged_df1_1day['Ch12'] - merged_df1_1day['Ch12'].mean())/ \n",
    "                      merged_df1_1day['Ch12'].mean()*100)\n",
    "merged_df1_1day[\"Ch13_pct\"] = ((merged_df1_1day['Ch13'] - merged_df1_1day['Ch13'].mean())/ \n",
    "                      merged_df1_1day['Ch13'].mean()*100)\n",
    "merged_df1_1day[\"Ch23_pct\"] = ((merged_df1_1day['Ch23'] - merged_df1_1day['Ch23'].mean())/ \n",
    "                      merged_df1_1day['Ch23'].mean()*100)\n",
    "merged_df1_1day[\"Ch12_m_avg\"] = merged_df1_1day.rolling('6H').Ch12_pct.mean()\n",
    "merged_df1_1day[\"Ch13_m_avg\"] = merged_df1_1day.rolling('6H').Ch13_pct.mean()\n",
    "merged_df1_1day[\"Ch23_m_avg\"] = merged_df1_1day.rolling('6H').Ch23_pct.mean()\n",
    "merged_df1_1day[\"press_pct\"] = ((merged_df1_1day['mslp'] - merged_df1_1day['mslp'].mean())/ \n",
    "                      merged_df1_1day['mslp'].mean()*100)\n",
    "merged_df1_1day[\"temp_pct\"] = ((merged_df1_1day['tmpf'] - merged_df1_1day['tmpf'].mean())/ \n",
    "                      merged_df1_1day['tmpf'].mean()*100)\n",
    "merged_df1_1day['temp_scaled'] = 0.1*merged_df1_1day['temp_pct']"
   ]
  },
  {
   "cell_type": "code",
   "execution_count": null,
   "metadata": {},
   "outputs": [],
   "source": [
    "merged_df1_31days[\"Ch12_pct\"] = ((merged_df1_31days['Ch12'] - merged_df1_31days['Ch12'].mean())/ \n",
    "                      merged_df1_31days['Ch12'].mean()*100)\n",
    "merged_df1_31days[\"Ch13_pct\"] = ((merged_df1_31days['Ch13'] - merged_df1_31days['Ch13'].mean())/ \n",
    "                      merged_df1_31days['Ch13'].mean()*100)\n",
    "merged_df1_31days[\"Ch23_pct\"] = ((merged_df1_31days['Ch23'] - merged_df1_31days['Ch23'].mean())/ \n",
    "                      merged_df1_31days['Ch23'].mean()*100)\n",
    "merged_df1_31days[\"Ch12_m_avg\"] = merged_df1_31days.rolling('6H').Ch12_pct.mean()\n",
    "merged_df1_31days[\"Ch13_m_avg\"] = merged_df1_31days.rolling('6H').Ch13_pct.mean()\n",
    "merged_df1_31days[\"Ch23_m_avg\"] = merged_df1_31days.rolling('6H').Ch23_pct.mean()\n",
    "merged_df1_31days[\"press_pct\"] = ((merged_df1_31days['mslp'] - merged_df1_31days['mslp'].mean())/ \n",
    "                      merged_df1_31days['mslp'].mean()*100)\n",
    "merged_df1_31days[\"temp_pct\"] = ((merged_df1_31days['tmpf'] - merged_df1_31days['tmpf'].mean())/ \n",
    "                      merged_df1_31days['tmpf'].mean()*100)\n",
    "merged_df1_31days['temp_scaled'] = 0.1*merged_df1_31days['temp_pct']\n",
    "merged_df1_31days"
   ]
  },
  {
   "cell_type": "code",
   "execution_count": null,
   "metadata": {},
   "outputs": [],
   "source": [
    "df1_tmp1[\"Ch12_pct\"] = ((df1_tmp1['Ch12'] - df1_tmp1['Ch12'].mean())/ \n",
    "                      df1_tmp1['Ch12'].mean()*100)\n",
    "df1_tmp1[\"Ch13_pct\"] = ((df1_tmp1['Ch13'] - df1_tmp1['Ch13'].mean())/ \n",
    "                      df1_tmp1['Ch13'].mean()*100)\n",
    "df1_tmp1[\"Ch23_pct\"] = ((df1_tmp1['Ch23'] - df1_tmp1['Ch23'].mean())/ \n",
    "                      df1_tmp1['Ch23'].mean()*100)\n",
    "\n",
    "df1_tmp2[\"Ch12_pct\"] = ((df1_tmp2['Ch12'] - df1_tmp2['Ch12'].mean())/ \n",
    "                      df1_tmp2['Ch12'].mean()*100)\n",
    "df1_tmp2[\"Ch13_pct\"] = ((df1_tmp2['Ch13'] - df1_tmp2['Ch13'].mean())/ \n",
    "                      df1_tmp2['Ch13'].mean()*100)\n",
    "df1_tmp2[\"Ch23_pct\"] = ((df1_tmp2['Ch23'] - df1_tmp2['Ch23'].mean())/ \n",
    "                      df1_tmp2['Ch23'].mean()*100)\n",
    "\n",
    "framesnew   = [df1_tmp1, df1_tmp2]\n",
    "merged_df1  = pd.concat(framesnew)\n",
    "\n",
    "#merged_df1[\"Ch12_pct\"] = ((merged_df1['Ch12'] - merged_df1['Ch12'].mean())/ \n",
    "#                      merged_df1['Ch12'].mean()*100)\n",
    "#merged_df1[\"Ch13_pct\"] = ((merged_df1['Ch13'] - merged_df1['Ch13'].mean())/ \n",
    "#                      merged_df1['Ch13'].mean()*100)\n",
    "#merged_df1[\"Ch23_pct\"] = ((merged_df1['Ch23'] - merged_df1['Ch23'].mean())/ \n",
    "#                      merged_df1['Ch23'].mean()*100)\n",
    "\n",
    "merged_df1[\"Ch12_m_avg\"] = merged_df1.rolling('6H').Ch12_pct.mean()\n",
    "merged_df1[\"Ch13_m_avg\"] = merged_df1.rolling('6H').Ch13_pct.mean()\n",
    "merged_df1[\"Ch23_m_avg\"] = merged_df1.rolling('6H').Ch23_pct.mean()\n",
    "\n",
    "merged_df1[\"press_pct\"] = ((merged_df1['mslp'] - merged_df1['mslp'].mean())/ \n",
    "                      merged_df1['mslp'].mean()*100)\n",
    "merged_df1[\"temp_pct\"] = ((merged_df1['tmpf'] - merged_df1['tmpf'].mean())/ \n",
    "                      merged_df1['tmpf'].mean()*100)\n",
    "merged_df1['temp_scaled'] = 0.1*merged_df1['temp_pct']\n",
    "#merged_df1[\"delta_cts\"]  = (merged_df1[\"counts\"]-merged_df1[\"counts\"].mean())/merged_df1[\"counts\"]\n",
    "#merged_df1[\"delta_pres\"] = (merged_df1[\"mslp\"]-merged_df1[\"mslp\"].mean())/merged_df1[\"mslp\"]\n",
    "merged_df1[\"delta_Ch12\"]  = np.log((merged_df1[\"Ch12\"])/merged_df1[\"Ch12\"].mean())\n",
    "merged_df1[\"delta_Ch13\"]  = np.log((merged_df1[\"Ch13\"])/merged_df1[\"Ch13\"].mean())\n",
    "merged_df1[\"delta_Ch23\"]  = np.log((merged_df1[\"Ch23\"])/merged_df1[\"Ch23\"].mean())\n",
    "merged_df1[\"delta_pres\"] = (merged_df1[\"mslp\"]-merged_df1[\"mslp\"].mean())\n",
    "merged_df1\n",
    "#df1_hourly.describe()"
   ]
  },
  {
   "cell_type": "markdown",
   "metadata": {},
   "source": [
    "## Plot the %age change"
   ]
  },
  {
   "cell_type": "code",
   "execution_count": null,
   "metadata": {},
   "outputs": [],
   "source": [
    "fig = plt.figure(figsize=(14, 12),constrained_layout=True)\n",
    "gs = fig.add_gridspec(3)\n",
    "axs = gs.subplots(sharex=False, sharey=False)\n",
    "#fig.suptitle('Flux %age Change (Muon001 Detector)')\n",
    "#axs[0].set_title(\"Last 24 hours (yesterday:now)\")\n",
    "axs[0].set_title('Last 24 hours:'+str(now)+' to ' +str(yesterday),fontsize=15,color='blue')\n",
    "axs[0].plot(merged_df1_1day['temp_scaled'],\n",
    "            linestyle='--', linewidth=0.5, color='gray', label='scaled Temp(0.1) %')\n",
    "axs[0].plot(merged_df1_1day['Ch12_m_avg'],\n",
    "            linestyle='-', linewidth=1, color='red', label='Rolling avg(6Hr)Ch12 %')\n",
    "axs[0].plot(merged_df1_1day[\"Ch13_m_avg\"],\n",
    "            linestyle='-', linewidth=1, color='green', label=\"Rolling avg(6Hr)Ch13 %\")\n",
    "axs[0].plot(merged_df1_1day[\"Ch23_m_avg\"],\n",
    "            linestyle='-', linewidth=1, color='black', label=\"Rolling avg(6Hr)Ch23 %\")\n",
    "axs[0].plot(merged_df1_1day['press_pct'],\n",
    "            linestyle='--', linewidth=1, color='blue', label='Press %')\n",
    "\n",
    "\n",
    "axs[1].set_title(\"Last 30 days\",fontsize=15,color='blue')\n",
    "axs[1].plot(merged_df1_31days['temp_scaled'],\n",
    "            linestyle='--', linewidth=0.5, color='gray', label='scaled Temp(0.1) %')\n",
    "axs[1].plot(merged_df1_31days['Ch12_m_avg'],\n",
    "            linestyle='--', linewidth=2, color='red', label='Rolling avg(6Hr)Ch12 %')\n",
    "#axs[1].plot(merged_df1_31days[\"Ch13_m_avg\"],\n",
    "#marker='*', markersize=3, linestyle='-', linewidth=0.5, color='green', label=\"Rolling avg(6Hr)Ch13 %\")\n",
    "#axs[1].plot(merged_df1_31days[\"Ch23_m_avg\"],\n",
    "#marker='v', markersize=3, linestyle='-', linewidth=0.5, color='blue', label=\"Rolling avg(6Hr)Ch23 %\")\n",
    "axs[1].plot(merged_df1_31days['press_pct'],\n",
    "            linestyle='--', linewidth=1, color='blue', label='Press %')\n",
    "\n",
    "\n",
    "axs[2].set_title(\"All data\",fontsize=15,color='blue')\n",
    "axs[2].plot(merged_df1['temp_scaled'],\n",
    "            linestyle='--', linewidth=0.5, color='gray', label='scaled Temp(0.1) %')\n",
    "#axs[2].plot(merged_df1[\"Ch13_m_avg\"],\n",
    "#marker='*', markersize=3, linestyle='-', linewidth=0.5, color='green', label=\"Rolling avg(6Hr)Ch13 %\")\n",
    "#axs[2].plot(merged_df1[\"Ch23_m_avg\"],        \n",
    "#marker='v', markersize=3, linestyle='-', linewidth=0.5, color='blue', label=\"Rolling avg(6Hr)Ch23 %\")\n",
    "axs[2].plot(merged_df1[\"Ch12_m_avg\"],\n",
    "            linestyle='--', linewidth=2, color='red', label='Rolling avg(6Hr)Ch12 %')\n",
    "axs[2].plot(merged_df1['press_pct'],\n",
    "            linestyle='--', linewidth=1, color='blue', label='Press %')\n",
    "\n",
    "#axs[2].plot(df1_hourly[\"Ch23_m_avg\"],\n",
    "#marker='.', markersize=1, linestyle='-', linewidth=1, color='black', label='Ch23_m_avg')\n",
    "\n",
    "axs[0].set_ylabel('Flux %age Change',fontsize=15)\n",
    "axs[0].set_ylim([-5, 5])\n",
    "axs[0].legend();\n",
    "axs[0].legend(ncol=3)\n",
    "axs[0].legend(ncol=3,frameon=False,fontsize=15)\n",
    "axs[0].tick_params(axis='x', labelsize=13)\n",
    "axs[0].grid(True, color = 'DarkTurquoise', alpha=1, linestyle = '--', linewidth = 0.5)\n",
    "\n",
    "axs[1].set_ylabel('Flux %age Change',fontsize=15)\n",
    "axs[1].set_ylim([-7, 7])\n",
    "axs[1].legend();\n",
    "axs[1].legend(ncol=3)\n",
    "axs[1].legend(ncol=3,frameon=False,fontsize=15)\n",
    "axs[1].tick_params(axis='x', labelsize=13)\n",
    "axs[1].grid(True, color = 'DarkTurquoise', alpha=1, linestyle = '--', linewidth = 0.5)\n",
    "\n",
    "axs[2].set_ylabel('Flux %age Change',fontsize=15)\n",
    "axs[2].set_ylim([-8, 8])\n",
    "axs[2].legend();\n",
    "axs[2].legend(ncol=3)\n",
    "axs[2].legend(ncol=3,frameon=False,fontsize=15)\n",
    "axs[2].tick_params(axis='x', labelsize=13)\n",
    "axs[2].grid(True, color = 'DarkTurquoise', alpha=1, linestyle = '--', linewidth = 0.5)\n",
    "# Hide x labels and tick labels for all but bottom plot.\n",
    "#for ax in axs:\n",
    " #   ax.label_outer()\n",
    "plt.savefig('/home/cosmic/onlineMon/images/M000_pct_Ch_mostrecent.png')"
   ]
  },
  {
   "cell_type": "markdown",
   "metadata": {},
   "source": [
    "## Pressure Correction: extract barometric coefficient¶"
   ]
  },
  {
   "cell_type": "code",
   "execution_count": null,
   "metadata": {},
   "outputs": [],
   "source": [
    "from scipy import stats\n",
    "\n",
    "#fig, ax = plt.subplots(figsize=(15,10))\n",
    "slope, intercept, r_value, pv, se = stats.linregress(merged_df1['delta_pres'], merged_df1['delta_Ch12'])\n",
    "print(slope, intercept, r_value, pv, se)\n",
    "baro12=slope"
   ]
  },
  {
   "cell_type": "code",
   "execution_count": null,
   "metadata": {},
   "outputs": [],
   "source": [
    "slope, intercept, r_value, pv, se = stats.linregress(merged_df1['delta_pres'], merged_df1['delta_Ch13'])\n",
    "print(slope, intercept, r_value, pv, se)\n",
    "baro13=slope"
   ]
  },
  {
   "cell_type": "code",
   "execution_count": null,
   "metadata": {},
   "outputs": [],
   "source": [
    "slope, intercept, r_value, pv, se = stats.linregress(merged_df1['delta_pres'], merged_df1['delta_Ch23'])\n",
    "print(slope, intercept, r_value, pv, se)\n",
    "baro23=slope"
   ]
  },
  {
   "cell_type": "markdown",
   "metadata": {},
   "source": [
    "# Pressure Correction"
   ]
  },
  {
   "cell_type": "code",
   "execution_count": null,
   "metadata": {},
   "outputs": [],
   "source": [
    "# pressure correction\n",
    "merged_df1[\"Po\"] = merged_df1[\"mslp\"].mean()\n",
    "merged_df1[\"P-Po\"] = merged_df1[\"mslp\"]-merged_df1[\"Po\"]\n",
    "merged_df1[\"k(P-Po)\"]     = merged_df1[\"P-Po\"]*[-1.0*baro12] # coefficient\n",
    "merged_df1[\"exp\"]         = np.exp(merged_df1[\"k(P-Po)\"])\n",
    "merged_df1[\"ICh12\"]       = merged_df1[\"Ch12\"]* merged_df1[\"exp\"]\n",
    "merged_df1                = merged_df1.drop(columns = [\"exp\",\"k(P-Po)\",\"k(P-Po)\",\"P-Po\",\"Po\"])"
   ]
  },
  {
   "cell_type": "code",
   "execution_count": null,
   "metadata": {},
   "outputs": [],
   "source": [
    "# pressure correction\n",
    "merged_df1[\"Po\"] = merged_df1[\"mslp\"].mean()\n",
    "merged_df1[\"P-Po\"] = merged_df1[\"mslp\"]-merged_df1[\"Po\"]\n",
    "merged_df1[\"k(P-Po)\"]     = merged_df1[\"P-Po\"]*[-1.0*baro13] # coefficient\n",
    "merged_df1[\"exp\"]         = np.exp(merged_df1[\"k(P-Po)\"])\n",
    "merged_df1[\"ICh13\"]       = merged_df1[\"Ch13\"]* merged_df1[\"exp\"]\n",
    "merged_df1 "
   ]
  },
  {
   "cell_type": "code",
   "execution_count": null,
   "metadata": {},
   "outputs": [],
   "source": [
    "merged_df1[\"Po\"] = merged_df1[\"mslp\"].mean()\n",
    "merged_df1[\"P-Po\"] = merged_df1[\"mslp\"]-merged_df1[\"Po\"]\n",
    "merged_df1[\"k(P-Po)\"]     = merged_df1[\"P-Po\"]*[-1.0*baro23] # coefficient\n",
    "merged_df1[\"exp\"]         = np.exp(merged_df1[\"k(P-Po)\"])\n",
    "merged_df1[\"ICh23\"]       = merged_df1[\"Ch23\"]* merged_df1[\"exp\"]\n",
    "merged_df1                = merged_df1.drop(columns = [\"exp\",\"k(P-Po)\",\"k(P-Po)\",\"P-Po\",\"Po\"])\n",
    "merged_df1"
   ]
  },
  {
   "cell_type": "code",
   "execution_count": null,
   "metadata": {},
   "outputs": [],
   "source": [
    "plt.rcParams[\"axes.grid\"] = True\n",
    "fig, (ax1) = plt.subplots(1,figsize=(14, 5))\n",
    "#fig.suptitle('Counts')\n",
    "#ax1.hist(df2_hourly['counts'], bins=100,histtype='step',label='Counts',color='blue')\n",
    "ax1.plot(merged_df1[\"ICh23\"],\n",
    "marker='.', markersize=1, linestyle='-', linewidth=1, color='red', label='Counts')\n",
    "ax1.plot(merged_df1[\"Ch23\"],\n",
    "marker='.', markersize=1, linestyle='-', linewidth=1, color='blue', label='Ch13')\n",
    "#ax1.set_title('4 Paddle Counts')\n",
    "#ax1.set_xlim([pd.Timestamp('2020-11-03'), pd.Timestamp('2021-04-20')])\n",
    "#ax1.legend();"
   ]
  },
  {
   "cell_type": "code",
   "execution_count": null,
   "metadata": {},
   "outputs": [],
   "source": [
    "merged_df1[\"ICh12_pct\"] = ((merged_df1['ICh12'] - merged_df1['ICh12'].mean())/ \n",
    "                      merged_df1['ICh12'].mean()*100)\n",
    "merged_df1[\"ICh12_m_avg\"] = merged_df1.rolling('6H').ICh12_pct.mean()\n",
    "merged_df1[\"ICh13_pct\"] = ((merged_df1['ICh13'] - merged_df1['ICh13'].mean())/ \n",
    "                      merged_df1['ICh13'].mean()*100)\n",
    "merged_df1[\"ICh13_m_avg\"] = merged_df1.rolling('6H').ICh13_pct.mean()\n",
    "merged_df1[\"ICh23_pct\"] = ((merged_df1['ICh23'] - merged_df1['ICh23'].mean())/ \n",
    "                      merged_df1['ICh23'].mean()*100)\n",
    "merged_df1[\"ICh23_m_avg\"] = merged_df1.rolling('6H').ICh23_pct.mean()"
   ]
  },
  {
   "cell_type": "code",
   "execution_count": null,
   "metadata": {},
   "outputs": [],
   "source": [
    "plt.rcParams[\"axes.grid\"] = True\n",
    "fig, (ax1) = plt.subplots(1,figsize=(14, 5))\n",
    "#fig.suptitle('Counts')\n",
    "#ax1.hist(df2_hourly['counts'], bins=100,histtype='step',label='Counts',color='blue')\n",
    "ax1.plot(merged_df1[\"Ch12_pct\"],\n",
    "marker='.', markersize=1, linestyle='-', linewidth=1, color='red', label='Counts')\n",
    "ax1.plot(merged_df1[\"ICh12_pct\"],\n",
    "marker='.', markersize=1, linestyle='-', linewidth=1, color='blue', label='Ch13')\n",
    "#ax1.set_title('4 Paddle Counts')\n",
    "#ax1.set_xlim([pd.Timestamp('2020-11-03'), pd.Timestamp('2021-04-20')])\n",
    "ax1.legend();"
   ]
  },
  {
   "cell_type": "code",
   "execution_count": null,
   "metadata": {},
   "outputs": [],
   "source": [
    "#title1 = now.year()\n",
    "plt.rcParams[\"axes.grid\"] = True\n",
    "fig = plt.figure(figsize=(14, 10))\n",
    "gs = fig.add_gridspec(3)\n",
    "axs = gs.subplots(sharex=False, sharey=False)\n",
    "#fig.suptitle('Flux %age Change (Muon001 Detector)')\n",
    "#axs[0].set_title(\"Last 24 hours (yesterday:now)\")\n",
    "axs[0].set_title('Last 24 hours:'+str(yesterday)+' to ' +str(now))\n",
    "axs[0].plot(merged_df1.loc[yesterday:now, 'ICh12_m_avg'],\n",
    "markerfacecolor='white',markeredgecolor=\"red\", marker='o', markersize=4, linestyle='', linewidth=0.5, color='red', label='Ch12 %')\n",
    "axs[0].plot(merged_df1.loc[yesterday:now,\"ICh13_m_avg\"],\n",
    "marker='*', markersize=4, linestyle='', linewidth=0.5, color='green', label=\"Ch13 %\")\n",
    "axs[0].plot(merged_df1.loc[yesterday:now,\"ICh23_m_avg\"],\n",
    "marker='v', markersize=4, linestyle='', linewidth=0.5, color='blue', label=\"Ch23 %\")\n",
    "\n",
    "axs[1].set_title(\"Last 30 days\")\n",
    "axs[1].plot(merged_df1.loc[lastmonth:now, 'ICh12_m_avg'],\n",
    "markerfacecolor='white',markeredgecolor=\"red\", marker='o', markersize=3, linestyle='', linewidth=0.5, color='red', label='Ch12 %')\n",
    "axs[1].plot(merged_df1.loc[lastmonth:now,\"ICh13_m_avg\"],\n",
    "marker='*', markersize=3, linestyle='', linewidth=0.5, color='green', label=\"Ch13 %\")\n",
    "axs[1].plot(merged_df1.loc[lastmonth:now,\"ICh23_m_avg\"],\n",
    "marker='v', markersize=3, linestyle='', linewidth=0.5, color='blue', label=\"Ch23 %\")\n",
    "\n",
    "axs[2].set_title(\"All data\")\n",
    "axs[2].plot(merged_df1[\"ICh12_m_avg\"],\n",
    "markerfacecolor='white',markeredgecolor=\"red\", marker='o', markersize=3, linestyle='', linewidth=0.5, color='red', label='Ch12 %')\n",
    "axs[2].plot(merged_df1[\"ICh13_m_avg\"],\n",
    "marker='*', markersize=3, linestyle='', linewidth=0.5, color='green', label=\"Ch13 %\")\n",
    "axs[2].plot(merged_df1[\"ICh23_m_avg\"],        \n",
    "marker='v', markersize=3, linestyle='', linewidth=0.5, color='blue', label=\"Ch23 %\")\n",
    "\n",
    "#axs[2].plot(df1_hourly[\"Ch23_m_avg\"],\n",
    "#marker='.', markersize=1, linestyle='-', linewidth=1, color='black', label='Ch23_m_avg')\n",
    "\n",
    "axs[0].set_ylabel('Flux %age Change')\n",
    "axs[0].set_ylim([0, 25])\n",
    "axs[0].legend()\n",
    "axs[1].set_ylabel('Flux %age Change')\n",
    "axs[1].set_ylim([-10, 30])\n",
    "axs[1].legend()\n",
    "axs[2].set_ylabel('Flux %age Change')\n",
    "axs[2].set_ylim([-10, 30])\n",
    "axs[2].legend()\n",
    "# Hide x labels and tick labels for all but bottom plot.\n",
    "#for ax in axs:\n",
    " #   ax.label_outer()\n",
    "plt.savefig('/home/cosmic/onlineMon/images/M000_pct_Ch_Pcorr.png')"
   ]
  }
 ],
 "metadata": {
  "language_info": {
   "name": "python"
  }
 },
 "nbformat": 4,
 "nbformat_minor": 2
}
