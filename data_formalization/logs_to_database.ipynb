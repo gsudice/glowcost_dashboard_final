{
 "cells": [
  {
   "cell_type": "code",
   "execution_count": null,
   "metadata": {},
   "outputs": [],
   "source": [
    "!pip3 install pandas\n",
    "!pip3 install numpy\n",
    "!pip3 install python-dotenv\n",
    "!pip3 install sqlalchemy\n",
    "!pip3 install psycopg2-binary"
   ]
  },
  {
   "cell_type": "code",
   "execution_count": 1,
   "metadata": {},
   "outputs": [],
   "source": [
    "import pandas as pd\n",
    "import numpy as np\n",
    "from dotenv import load_dotenv\n",
    "from os import getenv, listdir\n",
    "import csv\n",
    "from sqlalchemy import create_engine\n",
    "import psycopg2\n",
    "from monitors_format_settings import monitor_settings\n",
    "from datetime import timedelta"
   ]
  },
  {
   "cell_type": "code",
   "execution_count": 2,
   "metadata": {},
   "outputs": [],
   "source": [
    "# Extract monitor settings\n",
    "monitor_settings = monitor_settings"
   ]
  },
  {
   "cell_type": "code",
   "execution_count": 3,
   "metadata": {},
   "outputs": [],
   "source": [
    "# Extract environment variables\n",
    "load_dotenv()\n",
    "DBNAME=getenv('DBNAME')\n",
    "DBUSER=getenv('DBUSER')\n",
    "DBHOST=getenv('DBHOST')\n",
    "DBPORT=getenv('DBPORT')\n",
    "DBPWRD=getenv('DBPWRD')"
   ]
  },
  {
   "cell_type": "markdown",
   "metadata": {},
   "source": [
    "# Connect to database"
   ]
  },
  {
   "cell_type": "markdown",
   "metadata": {},
   "source": [
    "## Via sqlalchemy for sending tables"
   ]
  },
  {
   "cell_type": "code",
   "execution_count": 91,
   "metadata": {},
   "outputs": [
    {
     "name": "stdout",
     "output_type": "stream",
     "text": [
      "Connected to muon database successfully\n"
     ]
    }
   ],
   "source": [
    "try:\n",
    "    engine = create_engine(\n",
    "        url=\"postgresql://{0}:{1}@{2}:{3}/{4}\".format(\n",
    "            DBUSER, DBPWRD, DBHOST, DBPORT, DBNAME\n",
    "        )\n",
    "    )\n",
    "    print('Connected to muon database successfully')\n",
    "except:\n",
    "    print('Unable to connect to muon database')"
   ]
  },
  {
   "cell_type": "markdown",
   "metadata": {},
   "source": [
    "## Via psycopg2 to send queries"
   ]
  },
  {
   "cell_type": "code",
   "execution_count": 92,
   "metadata": {},
   "outputs": [
    {
     "name": "stdout",
     "output_type": "stream",
     "text": [
      "Connected to muon database successfully\n"
     ]
    }
   ],
   "source": [
    "try:\n",
    "    conn = psycopg2.connect(f\"dbname={DBNAME} user={DBUSER} host={DBHOST} port={DBPORT} password={DBPWRD}\")\n",
    "    print('Connected to muon database successfully')\n",
    "except:\n",
    "    print('Unable to connect to muon database')\n",
    "cur = conn.cursor()"
   ]
  },
  {
   "cell_type": "markdown",
   "metadata": {},
   "source": [
    "# Create Monitor table with locations"
   ]
  },
  {
   "cell_type": "code",
   "execution_count": null,
   "metadata": {},
   "outputs": [],
   "source": [
    "monitor_locations = pd.read_csv('../data/monitor_locations.csv').set_index('name')\n",
    "monitor_locations.to_sql(\n",
    "    con=engine, name='monitors', if_exists='replace', index=True)\n",
    "print('Table sent to db successfully')"
   ]
  },
  {
   "cell_type": "code",
   "execution_count": null,
   "metadata": {},
   "outputs": [],
   "source": [
    "# Create primary key for monitors table\n",
    "cur.execute(\"\"\"ALTER TABLE monitors ADD PRIMARY KEY (name)\"\"\")\n",
    "conn.commit()\n",
    "cur.close()\n",
    "conn.close()"
   ]
  },
  {
   "cell_type": "markdown",
   "metadata": {},
   "source": [
    "# Create functions for data formatting and standarization"
   ]
  },
  {
   "cell_type": "markdown",
   "metadata": {},
   "source": [
    "## Formats each log as a date and counts df, based on each unique monitor's data format"
   ]
  },
  {
   "cell_type": "code",
   "execution_count": 15,
   "metadata": {},
   "outputs": [],
   "source": [
    "def log_df_formatting(logs_df, monitor_name):\n",
    "    ''' \n",
    "    Formats given logs into a datetime and counts column df. If desired, you can keep the\n",
    "    additional counts columns in case needed for later.\n",
    "    \n",
    "    Args:       logs_df         -> pandas df containing non-formatted data where only one column\n",
    "                                    named 'counts' exists and has all data.\n",
    "                monitor_name    -> indicates how to split the row based on specific monitor's\n",
    "                                    row content, since some have more data than others\n",
    "    \n",
    "    Returns:    pandas df containing formatted logs as date index and counts column\n",
    "\n",
    "    '''\n",
    "    monitors = monitor_settings\n",
    "    # Get specific split number of elements depending monitor log file data format\n",
    "    splits = monitors[monitor_name]['splits']\n",
    "    # Get counts column\n",
    "    counts_col = monitors[monitor_name]['counts_col']\n",
    "    # Get index for date column\n",
    "    date_col = monitors[monitor_name]['date_col']\n",
    "    # Get corresponding timezone\n",
    "    monitor_tz = monitors[monitor_name]['timezone']\n",
    "\n",
    "    # Make copy to ensure it is not damaging current logs data\n",
    "    temp = logs_df.copy(deep=True)\n",
    "\n",
    "    # Format df to remove tracing commas after counts values if the separation is based on spacing\n",
    "    if temp['counts'].str.contains(' ').any() & temp['counts'].str.contains(',').any():\n",
    "        temp['counts'] = temp['counts'].str.replace(',','', regex=True)\n",
    "        \n",
    "    # Split counts column into n elements (i.e.: if n=4, containing count1, count2, count3, day)\n",
    "    # separation is space-based \" \"\n",
    "    if temp['counts'].str.contains(' ').any():\n",
    "        temp = temp['counts'].str.split(\" \", n = splits, expand=True)\n",
    "    # else, separation is comma-based \",\"\n",
    "    else:\n",
    "        temp = temp['counts'].str.split(\",\", n=splits, expand=True)\n",
    "    print(temp.head(1))\n",
    "    # Slice df to only have desired columns counts and date\n",
    "    temp = temp.rename(columns={date_col:'date',counts_col:'counts'})\n",
    "    ldf = temp[['date', 'counts']]\n",
    "\n",
    "    # transform date column string into a datetime format type\n",
    "    print('First date for formatting: ', ldf.iloc[0]['date'])\n",
    "    ldf['date'] = pd.to_datetime(ldf['date'], format='mixed')\n",
    "    # Localize to monitor location's timezone, ambiguous to infer fall DST change an hour back, \n",
    "    # and nonexistent for clocks moving forward due to DST\n",
    "    print('date check prior to localize: ', ldf.head(1))\n",
    "\n",
    "    try:\n",
    "        # It infers the date and shifts forward if dailight savings causes errors\n",
    "        ldf['date'] = ldf['date'].dt.tz_localize(monitor_tz, ambiguous='infer', nonexistent='shift_forward')\n",
    "    except:\n",
    "        try:\n",
    "            # If duplicate dates due to localization into a timezone with daylight, choose to keep one\n",
    "            ldf['date'] = ldf['date'].dt.tz_localize(monitor_tz, ambiguous=True, nonexistent='shift_forward')\n",
    "        except:\n",
    "            # Else, the df is already localized to a particular timezone\n",
    "            print('DF date already timezone aware so no need!')\n",
    "\n",
    "    # Format to UTC so it can be merged with the weather app's data that is also UTC\n",
    "    ldf['date'] = ldf['date'].dt.tz_convert('UTC')\n",
    "    # Set date column as index\n",
    "    ldf = ldf.set_index('date')\n",
    "    # Make counts column into numeric type\n",
    "    ldf['counts'] = ldf['counts'].apply(pd.to_numeric)\n",
    "\n",
    "    # Remove any errors due to NaT values on index date column\n",
    "    try:\n",
    "        ldf2 = ldf.drop('NaT')\n",
    "    except:\n",
    "        ldf2 = ldf\n",
    "\n",
    "    # Sort df based on date index\n",
    "    ldf2.sort_index()\n",
    "    \n",
    "    return ldf2"
   ]
  },
  {
   "cell_type": "markdown",
   "metadata": {},
   "source": [
    "## Makes any found log files within monitor folder into a pandas df and stores as a list"
   ]
  },
  {
   "cell_type": "code",
   "execution_count": 7,
   "metadata": {},
   "outputs": [],
   "source": [
    "def all_monitor_logs_to_dfs(monitor_name):\n",
    "    ''' \n",
    "    Creates a df of merged log files. This assumes all logs within given monitor folder\n",
    "    name share same format style. Log files should be reviewed before applying this function.\n",
    "\n",
    "    Args:       monitor_name -> name of folder containing log files to be merged\n",
    "    Returns:    merged pandas df\n",
    "\n",
    "    '''\n",
    "    # Home directory\n",
    "    homedir = '../data/'\n",
    "    # list of files within selected monitor\n",
    "    all_files = listdir(homedir + monitor_name)\n",
    "    # filter based on ending being .log\n",
    "    logs_list = [f for f in all_files if f.endswith('.log')]\n",
    "\n",
    "    # df = pd.DataFrame()\n",
    "    logs_df_list = []\n",
    "\n",
    "    for log_file in logs_list:\n",
    "        # Read log file as df separating rows\n",
    "        temp = pd.read_csv(homedir+monitor_name+'/'+log_file, sep='\\t', names=['counts'])\n",
    "        # If df has column titles, remove as it causes issues with below functions\n",
    "        if temp.head(1)['counts'].str.contains('date').any():\n",
    "            temp.drop(temp.head(1).index, inplace=True)\n",
    "        # Format df based on monitor settings\n",
    "        temp = log_df_formatting(temp, monitor_name.replace('/',''))\n",
    "        # Append to list of dfs\n",
    "        logs_df_list.append(temp)\n",
    "\n",
    "    return logs_df_list"
   ]
  },
  {
   "cell_type": "markdown",
   "metadata": {},
   "source": [
    "## merge logs with shutdown - adds time interval between monitor offline and online times"
   ]
  },
  {
   "cell_type": "code",
   "execution_count": 80,
   "metadata": {},
   "outputs": [],
   "source": [
    "def merge_adding_all_timestamps_hourly(merged_logs, log_df, lfreq, trim_base_df, trim_log_df):\n",
    "\n",
    "    # Format to hourly and trim if requested\n",
    "    if not merged_logs.empty and trim_base_df:\n",
    "        temp = merged_logs.resample('h').sum()\n",
    "        temp.drop(temp.head(1).index, inplace=True)\n",
    "        temp.drop(temp.tail(1).index, inplace=True)\n",
    "        temp.loc[temp['counts'] == 0] = np.nan\n",
    "        temp = temp[temp.first_valid_index():]\n",
    "        merged_logs = temp\n",
    "\n",
    "    if not log_df.empty and trim_log_df:\n",
    "        temp = log_df.resample('h').sum()\n",
    "        temp.drop(temp.head(1).index, inplace=True)\n",
    "        temp.drop(temp.tail(1).index, inplace=True)\n",
    "        temp.loc[temp['counts'] == 0] = np.nan\n",
    "        temp = temp[temp.first_valid_index():]\n",
    "        log_df = temp\n",
    "\n",
    "    # Check if df is not empty after trimming and perform merge\n",
    "    if not merged_logs.empty and not log_df.empty:\n",
    "\n",
    "        # Extract first date from log df to be merged at end of current base df\n",
    "        first_log_date = str(log_df.head(1).index[0])\n",
    "        # Extract last date from base df\n",
    "        last_log_date = str(merged_logs.tail(1).index[0])\n",
    "\n",
    "        # Check if dates are equal or in the right chronological order ascending\n",
    "        if str(merged_logs.head(1).index[0]) <= first_log_date:\n",
    "            # If able to find first log date from log df on merged_logs, no detector \n",
    "            # has shutdown and just need to add at end of file whatever is not yet part of base df\n",
    "            try:\n",
    "                bf_first_log_date = str(merged_logs.iloc[merged_logs.get_loc(first_log_date) - 1].name)\n",
    "                print('No shutdown since last log data integration')\n",
    "                # Merge\n",
    "                merged = pd.concat([merged_logs, log_df])\n",
    "                final_merged_logs = merged[~merged.index.duplicated(keep='last')]\n",
    "                # Sort fixed merged log files\n",
    "                merged = final_merged_logs.sort_index()\n",
    "            \n",
    "            # else, logs must be merged considering missing counts due to detector shutoff time\n",
    "            except:\n",
    "                print('Last log date bf shutdown: ', last_log_date, '\\nFirst log date after shutdown: ', first_log_date)\n",
    "                # Create continuous range of dates to complete df timeline for missing date indexes\n",
    "                date_range = pd.date_range(start=last_log_date, end=first_log_date, freq=lfreq, tz='UTC')\n",
    "                # Create df containing missing dates as index and np.nan values\n",
    "                offline_df = pd.DataFrame(index=date_range, columns=merged_logs.columns, data=np.nan)\n",
    "                # Update current logs to include missing detector data time stamps but with nan values for graph\n",
    "                complete_logs = pd.concat([offline_df, log_df])\n",
    "                merged = pd.concat([merged_logs, complete_logs])\n",
    "                final_merged_logs = merged[~merged.index.duplicated(keep='last')]\n",
    "                # Sort fixed merged log files\n",
    "                merged = final_merged_logs.sort_index()\n",
    "\n",
    "        # Reverse which file is merged at end of the other to ensure chronological order\n",
    "        else:\n",
    "            # Extract first date from log df to be merged at end of current base df\n",
    "            first_log_date = str(merged_logs.head(1).index[0])\n",
    "            # Extract last date from base df\n",
    "            last_log_date = str(log_df.tail(1).index[0])\n",
    "\n",
    "            try:\n",
    "                bf_first_log_date = str(log_df.iloc[log_df.get_loc(first_log_date) - 1].name)\n",
    "                print('No shutdown since last log data integration')\n",
    "                # Merge\n",
    "                merged = pd.concat([log_df, merged_logs])\n",
    "                final_merged_logs = merged[~merged.index.duplicated(keep='last')]\n",
    "                # Sort fixed merged log files\n",
    "                merged = final_merged_logs.sort_index()\n",
    "            \n",
    "            # else, logs must be merged considering missing counts due to detector shutoff time\n",
    "            except:\n",
    "                print('Last log date bf shutdown: ', last_log_date, '\\nFirst log date after shutdown: ', first_log_date)\n",
    "                # Create continuous range of dates to complete df timeline for missing date indexes\n",
    "                date_range = pd.date_range(start=last_log_date, end=first_log_date, freq=lfreq, tz='UTC')\n",
    "                # Create df containing missing dates as index and np.nan values\n",
    "                offline_df = pd.DataFrame(index=date_range, columns=merged_logs.columns, data=np.nan)\n",
    "                # Update current logs to include missing detector data time stamps but with nan values for graph\n",
    "                complete_logs = pd.concat([offline_df, merged_logs])\n",
    "                merged = pd.concat([log_df, complete_logs])\n",
    "                final_merged_logs = merged[~merged.index.duplicated(keep='last')]\n",
    "                # Sort fixed merged log files\n",
    "                merged = final_merged_logs.sort_index()\n",
    "    \n",
    "    # Only merged logs remains after trimming\n",
    "    elif not merged_logs.empty:\n",
    "        merged = merged_logs\n",
    "    # Only log df remains after trimming\n",
    "    elif not log_df.empty:\n",
    "        merged = log_df\n",
    "    # None have data, return empty df\n",
    "    else:\n",
    "        merged = pd.DataFrame()\n",
    "\n",
    "    return merged"
   ]
  },
  {
   "cell_type": "markdown",
   "metadata": {},
   "source": [
    "## Merge log dfs - merges list of logs together, and if provided, merges that list to a csv file"
   ]
  },
  {
   "cell_type": "code",
   "execution_count": 9,
   "metadata": {},
   "outputs": [],
   "source": [
    "def merge_log_dfs(monitor_name, log_dfs_list, logs_csv=None):\n",
    "    ''' \n",
    "    Organizes each log df within a list of dfs chronologically, then merges them all.\n",
    "    This includes adding missing time between end of one log to the other as np.NaN\n",
    "    values due to monitor shutdowns.\n",
    "\n",
    "    Args:       log_dfs_list -> list containing n number of log dfs from a specific\n",
    "                                monitor data folder\n",
    "                logs_csv    ->  Variable in case it is a log file being merged to a csv df or file\n",
    "                                Originally set to None\n",
    "    Returns:    merged pandas df with all logs\n",
    "\n",
    "    '''\n",
    "    if len(log_dfs_list) == 0 or log_dfs_list == None:\n",
    "        print('Given list of log dfs is empty. Try again with to run the all_monitor_logs_to_dfs() with correct file path')\n",
    "    elif len(log_dfs_list) > 1:\n",
    "        \n",
    "        # Sort logs from latest to earliest based on initial log date to ensure optimal merging\n",
    "        # Extract first row date of each log df into list\n",
    "        logs_l = [str(df.head(1).index[0]) for df in log_dfs_list]\n",
    "        # Make dictionary containing index of corresponding date on provided logs list\n",
    "        logs_dict = {}\n",
    "        for i in range(len(logs_l)):\n",
    "            logs_dict[logs_l[i]] = i\n",
    "        # sort values in ascending order\n",
    "        logs_l.sort()\n",
    "        # Create sorted list of logs\n",
    "        new_logs_df_list = []\n",
    "        for i in range(len(logs_l)):\n",
    "            new_logs_df_list.append(log_dfs_list[logs_dict[logs_l[i]]])\n",
    "        \n",
    "        # Extract first df on list and merged with next, then repeat\n",
    "        merged_logs = new_logs_df_list[0].copy(deep=True)\n",
    "        # Extract frequency of data from given monitor\n",
    "        lfreq = monitor_settings[monitor_name]['freq']\n",
    "        # Flag for initial merged df to be trimmed for incomplete hourly logs\n",
    "        trim_merged = True\n",
    "\n",
    "        # Navigate through list of dfs and merge\n",
    "        for i in range(1, len(new_logs_df_list)):\n",
    "            print(f'Log file index {i}')\n",
    "            merged_logs = merge_adding_all_timestamps_hourly(merged_logs, new_logs_df_list[i], lfreq, trim_merged, True)\n",
    "            trim_merged = False # Set flag to false to no longer trim base df as it has been done\n",
    "\n",
    "    # Else, the df list only has one df so no merging within list\n",
    "    else: \n",
    "        merged_logs = new_logs_df_list[0].copy(deep=True)\n",
    "        # Sample by hour\n",
    "        merged_logs1 = merged_logs.resample('h').sum()\n",
    "        # Trim first and last hour because of data missing due to log being incomplete\n",
    "        merged_logs1.drop(merged_logs1.head(1).index, inplace=True)\n",
    "        merged_logs1.drop(merged_logs1.tail(1).index, inplace=True)\n",
    "        # Reassign for return statement accuracy\n",
    "        merged_logs = merged_logs1\n",
    "        \n",
    "    # If a csv filepath or csv df has been provided for merging with bulk merging of any logs within log list\n",
    "    if logs_csv != None:\n",
    "        # If csv file is given as a name path string\n",
    "        if type(logs_csv) == str and logs_csv[-3:] == 'csv':\n",
    "            # CSV file into a dataframe and format to have datetime and numeric columns\n",
    "            df1 = pd.read_csv(logs_csv, names=['date','counts'])[1:] # Remove extra first row\n",
    "            df1[\"date\"] = pd.to_datetime(df1['date'])\n",
    "            df1['date'] = df1['date'].dt.tz_convert('UTC') # convert time zone to UTC\n",
    "            df1 = df1.set_index('date')\n",
    "            df1[\"counts\"] = df1[\"counts\"].apply(pd.to_numeric)\n",
    "        # Else, it is a pandas df\n",
    "        elif type(logs_csv) == pd.core.frame.DataFrame:\n",
    "            df1 = logs_csv.copy(deep=True)\n",
    "\n",
    "        # Else, file type is not a csv nor df\n",
    "        else:\n",
    "            print('Please provide a file with csv or dataframe format for the logs_csv variable!')\n",
    "\n",
    "        # Merge the merged logs dfs into the csv df\n",
    "        merged_logs = merge_adding_all_timestamps_hourly(df1, merged_logs, lfreq, True, False)\n",
    "\n",
    "    return merged_logs"
   ]
  },
  {
   "cell_type": "markdown",
   "metadata": {},
   "source": [
    "## Formats csv containing only dates and counts, any other format will fail"
   ]
  },
  {
   "cell_type": "code",
   "execution_count": 10,
   "metadata": {},
   "outputs": [],
   "source": [
    "def format_csv(csv_path):\n",
    "    # CSV file into a dataframe and format to have datetime and numeric columns\n",
    "    df1 = pd.read_csv(csv_path, names=['date','counts'])[1:] # Remove extra first row\n",
    "    df1[\"date\"] = pd.to_datetime(df1['date'])\n",
    "    df1['date'] = df1['date'].dt.tz_convert('UTC') # convert time zone to UTC\n",
    "    df1 = df1.set_index('date')\n",
    "    df1[\"counts\"] = df1[\"counts\"].apply(pd.to_numeric)\n",
    "    return df1"
   ]
  },
  {
   "cell_type": "markdown",
   "metadata": {},
   "source": [
    "## Creates csv and sends it to DB"
   ]
  },
  {
   "cell_type": "code",
   "execution_count": 11,
   "metadata": {},
   "outputs": [],
   "source": [
    "def process_and_save_logs(monitor_name, csv_path=None):\n",
    "\n",
    "    print(f'Processing any logs for monitor {monitor_name}')\n",
    "    # Get list of all monitor logs into a df\n",
    "    log_dfs_list = all_monitor_logs_to_dfs(monitor_name)\n",
    "    # Merge all found logs to df\n",
    "    hourly_logs = merge_log_dfs(monitor_name.replace('/',''), log_dfs_list)\n",
    "\n",
    "    if csv_path != None:\n",
    "        hourly_logs = merge_log_dfs(monitor_name.replace('/',''), hourly_logs, logs_csv=csv_path)\n",
    "\n",
    "    # Create CSV\n",
    "    new_csv=f'{monitor_name.replace('/','_')}_all_logs.csv'\n",
    "    hourly_logs.to_csv(f'../data/{monitor_name}/{new_csv}')\n",
    "\n",
    "    # Check formatting of name doesn't have number up front\n",
    "    monitor_name = monitor_name.replace('/','').lower()\n",
    "    if monitor_name.startswith('2') or monitor_name.startswith('4'):\n",
    "        monitor_name = monitor_name[1:]+monitor_name[0]\n",
    "\n",
    "    # Assumes DB connections have been established\n",
    "    # Send to DB via SQLALCHEMY\n",
    "    hourly_logs.to_sql(\n",
    "        con=engine, name=f'{monitor_name}', if_exists='replace', index_label='date')\n",
    "    print('Table sent to DB successfully')\n",
    "\n",
    "    # Make primary key for table via PSYCOPG2\n",
    "    cur = conn.cursor()\n",
    "    cur.execute(f\"\"\"ALTER TABLE {monitor_name} ADD PRIMARY KEY (date)\"\"\")\n",
    "    conn.commit()\n",
    "    cur.close()\n",
    "    print('Query for primary key sent successfully')"
   ]
  },
  {
   "cell_type": "markdown",
   "metadata": {},
   "source": [
    "## What to do with this?"
   ]
  },
  {
   "cell_type": "code",
   "execution_count": null,
   "metadata": {},
   "outputs": [],
   "source": [
    "def log_to_df(log_file):\n",
    "    ''' \n",
    "    Transforms a given log file to a pandas dataframe already formatted with columns date and counts, \n",
    "    and only follows format of paddle2, paddle4, and markv log files\n",
    "\n",
    "    Args:       log_file -> name of log file including path location\n",
    "    Returns:    pandas df\n",
    "\n",
    "    '''\n",
    "\n",
    "    # Create new df with downloaded logs file, example name -> \"./logs/4Paddle_2024-08-07_to_2024-08-16.log\"\n",
    "    df = pd.read_csv(log_file, sep='\\t', names=['counts'])\n",
    "    # Split data by spacing, then into a group of 3 elements (i.e., column 1: 385 column 2: 0 column 3:0 column 4: Wed Oct 11 17:17:30 2023)\n",
    "    df = df['counts'].str.split(\" \", n=3, expand=True)\n",
    "    # Create df and indicate column names for new columns\n",
    "    df2 = pd.DataFrame(df.values, columns=[\"counts\", \"junk1\", \"junk2\", \"date\"])\n",
    "    \n",
    "    # Format date column to date value\n",
    "    df2[\"date\"] = pd.to_datetime(df2['date'], format=\"%a %b %d %H:%M:%S %Y\")\n",
    "    # Transform date into current timezone\n",
    "    df2['date'] = df2['date'].dt.tz_localize('America/New_York', ambiguous='infer')\n",
    "    # convert time zone to UTC (Cordinated Universal Time)\n",
    "    df2['date'] = df2['date'].dt.tz_convert('UTC')\n",
    "\n",
    "    # make date column the index\n",
    "    df2 = df2.set_index('date')\n",
    "\n",
    "    # convert counts column data to numeric format -> in case strings appear, it won't cause errors in contrast with astype(int)\n",
    "    df2[\"counts\"] = df2[\"counts\"].apply(pd.to_numeric)\n",
    "\n",
    "    # clean df by removing columns junk1 and junk2\n",
    "    df2.drop(df2.columns[[1, 2]], axis=1, inplace=True)\n",
    "    \n",
    "    # Remove any errors due to NaT values on index date column\n",
    "    try:\n",
    "        df2_c = df2.drop('NaT')\n",
    "    except:\n",
    "        df2_c = df2\n",
    "    print('Log file first and last records bf trimming: \\n', df2_c.head(1), '\\n', df2_c.tail(1))\n",
    "\n",
    "    # resampling hourly and getting sum due to logs being recorded for every minute\n",
    "    df2_hourly = df2_c.resample('h').sum()\n",
    "    \n",
    "    # Drop first and last hour on log file due to hourly data count giving innacurate total\n",
    "    # resulting from starting and ending halfway through the hour/incomplete count\n",
    "    df2_hourly.drop(df2_hourly.head(1).index, inplace=True)\n",
    "    df2_hourly.drop(df2_hourly.tail(1).index, inplace=True)\n",
    "    print('Log file first and last records after trimming: \\n', df2_hourly.head(1), '\\n', df2_hourly.tail(1))\n",
    "\n",
    "    return df2_hourly"
   ]
  },
  {
   "cell_type": "code",
   "execution_count": null,
   "metadata": {},
   "outputs": [],
   "source": [
    "def merge_csv_with_logs(logs_csv, new_logs):\n",
    "    ''' \n",
    "    Merges any available csv with a given log file of a specific format and naming convention like \n",
    "    2Paddle, 4Paddle, and MarkV log files.\n",
    "    \n",
    "    Args:       logs_csv -> csv file name containing all merged logs since last execution of function\n",
    "                new_logs -> log file name downloaded from a detector server by the cosmic server, then\n",
    "                        downloaded to the database server for this web app\n",
    "                new_csv_name -> string for new file's name\n",
    "            \n",
    "    Returns:   merged_logs -> csv file with all merged logs as df, then also stores new csv version\n",
    "    \n",
    "    * DISCLAIMER: It assumes the paths for the csv file is fixed and no need\n",
    "    to be directly provided. If administrator changes path route, he must correctly assign new path\n",
    "\n",
    "    '''\n",
    "    # If file is given as a name path string\n",
    "    if type(logs_csv) == str and logs_csv[-3:] == 'csv':\n",
    "        # CSV file into a dataframe and format to have datetime and numeric columns\n",
    "        df1 = pd.read_csv(logs_csv, names=['date','counts'])[1:] # Remove extra first row\n",
    "        df1[\"date\"] = pd.to_datetime(df1['date'])\n",
    "        df1['date'] = df1['date'].dt.tz_convert('UTC') # convert time zone to UTC\n",
    "        df1 = df1.set_index('date')\n",
    "        df1[\"counts\"] = df1[\"counts\"].apply(pd.to_numeric)\n",
    "    \n",
    "    # Else, it is a log file never formatted before\n",
    "    elif type(logs_csv) == str and logs_csv[-3:] in ['log','dat']:\n",
    "        df1 = log_to_df(logs_csv)\n",
    "        \n",
    "    # Else, it is a pandas df\n",
    "    elif type(logs_csv) == pd.core.frame.DataFrame:\n",
    "        df1 = logs_csv.copy(deep=True)\n",
    "\n",
    "    # Else, file type is not a csv nor df\n",
    "    else:\n",
    "        print('Please provide a file with csv or dataframe format!')\n",
    "\n",
    "    print('CSV first and last records: \\n', df1.head(1), '\\n', df1.tail(1))\n",
    "\n",
    "    # Create new df with downloaded logs file, example name -> \"./logs/4Paddle_2024-08-07_to_2024-08-16.log\"\n",
    "    df2 = pd.read_csv(new_logs, sep='\\t', names=['counts'])\n",
    "    # Split data by spacing, then into a group of 3 elements (i.e., column 1: 385 column 2: 0 column 3:0 column 4: Wed Oct 11 17:17:30 2023)\n",
    "    df2 = df2['counts'].str.split(\" \", n=3, expand=True)\n",
    "    # Create df and indicate column names for new columns\n",
    "    dft2 = pd.DataFrame(df2.values, columns=[\"counts\", \"junk1\", \"junk2\", \"date\"])\n",
    "    \n",
    "    # Format date column to date value\n",
    "    dft2[\"date\"] = pd.to_datetime(dft2['date'], format=\"%a %b %d %H:%M:%S %Y\")\n",
    "    # Transform date into current timezone\n",
    "    dft2['date'] = dft2['date'].dt.tz_localize('America/New_York', ambiguous='infer')\n",
    "    # convert time zone to UTC (Cordinated Universal Time)\n",
    "    dft2['date'] = dft2['date'].dt.tz_convert('UTC')\n",
    "\n",
    "    # make date column the index\n",
    "    dft2 = dft2.set_index('date')\n",
    "\n",
    "    # convert counts column data to numeric format -> in case strings appear, it won't cause errors in contrast with astype(int)\n",
    "    dft2[\"counts\"] = dft2[\"counts\"].apply(pd.to_numeric)\n",
    "\n",
    "    # clean df by removing columns junk1 and junk2\n",
    "    dft2.drop(dft2.columns[[1, 2]], axis=1, inplace=True)\n",
    "\n",
    "    # resampling hourly and getting sum due to logs being recorded for every minute\n",
    "    dft2_hourly = dft2.resample('h').sum()\n",
    "    \n",
    "    # Drop first and last hour on log file due to hourly data count giving innacurate total\n",
    "    # resulting from starting and ending halfway through the hour/incomplete count\n",
    "    dft2_hourly.drop(dft2_hourly.head(1).index, inplace=True)\n",
    "    dft2_hourly.drop(dft2_hourly.tail(1).index, inplace=True)\n",
    "    print('Log file first and last records: \\n', dft2_hourly.head(1), '\\n', dft2_hourly.tail(1))\n",
    "    \n",
    "\n",
    "    # Merge, keeping latest duplicated indexes into file since they are most likely to have counts\n",
    "    merged_logs = pd.concat([df1, dft2_hourly])\n",
    "    final_merged_logs = merged_logs[~merged_logs.index.duplicated(keep='last')]\n",
    "    # Sort form earliest to latest time\n",
    "    final_merged_logs2 = final_merged_logs.sort_index()\n",
    "\n",
    "    # Merged logs into a csv file\n",
    "    return final_merged_logs2"
   ]
  },
  {
   "cell_type": "markdown",
   "metadata": {},
   "source": [
    "# Monitor data merging and formatting"
   ]
  },
  {
   "cell_type": "markdown",
   "metadata": {},
   "source": [
    "# 2Paddle merging"
   ]
  },
  {
   "cell_type": "code",
   "execution_count": null,
   "metadata": {},
   "outputs": [],
   "source": [
    "# Merging 2Paddle csvs with logs\n",
    "csvname='../data/2Paddle/2paddle_merged_01_12.csv'\n",
    "logs='../data/2Paddle/2024-05-14_08h58m44s_CH1--020mV_CH2--020mV_CH2--020mV_CH2--020mV_EXT-F.dat'\n",
    "paddle2_merged = merge_csv_with_logs(csvname,logs)"
   ]
  },
  {
   "cell_type": "code",
   "execution_count": null,
   "metadata": {},
   "outputs": [],
   "source": [
    "logs='../data/2Paddle/2Paddle_2024-07-11_to_2024-08-22.log'\n",
    "paddle2_merged1 = merge_csv_with_logs(paddle2_merged, logs)"
   ]
  },
  {
   "cell_type": "code",
   "execution_count": null,
   "metadata": {},
   "outputs": [],
   "source": [
    "logs='../data/2Paddle/2paddle.log'\n",
    "paddle2_merged2 = merge_csv_with_logs(paddle2_merged1, logs)"
   ]
  },
  {
   "cell_type": "code",
   "execution_count": null,
   "metadata": {},
   "outputs": [],
   "source": [
    "new_csv='2paddle_2022_08_03_to_2024_08_22.csv'\n",
    "paddle2_merged2.to_csv(f'../data/2Paddle/{new_csv}')"
   ]
  },
  {
   "cell_type": "code",
   "execution_count": null,
   "metadata": {},
   "outputs": [],
   "source": [
    "paddle2_merged2.to_sql(\n",
    "    con=engine, name='paddle2', if_exists='replace', index_label='date')\n",
    "print('Table sent to db successfully')"
   ]
  },
  {
   "cell_type": "code",
   "execution_count": null,
   "metadata": {},
   "outputs": [],
   "source": [
    "# Fixing csv bc I did not add np.nan values prior to developing final function below\n",
    "csv_path = '../data/2Paddle/2paddle_2022_08_03_to_2024_08_22.csv'\n",
    "csv = format_csv(csv_path)\n",
    "date_range = pd.date_range(start=str(csv.head(1).index[0]), end=str(csv.tail(1).index[0]), freq='1h', tz='UTC')\n",
    "offline_df = pd.DataFrame(index=date_range, columns=csv.columns, data=np.nan)\n",
    "complete_logs = pd.concat([offline_df, csv])\n",
    "merged = complete_logs[~complete_logs.index.duplicated(keep='last')]\n",
    "final_merged_logs = merged.sort_index()\n",
    "\n",
    "# Send it to db again\n",
    "final_merged_logs.to_sql(\n",
    "    con=engine, name='paddle2', if_exists='replace', index_label='date')\n",
    "print('Table sent to db successfully')\n",
    "\n",
    "# Make primary key for table via PSYCOPG2\n",
    "cur = conn.cursor()\n",
    "cur.execute(f\"\"\"ALTER TABLE paddle2 ADD PRIMARY KEY (date)\"\"\")\n",
    "conn.commit()\n",
    "cur.close()\n",
    "print('Query for primary key sent successfully')"
   ]
  },
  {
   "cell_type": "code",
   "execution_count": null,
   "metadata": {},
   "outputs": [],
   "source": [
    "csv_path = '../data/2Paddle/2paddle_all_logs.csv'\n",
    "final_merged_logs.to_csv(csv_path)"
   ]
  },
  {
   "cell_type": "markdown",
   "metadata": {},
   "source": [
    "# 4Paddle merging"
   ]
  },
  {
   "cell_type": "code",
   "execution_count": null,
   "metadata": {},
   "outputs": [],
   "source": [
    "csvname='../data/4Paddle/4paddle_merged_01_08.csv'\n",
    "logs='../data/4Paddle/4Paddle_2024-08-07_to_2024-08-22.log'\n",
    "paddle4_merged = merge_csv_with_logs(csvname,logs)"
   ]
  },
  {
   "cell_type": "code",
   "execution_count": null,
   "metadata": {},
   "outputs": [],
   "source": [
    "logs='../data/4Paddle/4paddle.log'\n",
    "paddle4_merged1 = merge_csv_with_logs(paddle4_merged, logs)"
   ]
  },
  {
   "cell_type": "code",
   "execution_count": null,
   "metadata": {},
   "outputs": [],
   "source": [
    "new_csv='4paddle_2019_01_17_to_2024_08_22.csv'\n",
    "paddle4_merged1.to_csv(f'../data/4Paddle/{new_csv}')"
   ]
  },
  {
   "cell_type": "code",
   "execution_count": null,
   "metadata": {},
   "outputs": [],
   "source": [
    "paddle4_merged1.to_sql(\n",
    "    con=engine, name='paddle4', if_exists='replace', index_label='date')\n",
    "print('Table sent to db successfully')"
   ]
  },
  {
   "cell_type": "code",
   "execution_count": null,
   "metadata": {},
   "outputs": [],
   "source": [
    "# Fixing csv bc I did not add np.nan values prior to developing final addressing all\n",
    "csv_path = '../data/4Paddle/4paddle_2019_01_17_to_2024_08_22.csv'\n",
    "csv = format_csv(csv_path)\n",
    "date_range = pd.date_range(start=str(csv.head(1).index[0]), end=str(csv.tail(1).index[0]), freq='1h', tz='UTC')\n",
    "offline_df = pd.DataFrame(index=date_range, columns=csv.columns, data=np.nan)\n",
    "complete_logs = pd.concat([offline_df, csv])\n",
    "merged = complete_logs[~complete_logs.index.duplicated(keep='last')]\n",
    "final_merged_logs = merged.sort_index()\n",
    "\n",
    "csv_path = '../data/4Paddle/4paddle_all_logs.csv'\n",
    "final_merged_logs.to_csv(csv_path)\n",
    "\n",
    "# Send it to db again\n",
    "final_merged_logs.to_sql(\n",
    "    con=engine, name='paddle4', if_exists='replace', index_label='date')\n",
    "print('Table sent to db successfully')\n",
    "\n",
    "# Make primary key for table via PSYCOPG2\n",
    "cur = conn.cursor()\n",
    "cur.execute(f\"\"\"ALTER TABLE paddle4 ADD PRIMARY KEY (date)\"\"\")\n",
    "conn.commit()\n",
    "cur.close()\n",
    "print('Query for primary key sent successfully')"
   ]
  },
  {
   "cell_type": "markdown",
   "metadata": {},
   "source": [
    "# MarkV merging"
   ]
  },
  {
   "cell_type": "code",
   "execution_count": null,
   "metadata": {},
   "outputs": [],
   "source": [
    "log_file='../data/MarkV/2020-07-09_09h51m36s_CH1-0100mV_CH2-0100mV_CH2-0100mV_CH2-0100mV_EXT-T.dat'\n",
    "logs_csv = log_to_df(log_file)\n",
    "\n",
    "log_file='../data/MarkV/2020-12-23_14h38m11s_CH1-0100mV_CH2-0100mV_CH2-0100mV_CH2-0100mV_EXT-T.dat'\n",
    "markv_merged = merge_csv_with_logs(logs_csv, log_file)"
   ]
  },
  {
   "cell_type": "code",
   "execution_count": null,
   "metadata": {},
   "outputs": [],
   "source": [
    "log_file='../data/MarkV/2021-03-22_17h25m31s_CH1-0100mV_CH2-0100mV_CH2-0100mV_CH2-0100mV_EXT-T.dat'\n",
    "markv_merged2 = merge_csv_with_logs(markv_merged, log_file)"
   ]
  },
  {
   "cell_type": "code",
   "execution_count": null,
   "metadata": {},
   "outputs": [],
   "source": [
    "log_file='../data/MarkV/2021-05-25_12h10m31s_CH1-0100mV_CH2-0100mV_CH2-0100mV_CH2-0100mV_EXT-T.dat'\n",
    "markv_merged3 = merge_csv_with_logs(markv_merged2, log_file)"
   ]
  },
  {
   "cell_type": "code",
   "execution_count": null,
   "metadata": {},
   "outputs": [],
   "source": [
    "log_file='../data/MarkV/2021-07-08_10h00m51s_CH1-0100mV_CH2-0100mV_CH2-0100mV_CH2-0100mV_EXT-T.dat'\n",
    "markv_merged4 = merge_csv_with_logs(markv_merged3, log_file)"
   ]
  },
  {
   "cell_type": "code",
   "execution_count": null,
   "metadata": {},
   "outputs": [],
   "source": [
    "log_file='../data/MarkV/2021-11-24_11h09m18s_CH1-0100mV_CH2-0100mV_CH2-0100mV_CH2-0100mV_EXT-T.dat'\n",
    "markv_merged5 = merge_csv_with_logs(markv_merged4, log_file)"
   ]
  },
  {
   "cell_type": "code",
   "execution_count": null,
   "metadata": {},
   "outputs": [],
   "source": [
    "log_file='../data/MarkV/MarkV_2022-08-08_to_2024-08-22.log'\n",
    "markv_merged6 = merge_csv_with_logs(markv_merged5, log_file)"
   ]
  },
  {
   "cell_type": "code",
   "execution_count": null,
   "metadata": {},
   "outputs": [],
   "source": [
    "new_csv='MarkV_2020_07_09_to_2023_02_18.csv'\n",
    "markv_merged6.to_csv(f'../data/MarkV/{new_csv}')"
   ]
  },
  {
   "cell_type": "code",
   "execution_count": null,
   "metadata": {},
   "outputs": [],
   "source": [
    "markv_merged6.to_sql(\n",
    "    con=engine, name='markv', if_exists='replace', index_label='date')\n",
    "print('Table sent to db successfully')"
   ]
  },
  {
   "cell_type": "code",
   "execution_count": null,
   "metadata": {},
   "outputs": [],
   "source": [
    "# Fixing csv bc I did not add np.nan values prior to developing final addressing all\n",
    "csv_path = '../data/MarkV/MarkV_2020_07_09_to_2023_02_18.csv'\n",
    "csv = format_csv(csv_path)\n",
    "date_range = pd.date_range(start=str(csv.head(1).index[0]), end=str(csv.tail(1).index[0]), freq='1h', tz='UTC')\n",
    "offline_df = pd.DataFrame(index=date_range, columns=csv.columns, data=np.nan)\n",
    "complete_logs = pd.concat([offline_df, csv])\n",
    "merged = complete_logs[~complete_logs.index.duplicated(keep='last')]\n",
    "final_merged_logs = merged.sort_index()\n",
    "\n",
    "csv_path = '../data/MarkV/MarkV_all_logs.csv'\n",
    "final_merged_logs.to_csv(csv_path)\n",
    "\n",
    "# Send it to db again\n",
    "final_merged_logs.to_sql(\n",
    "    con=engine, name='markv', if_exists='replace', index_label='date')\n",
    "print('Table sent to db successfully')\n",
    "\n",
    "# Make primary key for table via PSYCOPG2\n",
    "cur = conn.cursor()\n",
    "cur.execute(f\"\"\"ALTER TABLE markv ADD PRIMARY KEY (date)\"\"\")\n",
    "conn.commit()\n",
    "cur.close()\n",
    "print('Query for primary key sent successfully')"
   ]
  },
  {
   "cell_type": "markdown",
   "metadata": {},
   "source": [
    "# Abuja Merging"
   ]
  },
  {
   "cell_type": "code",
   "execution_count": null,
   "metadata": {},
   "outputs": [],
   "source": [
    "process_and_save_logs('Abuja')"
   ]
  },
  {
   "cell_type": "markdown",
   "metadata": {},
   "source": [
    "# APO Merging"
   ]
  },
  {
   "cell_type": "code",
   "execution_count": 191,
   "metadata": {},
   "outputs": [
    {
     "name": "stdout",
     "output_type": "stream",
     "text": [
      "Processing any logs for monitor APO\n",
      "First date for formatting:  Mon Feb 26 14:08:01 2024\n"
     ]
    },
    {
     "name": "stderr",
     "output_type": "stream",
     "text": [
      "/var/folders/tg/f26try5n4pq7thttks3b9fs00000gn/T/ipykernel_57051/3499167562.py:45: SettingWithCopyWarning: \n",
      "A value is trying to be set on a copy of a slice from a DataFrame.\n",
      "Try using .loc[row_indexer,col_indexer] = value instead\n",
      "\n",
      "See the caveats in the documentation: https://pandas.pydata.org/pandas-docs/stable/user_guide/indexing.html#returning-a-view-versus-a-copy\n",
      "  ldf['date'] = pd.to_datetime(ldf['date'], format='mixed')\n",
      "/var/folders/tg/f26try5n4pq7thttks3b9fs00000gn/T/ipykernel_57051/3499167562.py:48: SettingWithCopyWarning: \n",
      "A value is trying to be set on a copy of a slice from a DataFrame.\n",
      "Try using .loc[row_indexer,col_indexer] = value instead\n",
      "\n",
      "See the caveats in the documentation: https://pandas.pydata.org/pandas-docs/stable/user_guide/indexing.html#returning-a-view-versus-a-copy\n",
      "  ldf['date'] = ldf['date'].dt.tz_localize(monitor_tz, ambiguous='infer', nonexistent='shift_forward')\n",
      "/var/folders/tg/f26try5n4pq7thttks3b9fs00000gn/T/ipykernel_57051/3499167562.py:50: SettingWithCopyWarning: \n",
      "A value is trying to be set on a copy of a slice from a DataFrame.\n",
      "Try using .loc[row_indexer,col_indexer] = value instead\n",
      "\n",
      "See the caveats in the documentation: https://pandas.pydata.org/pandas-docs/stable/user_guide/indexing.html#returning-a-view-versus-a-copy\n",
      "  ldf['date'] = ldf['date'].dt.tz_convert('UTC')\n"
     ]
    },
    {
     "name": "stdout",
     "output_type": "stream",
     "text": [
      "First date for formatting:  Mon Feb 26 14:08:01 2024\n"
     ]
    },
    {
     "name": "stderr",
     "output_type": "stream",
     "text": [
      "/var/folders/tg/f26try5n4pq7thttks3b9fs00000gn/T/ipykernel_57051/3499167562.py:45: SettingWithCopyWarning: \n",
      "A value is trying to be set on a copy of a slice from a DataFrame.\n",
      "Try using .loc[row_indexer,col_indexer] = value instead\n",
      "\n",
      "See the caveats in the documentation: https://pandas.pydata.org/pandas-docs/stable/user_guide/indexing.html#returning-a-view-versus-a-copy\n",
      "  ldf['date'] = pd.to_datetime(ldf['date'], format='mixed')\n",
      "/var/folders/tg/f26try5n4pq7thttks3b9fs00000gn/T/ipykernel_57051/3499167562.py:48: SettingWithCopyWarning: \n",
      "A value is trying to be set on a copy of a slice from a DataFrame.\n",
      "Try using .loc[row_indexer,col_indexer] = value instead\n",
      "\n",
      "See the caveats in the documentation: https://pandas.pydata.org/pandas-docs/stable/user_guide/indexing.html#returning-a-view-versus-a-copy\n",
      "  ldf['date'] = ldf['date'].dt.tz_localize(monitor_tz, ambiguous='infer', nonexistent='shift_forward')\n",
      "/var/folders/tg/f26try5n4pq7thttks3b9fs00000gn/T/ipykernel_57051/3499167562.py:50: SettingWithCopyWarning: \n",
      "A value is trying to be set on a copy of a slice from a DataFrame.\n",
      "Try using .loc[row_indexer,col_indexer] = value instead\n",
      "\n",
      "See the caveats in the documentation: https://pandas.pydata.org/pandas-docs/stable/user_guide/indexing.html#returning-a-view-versus-a-copy\n",
      "  ldf['date'] = ldf['date'].dt.tz_convert('UTC')\n"
     ]
    },
    {
     "name": "stdout",
     "output_type": "stream",
     "text": [
      "First date for formatting:  Mon Feb 26 14:08:01 2024\n"
     ]
    },
    {
     "name": "stderr",
     "output_type": "stream",
     "text": [
      "/var/folders/tg/f26try5n4pq7thttks3b9fs00000gn/T/ipykernel_57051/3499167562.py:45: SettingWithCopyWarning: \n",
      "A value is trying to be set on a copy of a slice from a DataFrame.\n",
      "Try using .loc[row_indexer,col_indexer] = value instead\n",
      "\n",
      "See the caveats in the documentation: https://pandas.pydata.org/pandas-docs/stable/user_guide/indexing.html#returning-a-view-versus-a-copy\n",
      "  ldf['date'] = pd.to_datetime(ldf['date'], format='mixed')\n",
      "/var/folders/tg/f26try5n4pq7thttks3b9fs00000gn/T/ipykernel_57051/3499167562.py:48: SettingWithCopyWarning: \n",
      "A value is trying to be set on a copy of a slice from a DataFrame.\n",
      "Try using .loc[row_indexer,col_indexer] = value instead\n",
      "\n",
      "See the caveats in the documentation: https://pandas.pydata.org/pandas-docs/stable/user_guide/indexing.html#returning-a-view-versus-a-copy\n",
      "  ldf['date'] = ldf['date'].dt.tz_localize(monitor_tz, ambiguous='infer', nonexistent='shift_forward')\n",
      "/var/folders/tg/f26try5n4pq7thttks3b9fs00000gn/T/ipykernel_57051/3499167562.py:50: SettingWithCopyWarning: \n",
      "A value is trying to be set on a copy of a slice from a DataFrame.\n",
      "Try using .loc[row_indexer,col_indexer] = value instead\n",
      "\n",
      "See the caveats in the documentation: https://pandas.pydata.org/pandas-docs/stable/user_guide/indexing.html#returning-a-view-versus-a-copy\n",
      "  ldf['date'] = ldf['date'].dt.tz_convert('UTC')\n"
     ]
    },
    {
     "name": "stdout",
     "output_type": "stream",
     "text": [
      "First date for formatting:  Mon Feb 26 14:08:01 2024\n"
     ]
    },
    {
     "name": "stderr",
     "output_type": "stream",
     "text": [
      "/var/folders/tg/f26try5n4pq7thttks3b9fs00000gn/T/ipykernel_57051/3499167562.py:45: SettingWithCopyWarning: \n",
      "A value is trying to be set on a copy of a slice from a DataFrame.\n",
      "Try using .loc[row_indexer,col_indexer] = value instead\n",
      "\n",
      "See the caveats in the documentation: https://pandas.pydata.org/pandas-docs/stable/user_guide/indexing.html#returning-a-view-versus-a-copy\n",
      "  ldf['date'] = pd.to_datetime(ldf['date'], format='mixed')\n",
      "/var/folders/tg/f26try5n4pq7thttks3b9fs00000gn/T/ipykernel_57051/3499167562.py:48: SettingWithCopyWarning: \n",
      "A value is trying to be set on a copy of a slice from a DataFrame.\n",
      "Try using .loc[row_indexer,col_indexer] = value instead\n",
      "\n",
      "See the caveats in the documentation: https://pandas.pydata.org/pandas-docs/stable/user_guide/indexing.html#returning-a-view-versus-a-copy\n",
      "  ldf['date'] = ldf['date'].dt.tz_localize(monitor_tz, ambiguous='infer', nonexistent='shift_forward')\n",
      "/var/folders/tg/f26try5n4pq7thttks3b9fs00000gn/T/ipykernel_57051/3499167562.py:50: SettingWithCopyWarning: \n",
      "A value is trying to be set on a copy of a slice from a DataFrame.\n",
      "Try using .loc[row_indexer,col_indexer] = value instead\n",
      "\n",
      "See the caveats in the documentation: https://pandas.pydata.org/pandas-docs/stable/user_guide/indexing.html#returning-a-view-versus-a-copy\n",
      "  ldf['date'] = ldf['date'].dt.tz_convert('UTC')\n"
     ]
    },
    {
     "name": "stdout",
     "output_type": "stream",
     "text": [
      "First date for formatting:  Mon Feb 26 14:08:01 2024\n"
     ]
    },
    {
     "name": "stderr",
     "output_type": "stream",
     "text": [
      "/var/folders/tg/f26try5n4pq7thttks3b9fs00000gn/T/ipykernel_57051/3499167562.py:45: SettingWithCopyWarning: \n",
      "A value is trying to be set on a copy of a slice from a DataFrame.\n",
      "Try using .loc[row_indexer,col_indexer] = value instead\n",
      "\n",
      "See the caveats in the documentation: https://pandas.pydata.org/pandas-docs/stable/user_guide/indexing.html#returning-a-view-versus-a-copy\n",
      "  ldf['date'] = pd.to_datetime(ldf['date'], format='mixed')\n",
      "/var/folders/tg/f26try5n4pq7thttks3b9fs00000gn/T/ipykernel_57051/3499167562.py:48: SettingWithCopyWarning: \n",
      "A value is trying to be set on a copy of a slice from a DataFrame.\n",
      "Try using .loc[row_indexer,col_indexer] = value instead\n",
      "\n",
      "See the caveats in the documentation: https://pandas.pydata.org/pandas-docs/stable/user_guide/indexing.html#returning-a-view-versus-a-copy\n",
      "  ldf['date'] = ldf['date'].dt.tz_localize(monitor_tz, ambiguous='infer', nonexistent='shift_forward')\n",
      "/var/folders/tg/f26try5n4pq7thttks3b9fs00000gn/T/ipykernel_57051/3499167562.py:50: SettingWithCopyWarning: \n",
      "A value is trying to be set on a copy of a slice from a DataFrame.\n",
      "Try using .loc[row_indexer,col_indexer] = value instead\n",
      "\n",
      "See the caveats in the documentation: https://pandas.pydata.org/pandas-docs/stable/user_guide/indexing.html#returning-a-view-versus-a-copy\n",
      "  ldf['date'] = ldf['date'].dt.tz_convert('UTC')\n"
     ]
    },
    {
     "name": "stdout",
     "output_type": "stream",
     "text": [
      "Log file index 1\n",
      "Last log date bf shutdown:  2024-08-22 02:00:00+00:00 \n",
      "First log date after shutdown:  2024-02-26 22:00:00+00:00\n",
      "Log file index 2\n",
      "Last log date bf shutdown:  2024-08-22 02:00:00+00:00 \n",
      "First log date after shutdown:  2024-02-26 22:00:00+00:00\n",
      "Log file index 3\n",
      "Last log date bf shutdown:  2024-08-22 02:00:00+00:00 \n",
      "First log date after shutdown:  2024-02-26 22:00:00+00:00\n",
      "Log file index 4\n",
      "Last log date bf shutdown:  2024-08-22 02:00:00+00:00 \n",
      "First log date after shutdown:  2024-02-26 22:00:00+00:00\n"
     ]
    },
    {
     "name": "stderr",
     "output_type": "stream",
     "text": [
      "/var/folders/tg/f26try5n4pq7thttks3b9fs00000gn/T/ipykernel_57051/3977620479.py:41: FutureWarning: 'T' is deprecated and will be removed in a future version, please use 'min' instead.\n",
      "  date_range = pd.date_range(start=last_log_date, end=first_log_date, freq=lfreq, tz='UTC')\n",
      "/var/folders/tg/f26try5n4pq7thttks3b9fs00000gn/T/ipykernel_57051/3977620479.py:41: FutureWarning: 'T' is deprecated and will be removed in a future version, please use 'min' instead.\n",
      "  date_range = pd.date_range(start=last_log_date, end=first_log_date, freq=lfreq, tz='UTC')\n",
      "/var/folders/tg/f26try5n4pq7thttks3b9fs00000gn/T/ipykernel_57051/3977620479.py:41: FutureWarning: 'T' is deprecated and will be removed in a future version, please use 'min' instead.\n",
      "  date_range = pd.date_range(start=last_log_date, end=first_log_date, freq=lfreq, tz='UTC')\n",
      "/var/folders/tg/f26try5n4pq7thttks3b9fs00000gn/T/ipykernel_57051/3977620479.py:41: FutureWarning: 'T' is deprecated and will be removed in a future version, please use 'min' instead.\n",
      "  date_range = pd.date_range(start=last_log_date, end=first_log_date, freq=lfreq, tz='UTC')\n"
     ]
    },
    {
     "name": "stdout",
     "output_type": "stream",
     "text": [
      "Table sent to DB successfully\n",
      "Query for primary key sent successfully\n"
     ]
    }
   ],
   "source": [
    "process_and_save_logs('APO')"
   ]
  },
  {
   "cell_type": "markdown",
   "metadata": {},
   "source": [
    "# Chara Merging"
   ]
  },
  {
   "cell_type": "code",
   "execution_count": 28,
   "metadata": {},
   "outputs": [
    {
     "name": "stdout",
     "output_type": "stream",
     "text": [
      "Processing any logs for monitor Chara_Muon002\n",
      "First date for formatting:  2024-07-21T14:11:28.463Z\n",
      "DF date already timezone aware so no need!\n"
     ]
    },
    {
     "name": "stderr",
     "output_type": "stream",
     "text": [
      "/var/folders/tg/f26try5n4pq7thttks3b9fs00000gn/T/ipykernel_92211/3146678621.py:45: SettingWithCopyWarning: \n",
      "A value is trying to be set on a copy of a slice from a DataFrame.\n",
      "Try using .loc[row_indexer,col_indexer] = value instead\n",
      "\n",
      "See the caveats in the documentation: https://pandas.pydata.org/pandas-docs/stable/user_guide/indexing.html#returning-a-view-versus-a-copy\n",
      "  ldf['date'] = pd.to_datetime(ldf['date'], format='mixed')\n",
      "/var/folders/tg/f26try5n4pq7thttks3b9fs00000gn/T/ipykernel_92211/3146678621.py:53: SettingWithCopyWarning: \n",
      "A value is trying to be set on a copy of a slice from a DataFrame.\n",
      "Try using .loc[row_indexer,col_indexer] = value instead\n",
      "\n",
      "See the caveats in the documentation: https://pandas.pydata.org/pandas-docs/stable/user_guide/indexing.html#returning-a-view-versus-a-copy\n",
      "  ldf['date'] = ldf['date'].dt.tz_convert('UTC')\n"
     ]
    },
    {
     "name": "stdout",
     "output_type": "stream",
     "text": [
      "First date for formatting:  2024-07-21T14:11:28.463Z\n",
      "DF date already timezone aware so no need!\n"
     ]
    },
    {
     "name": "stderr",
     "output_type": "stream",
     "text": [
      "/var/folders/tg/f26try5n4pq7thttks3b9fs00000gn/T/ipykernel_92211/3146678621.py:45: SettingWithCopyWarning: \n",
      "A value is trying to be set on a copy of a slice from a DataFrame.\n",
      "Try using .loc[row_indexer,col_indexer] = value instead\n",
      "\n",
      "See the caveats in the documentation: https://pandas.pydata.org/pandas-docs/stable/user_guide/indexing.html#returning-a-view-versus-a-copy\n",
      "  ldf['date'] = pd.to_datetime(ldf['date'], format='mixed')\n",
      "/var/folders/tg/f26try5n4pq7thttks3b9fs00000gn/T/ipykernel_92211/3146678621.py:53: SettingWithCopyWarning: \n",
      "A value is trying to be set on a copy of a slice from a DataFrame.\n",
      "Try using .loc[row_indexer,col_indexer] = value instead\n",
      "\n",
      "See the caveats in the documentation: https://pandas.pydata.org/pandas-docs/stable/user_guide/indexing.html#returning-a-view-versus-a-copy\n",
      "  ldf['date'] = ldf['date'].dt.tz_convert('UTC')\n"
     ]
    },
    {
     "name": "stdout",
     "output_type": "stream",
     "text": [
      "First date for formatting:  2024-07-21T14:11:28.463Z\n",
      "DF date already timezone aware so no need!\n"
     ]
    },
    {
     "name": "stderr",
     "output_type": "stream",
     "text": [
      "/var/folders/tg/f26try5n4pq7thttks3b9fs00000gn/T/ipykernel_92211/3146678621.py:45: SettingWithCopyWarning: \n",
      "A value is trying to be set on a copy of a slice from a DataFrame.\n",
      "Try using .loc[row_indexer,col_indexer] = value instead\n",
      "\n",
      "See the caveats in the documentation: https://pandas.pydata.org/pandas-docs/stable/user_guide/indexing.html#returning-a-view-versus-a-copy\n",
      "  ldf['date'] = pd.to_datetime(ldf['date'], format='mixed')\n",
      "/var/folders/tg/f26try5n4pq7thttks3b9fs00000gn/T/ipykernel_92211/3146678621.py:53: SettingWithCopyWarning: \n",
      "A value is trying to be set on a copy of a slice from a DataFrame.\n",
      "Try using .loc[row_indexer,col_indexer] = value instead\n",
      "\n",
      "See the caveats in the documentation: https://pandas.pydata.org/pandas-docs/stable/user_guide/indexing.html#returning-a-view-versus-a-copy\n",
      "  ldf['date'] = ldf['date'].dt.tz_convert('UTC')\n"
     ]
    },
    {
     "name": "stdout",
     "output_type": "stream",
     "text": [
      "First date for formatting:  2024-07-21T14:11:28.463Z\n",
      "DF date already timezone aware so no need!\n"
     ]
    },
    {
     "name": "stderr",
     "output_type": "stream",
     "text": [
      "/var/folders/tg/f26try5n4pq7thttks3b9fs00000gn/T/ipykernel_92211/3146678621.py:45: SettingWithCopyWarning: \n",
      "A value is trying to be set on a copy of a slice from a DataFrame.\n",
      "Try using .loc[row_indexer,col_indexer] = value instead\n",
      "\n",
      "See the caveats in the documentation: https://pandas.pydata.org/pandas-docs/stable/user_guide/indexing.html#returning-a-view-versus-a-copy\n",
      "  ldf['date'] = pd.to_datetime(ldf['date'], format='mixed')\n",
      "/var/folders/tg/f26try5n4pq7thttks3b9fs00000gn/T/ipykernel_92211/3146678621.py:53: SettingWithCopyWarning: \n",
      "A value is trying to be set on a copy of a slice from a DataFrame.\n",
      "Try using .loc[row_indexer,col_indexer] = value instead\n",
      "\n",
      "See the caveats in the documentation: https://pandas.pydata.org/pandas-docs/stable/user_guide/indexing.html#returning-a-view-versus-a-copy\n",
      "  ldf['date'] = ldf['date'].dt.tz_convert('UTC')\n"
     ]
    },
    {
     "name": "stdout",
     "output_type": "stream",
     "text": [
      "First date for formatting:  2023-02-27T02:24:37.757Z\n",
      "DF date already timezone aware so no need!\n"
     ]
    },
    {
     "name": "stderr",
     "output_type": "stream",
     "text": [
      "/var/folders/tg/f26try5n4pq7thttks3b9fs00000gn/T/ipykernel_92211/3146678621.py:45: SettingWithCopyWarning: \n",
      "A value is trying to be set on a copy of a slice from a DataFrame.\n",
      "Try using .loc[row_indexer,col_indexer] = value instead\n",
      "\n",
      "See the caveats in the documentation: https://pandas.pydata.org/pandas-docs/stable/user_guide/indexing.html#returning-a-view-versus-a-copy\n",
      "  ldf['date'] = pd.to_datetime(ldf['date'], format='mixed')\n",
      "/var/folders/tg/f26try5n4pq7thttks3b9fs00000gn/T/ipykernel_92211/3146678621.py:53: SettingWithCopyWarning: \n",
      "A value is trying to be set on a copy of a slice from a DataFrame.\n",
      "Try using .loc[row_indexer,col_indexer] = value instead\n",
      "\n",
      "See the caveats in the documentation: https://pandas.pydata.org/pandas-docs/stable/user_guide/indexing.html#returning-a-view-versus-a-copy\n",
      "  ldf['date'] = ldf['date'].dt.tz_convert('UTC')\n"
     ]
    },
    {
     "name": "stdout",
     "output_type": "stream",
     "text": [
      "First date for formatting:  2024-07-21T14:11:28.463Z\n",
      "DF date already timezone aware so no need!\n"
     ]
    },
    {
     "name": "stderr",
     "output_type": "stream",
     "text": [
      "/var/folders/tg/f26try5n4pq7thttks3b9fs00000gn/T/ipykernel_92211/3146678621.py:45: SettingWithCopyWarning: \n",
      "A value is trying to be set on a copy of a slice from a DataFrame.\n",
      "Try using .loc[row_indexer,col_indexer] = value instead\n",
      "\n",
      "See the caveats in the documentation: https://pandas.pydata.org/pandas-docs/stable/user_guide/indexing.html#returning-a-view-versus-a-copy\n",
      "  ldf['date'] = pd.to_datetime(ldf['date'], format='mixed')\n",
      "/var/folders/tg/f26try5n4pq7thttks3b9fs00000gn/T/ipykernel_92211/3146678621.py:53: SettingWithCopyWarning: \n",
      "A value is trying to be set on a copy of a slice from a DataFrame.\n",
      "Try using .loc[row_indexer,col_indexer] = value instead\n",
      "\n",
      "See the caveats in the documentation: https://pandas.pydata.org/pandas-docs/stable/user_guide/indexing.html#returning-a-view-versus-a-copy\n",
      "  ldf['date'] = ldf['date'].dt.tz_convert('UTC')\n"
     ]
    },
    {
     "name": "stdout",
     "output_type": "stream",
     "text": [
      "First date for formatting:  2024-07-21T14:11:28.463Z\n",
      "DF date already timezone aware so no need!\n"
     ]
    },
    {
     "name": "stderr",
     "output_type": "stream",
     "text": [
      "/var/folders/tg/f26try5n4pq7thttks3b9fs00000gn/T/ipykernel_92211/3146678621.py:45: SettingWithCopyWarning: \n",
      "A value is trying to be set on a copy of a slice from a DataFrame.\n",
      "Try using .loc[row_indexer,col_indexer] = value instead\n",
      "\n",
      "See the caveats in the documentation: https://pandas.pydata.org/pandas-docs/stable/user_guide/indexing.html#returning-a-view-versus-a-copy\n",
      "  ldf['date'] = pd.to_datetime(ldf['date'], format='mixed')\n",
      "/var/folders/tg/f26try5n4pq7thttks3b9fs00000gn/T/ipykernel_92211/3146678621.py:53: SettingWithCopyWarning: \n",
      "A value is trying to be set on a copy of a slice from a DataFrame.\n",
      "Try using .loc[row_indexer,col_indexer] = value instead\n",
      "\n",
      "See the caveats in the documentation: https://pandas.pydata.org/pandas-docs/stable/user_guide/indexing.html#returning-a-view-versus-a-copy\n",
      "  ldf['date'] = ldf['date'].dt.tz_convert('UTC')\n"
     ]
    },
    {
     "name": "stdout",
     "output_type": "stream",
     "text": [
      "First date for formatting:  2020-11-03T15:47:52.351Z\n",
      "DF date already timezone aware so no need!\n"
     ]
    },
    {
     "name": "stderr",
     "output_type": "stream",
     "text": [
      "/var/folders/tg/f26try5n4pq7thttks3b9fs00000gn/T/ipykernel_92211/3146678621.py:45: SettingWithCopyWarning: \n",
      "A value is trying to be set on a copy of a slice from a DataFrame.\n",
      "Try using .loc[row_indexer,col_indexer] = value instead\n",
      "\n",
      "See the caveats in the documentation: https://pandas.pydata.org/pandas-docs/stable/user_guide/indexing.html#returning-a-view-versus-a-copy\n",
      "  ldf['date'] = pd.to_datetime(ldf['date'], format='mixed')\n",
      "/var/folders/tg/f26try5n4pq7thttks3b9fs00000gn/T/ipykernel_92211/3146678621.py:53: SettingWithCopyWarning: \n",
      "A value is trying to be set on a copy of a slice from a DataFrame.\n",
      "Try using .loc[row_indexer,col_indexer] = value instead\n",
      "\n",
      "See the caveats in the documentation: https://pandas.pydata.org/pandas-docs/stable/user_guide/indexing.html#returning-a-view-versus-a-copy\n",
      "  ldf['date'] = ldf['date'].dt.tz_convert('UTC')\n"
     ]
    },
    {
     "name": "stdout",
     "output_type": "stream",
     "text": [
      "First date for formatting:  2022-06-24T02:12:33.423Z\n",
      "DF date already timezone aware so no need!\n"
     ]
    },
    {
     "name": "stderr",
     "output_type": "stream",
     "text": [
      "/var/folders/tg/f26try5n4pq7thttks3b9fs00000gn/T/ipykernel_92211/3146678621.py:45: SettingWithCopyWarning: \n",
      "A value is trying to be set on a copy of a slice from a DataFrame.\n",
      "Try using .loc[row_indexer,col_indexer] = value instead\n",
      "\n",
      "See the caveats in the documentation: https://pandas.pydata.org/pandas-docs/stable/user_guide/indexing.html#returning-a-view-versus-a-copy\n",
      "  ldf['date'] = pd.to_datetime(ldf['date'], format='mixed')\n",
      "/var/folders/tg/f26try5n4pq7thttks3b9fs00000gn/T/ipykernel_92211/3146678621.py:53: SettingWithCopyWarning: \n",
      "A value is trying to be set on a copy of a slice from a DataFrame.\n",
      "Try using .loc[row_indexer,col_indexer] = value instead\n",
      "\n",
      "See the caveats in the documentation: https://pandas.pydata.org/pandas-docs/stable/user_guide/indexing.html#returning-a-view-versus-a-copy\n",
      "  ldf['date'] = ldf['date'].dt.tz_convert('UTC')\n"
     ]
    },
    {
     "name": "stdout",
     "output_type": "stream",
     "text": [
      "First date for formatting:  2022-06-24T02:12:33.423Z\n",
      "DF date already timezone aware so no need!\n"
     ]
    },
    {
     "name": "stderr",
     "output_type": "stream",
     "text": [
      "/var/folders/tg/f26try5n4pq7thttks3b9fs00000gn/T/ipykernel_92211/3146678621.py:45: SettingWithCopyWarning: \n",
      "A value is trying to be set on a copy of a slice from a DataFrame.\n",
      "Try using .loc[row_indexer,col_indexer] = value instead\n",
      "\n",
      "See the caveats in the documentation: https://pandas.pydata.org/pandas-docs/stable/user_guide/indexing.html#returning-a-view-versus-a-copy\n",
      "  ldf['date'] = pd.to_datetime(ldf['date'], format='mixed')\n",
      "/var/folders/tg/f26try5n4pq7thttks3b9fs00000gn/T/ipykernel_92211/3146678621.py:53: SettingWithCopyWarning: \n",
      "A value is trying to be set on a copy of a slice from a DataFrame.\n",
      "Try using .loc[row_indexer,col_indexer] = value instead\n",
      "\n",
      "See the caveats in the documentation: https://pandas.pydata.org/pandas-docs/stable/user_guide/indexing.html#returning-a-view-versus-a-copy\n",
      "  ldf['date'] = ldf['date'].dt.tz_convert('UTC')\n"
     ]
    },
    {
     "name": "stdout",
     "output_type": "stream",
     "text": [
      "First date for formatting:  2024-01-04T23:31:32.666Z\n",
      "DF date already timezone aware so no need!\n"
     ]
    },
    {
     "name": "stderr",
     "output_type": "stream",
     "text": [
      "/var/folders/tg/f26try5n4pq7thttks3b9fs00000gn/T/ipykernel_92211/3146678621.py:45: SettingWithCopyWarning: \n",
      "A value is trying to be set on a copy of a slice from a DataFrame.\n",
      "Try using .loc[row_indexer,col_indexer] = value instead\n",
      "\n",
      "See the caveats in the documentation: https://pandas.pydata.org/pandas-docs/stable/user_guide/indexing.html#returning-a-view-versus-a-copy\n",
      "  ldf['date'] = pd.to_datetime(ldf['date'], format='mixed')\n",
      "/var/folders/tg/f26try5n4pq7thttks3b9fs00000gn/T/ipykernel_92211/3146678621.py:53: SettingWithCopyWarning: \n",
      "A value is trying to be set on a copy of a slice from a DataFrame.\n",
      "Try using .loc[row_indexer,col_indexer] = value instead\n",
      "\n",
      "See the caveats in the documentation: https://pandas.pydata.org/pandas-docs/stable/user_guide/indexing.html#returning-a-view-versus-a-copy\n",
      "  ldf['date'] = ldf['date'].dt.tz_convert('UTC')\n"
     ]
    },
    {
     "name": "stdout",
     "output_type": "stream",
     "text": [
      "First date for formatting:  2024-02-23T15:47:58.263Z\n",
      "DF date already timezone aware so no need!\n"
     ]
    },
    {
     "name": "stderr",
     "output_type": "stream",
     "text": [
      "/var/folders/tg/f26try5n4pq7thttks3b9fs00000gn/T/ipykernel_92211/3146678621.py:45: SettingWithCopyWarning: \n",
      "A value is trying to be set on a copy of a slice from a DataFrame.\n",
      "Try using .loc[row_indexer,col_indexer] = value instead\n",
      "\n",
      "See the caveats in the documentation: https://pandas.pydata.org/pandas-docs/stable/user_guide/indexing.html#returning-a-view-versus-a-copy\n",
      "  ldf['date'] = pd.to_datetime(ldf['date'], format='mixed')\n",
      "/var/folders/tg/f26try5n4pq7thttks3b9fs00000gn/T/ipykernel_92211/3146678621.py:53: SettingWithCopyWarning: \n",
      "A value is trying to be set on a copy of a slice from a DataFrame.\n",
      "Try using .loc[row_indexer,col_indexer] = value instead\n",
      "\n",
      "See the caveats in the documentation: https://pandas.pydata.org/pandas-docs/stable/user_guide/indexing.html#returning-a-view-versus-a-copy\n",
      "  ldf['date'] = ldf['date'].dt.tz_convert('UTC')\n"
     ]
    },
    {
     "name": "stdout",
     "output_type": "stream",
     "text": [
      "First date for formatting:  2022-05-15T17:37:22.512Z\n",
      "DF date already timezone aware so no need!\n"
     ]
    },
    {
     "name": "stderr",
     "output_type": "stream",
     "text": [
      "/var/folders/tg/f26try5n4pq7thttks3b9fs00000gn/T/ipykernel_92211/3146678621.py:45: SettingWithCopyWarning: \n",
      "A value is trying to be set on a copy of a slice from a DataFrame.\n",
      "Try using .loc[row_indexer,col_indexer] = value instead\n",
      "\n",
      "See the caveats in the documentation: https://pandas.pydata.org/pandas-docs/stable/user_guide/indexing.html#returning-a-view-versus-a-copy\n",
      "  ldf['date'] = pd.to_datetime(ldf['date'], format='mixed')\n",
      "/var/folders/tg/f26try5n4pq7thttks3b9fs00000gn/T/ipykernel_92211/3146678621.py:53: SettingWithCopyWarning: \n",
      "A value is trying to be set on a copy of a slice from a DataFrame.\n",
      "Try using .loc[row_indexer,col_indexer] = value instead\n",
      "\n",
      "See the caveats in the documentation: https://pandas.pydata.org/pandas-docs/stable/user_guide/indexing.html#returning-a-view-versus-a-copy\n",
      "  ldf['date'] = ldf['date'].dt.tz_convert('UTC')\n"
     ]
    },
    {
     "name": "stdout",
     "output_type": "stream",
     "text": [
      "First date for formatting:  2023-08-24T18:45:16.365Z\n",
      "DF date already timezone aware so no need!\n"
     ]
    },
    {
     "name": "stderr",
     "output_type": "stream",
     "text": [
      "/var/folders/tg/f26try5n4pq7thttks3b9fs00000gn/T/ipykernel_92211/3146678621.py:45: SettingWithCopyWarning: \n",
      "A value is trying to be set on a copy of a slice from a DataFrame.\n",
      "Try using .loc[row_indexer,col_indexer] = value instead\n",
      "\n",
      "See the caveats in the documentation: https://pandas.pydata.org/pandas-docs/stable/user_guide/indexing.html#returning-a-view-versus-a-copy\n",
      "  ldf['date'] = pd.to_datetime(ldf['date'], format='mixed')\n",
      "/var/folders/tg/f26try5n4pq7thttks3b9fs00000gn/T/ipykernel_92211/3146678621.py:53: SettingWithCopyWarning: \n",
      "A value is trying to be set on a copy of a slice from a DataFrame.\n",
      "Try using .loc[row_indexer,col_indexer] = value instead\n",
      "\n",
      "See the caveats in the documentation: https://pandas.pydata.org/pandas-docs/stable/user_guide/indexing.html#returning-a-view-versus-a-copy\n",
      "  ldf['date'] = ldf['date'].dt.tz_convert('UTC')\n"
     ]
    },
    {
     "name": "stdout",
     "output_type": "stream",
     "text": [
      "Log file index 1\n",
      "Last log date bf shutdown:  2022-05-15 09:00:00+00:00 \n",
      "First log date after shutdown:  2022-05-15 18:00:00+00:00\n",
      "Log file index 2\n",
      "Last log date bf shutdown:  2022-05-26 11:00:00+00:00 \n",
      "First log date after shutdown:  2022-06-24 03:00:00+00:00\n",
      "Log file index 3\n",
      "Last log date bf shutdown:  2023-02-25 06:00:00+00:00 \n",
      "First log date after shutdown:  2022-06-24 03:00:00+00:00\n",
      "Log file index 4\n",
      "Last log date bf shutdown:  2023-02-25 06:00:00+00:00 \n",
      "First log date after shutdown:  2023-02-27 03:00:00+00:00\n",
      "Log file index 5\n",
      "Last log date bf shutdown:  2023-07-10 14:00:00+00:00 \n",
      "First log date after shutdown:  2023-08-24 19:00:00+00:00\n",
      "Log file index 6\n",
      "Last log date bf shutdown:  2024-01-04 22:00:00+00:00 \n",
      "First log date after shutdown:  2024-01-05 00:00:00+00:00\n",
      "Log file index 7\n",
      "Last log date bf shutdown:  2024-02-23 14:00:00+00:00 \n",
      "First log date after shutdown:  2024-02-23 16:00:00+00:00\n",
      "Log file index 8\n",
      "Last log date bf shutdown:  2024-07-21 13:00:00+00:00 \n",
      "First log date after shutdown:  2024-07-21 15:00:00+00:00\n",
      "Log file index 9\n",
      "Last log date bf shutdown:  2024-08-23 03:00:00+00:00 \n",
      "First log date after shutdown:  2024-07-21 15:00:00+00:00\n",
      "Log file index 10\n",
      "Last log date bf shutdown:  2024-08-23 03:00:00+00:00 \n",
      "First log date after shutdown:  2024-07-21 15:00:00+00:00\n",
      "Log file index 11\n",
      "Last log date bf shutdown:  2024-08-23 03:00:00+00:00 \n",
      "First log date after shutdown:  2024-07-21 15:00:00+00:00\n",
      "Log file index 12\n",
      "Last log date bf shutdown:  2024-08-23 03:00:00+00:00 \n",
      "First log date after shutdown:  2024-07-21 15:00:00+00:00\n",
      "Log file index 13\n",
      "Last log date bf shutdown:  2024-08-23 03:00:00+00:00 \n",
      "First log date after shutdown:  2024-07-21 15:00:00+00:00\n",
      "Table sent to DB successfully\n",
      "Query for primary key sent successfully\n"
     ]
    }
   ],
   "source": [
    "process_and_save_logs('Chara_Muon002')"
   ]
  },
  {
   "cell_type": "markdown",
   "metadata": {},
   "source": [
    "# ColomboV1 Merging"
   ]
  },
  {
   "cell_type": "code",
   "execution_count": 40,
   "metadata": {},
   "outputs": [
    {
     "name": "stdout",
     "output_type": "stream",
     "text": [
      "Processing any logs for monitor Colombo/V1\n",
      "First date for formatting:  2024-06-05T10:09:40.580Z\n",
      "DF date already timezone aware so no need!\n"
     ]
    },
    {
     "name": "stderr",
     "output_type": "stream",
     "text": [
      "/var/folders/tg/f26try5n4pq7thttks3b9fs00000gn/T/ipykernel_92211/3146678621.py:45: SettingWithCopyWarning: \n",
      "A value is trying to be set on a copy of a slice from a DataFrame.\n",
      "Try using .loc[row_indexer,col_indexer] = value instead\n",
      "\n",
      "See the caveats in the documentation: https://pandas.pydata.org/pandas-docs/stable/user_guide/indexing.html#returning-a-view-versus-a-copy\n",
      "  ldf['date'] = pd.to_datetime(ldf['date'], format='mixed')\n",
      "/var/folders/tg/f26try5n4pq7thttks3b9fs00000gn/T/ipykernel_92211/3146678621.py:53: SettingWithCopyWarning: \n",
      "A value is trying to be set on a copy of a slice from a DataFrame.\n",
      "Try using .loc[row_indexer,col_indexer] = value instead\n",
      "\n",
      "See the caveats in the documentation: https://pandas.pydata.org/pandas-docs/stable/user_guide/indexing.html#returning-a-view-versus-a-copy\n",
      "  ldf['date'] = ldf['date'].dt.tz_convert('UTC')\n"
     ]
    },
    {
     "name": "stdout",
     "output_type": "stream",
     "text": [
      "First date for formatting:  2023-09-20T03:50:36.960Z\n",
      "DF date already timezone aware so no need!\n"
     ]
    },
    {
     "name": "stderr",
     "output_type": "stream",
     "text": [
      "/var/folders/tg/f26try5n4pq7thttks3b9fs00000gn/T/ipykernel_92211/3146678621.py:45: SettingWithCopyWarning: \n",
      "A value is trying to be set on a copy of a slice from a DataFrame.\n",
      "Try using .loc[row_indexer,col_indexer] = value instead\n",
      "\n",
      "See the caveats in the documentation: https://pandas.pydata.org/pandas-docs/stable/user_guide/indexing.html#returning-a-view-versus-a-copy\n",
      "  ldf['date'] = pd.to_datetime(ldf['date'], format='mixed')\n",
      "/var/folders/tg/f26try5n4pq7thttks3b9fs00000gn/T/ipykernel_92211/3146678621.py:53: SettingWithCopyWarning: \n",
      "A value is trying to be set on a copy of a slice from a DataFrame.\n",
      "Try using .loc[row_indexer,col_indexer] = value instead\n",
      "\n",
      "See the caveats in the documentation: https://pandas.pydata.org/pandas-docs/stable/user_guide/indexing.html#returning-a-view-versus-a-copy\n",
      "  ldf['date'] = ldf['date'].dt.tz_convert('UTC')\n"
     ]
    },
    {
     "name": "stdout",
     "output_type": "stream",
     "text": [
      "First date for formatting:  2024-03-23T11:47:47.330Z\n",
      "DF date already timezone aware so no need!\n"
     ]
    },
    {
     "name": "stderr",
     "output_type": "stream",
     "text": [
      "/var/folders/tg/f26try5n4pq7thttks3b9fs00000gn/T/ipykernel_92211/3146678621.py:45: SettingWithCopyWarning: \n",
      "A value is trying to be set on a copy of a slice from a DataFrame.\n",
      "Try using .loc[row_indexer,col_indexer] = value instead\n",
      "\n",
      "See the caveats in the documentation: https://pandas.pydata.org/pandas-docs/stable/user_guide/indexing.html#returning-a-view-versus-a-copy\n",
      "  ldf['date'] = pd.to_datetime(ldf['date'], format='mixed')\n",
      "/var/folders/tg/f26try5n4pq7thttks3b9fs00000gn/T/ipykernel_92211/3146678621.py:53: SettingWithCopyWarning: \n",
      "A value is trying to be set on a copy of a slice from a DataFrame.\n",
      "Try using .loc[row_indexer,col_indexer] = value instead\n",
      "\n",
      "See the caveats in the documentation: https://pandas.pydata.org/pandas-docs/stable/user_guide/indexing.html#returning-a-view-versus-a-copy\n",
      "  ldf['date'] = ldf['date'].dt.tz_convert('UTC')\n"
     ]
    },
    {
     "name": "stdout",
     "output_type": "stream",
     "text": [
      "First date for formatting:  2024-01-08T15:16:03.992Z\n",
      "DF date already timezone aware so no need!\n"
     ]
    },
    {
     "name": "stderr",
     "output_type": "stream",
     "text": [
      "/var/folders/tg/f26try5n4pq7thttks3b9fs00000gn/T/ipykernel_92211/3146678621.py:45: SettingWithCopyWarning: \n",
      "A value is trying to be set on a copy of a slice from a DataFrame.\n",
      "Try using .loc[row_indexer,col_indexer] = value instead\n",
      "\n",
      "See the caveats in the documentation: https://pandas.pydata.org/pandas-docs/stable/user_guide/indexing.html#returning-a-view-versus-a-copy\n",
      "  ldf['date'] = pd.to_datetime(ldf['date'], format='mixed')\n",
      "/var/folders/tg/f26try5n4pq7thttks3b9fs00000gn/T/ipykernel_92211/3146678621.py:53: SettingWithCopyWarning: \n",
      "A value is trying to be set on a copy of a slice from a DataFrame.\n",
      "Try using .loc[row_indexer,col_indexer] = value instead\n",
      "\n",
      "See the caveats in the documentation: https://pandas.pydata.org/pandas-docs/stable/user_guide/indexing.html#returning-a-view-versus-a-copy\n",
      "  ldf['date'] = ldf['date'].dt.tz_convert('UTC')\n"
     ]
    },
    {
     "name": "stdout",
     "output_type": "stream",
     "text": [
      "First date for formatting:  2023-09-15T21:53:36.957Z\n",
      "DF date already timezone aware so no need!\n",
      "First date for formatting:  2024-04-08T13:11:34.486Z\n",
      "DF date already timezone aware so no need!\n"
     ]
    },
    {
     "name": "stderr",
     "output_type": "stream",
     "text": [
      "/var/folders/tg/f26try5n4pq7thttks3b9fs00000gn/T/ipykernel_92211/3146678621.py:45: SettingWithCopyWarning: \n",
      "A value is trying to be set on a copy of a slice from a DataFrame.\n",
      "Try using .loc[row_indexer,col_indexer] = value instead\n",
      "\n",
      "See the caveats in the documentation: https://pandas.pydata.org/pandas-docs/stable/user_guide/indexing.html#returning-a-view-versus-a-copy\n",
      "  ldf['date'] = pd.to_datetime(ldf['date'], format='mixed')\n",
      "/var/folders/tg/f26try5n4pq7thttks3b9fs00000gn/T/ipykernel_92211/3146678621.py:53: SettingWithCopyWarning: \n",
      "A value is trying to be set on a copy of a slice from a DataFrame.\n",
      "Try using .loc[row_indexer,col_indexer] = value instead\n",
      "\n",
      "See the caveats in the documentation: https://pandas.pydata.org/pandas-docs/stable/user_guide/indexing.html#returning-a-view-versus-a-copy\n",
      "  ldf['date'] = ldf['date'].dt.tz_convert('UTC')\n",
      "/var/folders/tg/f26try5n4pq7thttks3b9fs00000gn/T/ipykernel_92211/3146678621.py:45: SettingWithCopyWarning: \n",
      "A value is trying to be set on a copy of a slice from a DataFrame.\n",
      "Try using .loc[row_indexer,col_indexer] = value instead\n",
      "\n",
      "See the caveats in the documentation: https://pandas.pydata.org/pandas-docs/stable/user_guide/indexing.html#returning-a-view-versus-a-copy\n",
      "  ldf['date'] = pd.to_datetime(ldf['date'], format='mixed')\n",
      "/var/folders/tg/f26try5n4pq7thttks3b9fs00000gn/T/ipykernel_92211/3146678621.py:53: SettingWithCopyWarning: \n",
      "A value is trying to be set on a copy of a slice from a DataFrame.\n",
      "Try using .loc[row_indexer,col_indexer] = value instead\n",
      "\n",
      "See the caveats in the documentation: https://pandas.pydata.org/pandas-docs/stable/user_guide/indexing.html#returning-a-view-versus-a-copy\n",
      "  ldf['date'] = ldf['date'].dt.tz_convert('UTC')\n"
     ]
    },
    {
     "name": "stdout",
     "output_type": "stream",
     "text": [
      "First date for formatting:  2023-12-10T03:11:50.903Z\n",
      "DF date already timezone aware so no need!\n"
     ]
    },
    {
     "name": "stderr",
     "output_type": "stream",
     "text": [
      "/var/folders/tg/f26try5n4pq7thttks3b9fs00000gn/T/ipykernel_92211/3146678621.py:45: SettingWithCopyWarning: \n",
      "A value is trying to be set on a copy of a slice from a DataFrame.\n",
      "Try using .loc[row_indexer,col_indexer] = value instead\n",
      "\n",
      "See the caveats in the documentation: https://pandas.pydata.org/pandas-docs/stable/user_guide/indexing.html#returning-a-view-versus-a-copy\n",
      "  ldf['date'] = pd.to_datetime(ldf['date'], format='mixed')\n",
      "/var/folders/tg/f26try5n4pq7thttks3b9fs00000gn/T/ipykernel_92211/3146678621.py:53: SettingWithCopyWarning: \n",
      "A value is trying to be set on a copy of a slice from a DataFrame.\n",
      "Try using .loc[row_indexer,col_indexer] = value instead\n",
      "\n",
      "See the caveats in the documentation: https://pandas.pydata.org/pandas-docs/stable/user_guide/indexing.html#returning-a-view-versus-a-copy\n",
      "  ldf['date'] = ldf['date'].dt.tz_convert('UTC')\n"
     ]
    },
    {
     "name": "stdout",
     "output_type": "stream",
     "text": [
      "First date for formatting:  2024-03-24T01:07:45.857Z\n",
      "DF date already timezone aware so no need!\n"
     ]
    },
    {
     "name": "stderr",
     "output_type": "stream",
     "text": [
      "/var/folders/tg/f26try5n4pq7thttks3b9fs00000gn/T/ipykernel_92211/3146678621.py:45: SettingWithCopyWarning: \n",
      "A value is trying to be set on a copy of a slice from a DataFrame.\n",
      "Try using .loc[row_indexer,col_indexer] = value instead\n",
      "\n",
      "See the caveats in the documentation: https://pandas.pydata.org/pandas-docs/stable/user_guide/indexing.html#returning-a-view-versus-a-copy\n",
      "  ldf['date'] = pd.to_datetime(ldf['date'], format='mixed')\n",
      "/var/folders/tg/f26try5n4pq7thttks3b9fs00000gn/T/ipykernel_92211/3146678621.py:53: SettingWithCopyWarning: \n",
      "A value is trying to be set on a copy of a slice from a DataFrame.\n",
      "Try using .loc[row_indexer,col_indexer] = value instead\n",
      "\n",
      "See the caveats in the documentation: https://pandas.pydata.org/pandas-docs/stable/user_guide/indexing.html#returning-a-view-versus-a-copy\n",
      "  ldf['date'] = ldf['date'].dt.tz_convert('UTC')\n"
     ]
    },
    {
     "name": "stdout",
     "output_type": "stream",
     "text": [
      "First date for formatting:  2024-06-05T10:09:40.580Z\n",
      "DF date already timezone aware so no need!\n"
     ]
    },
    {
     "name": "stderr",
     "output_type": "stream",
     "text": [
      "/var/folders/tg/f26try5n4pq7thttks3b9fs00000gn/T/ipykernel_92211/3146678621.py:45: SettingWithCopyWarning: \n",
      "A value is trying to be set on a copy of a slice from a DataFrame.\n",
      "Try using .loc[row_indexer,col_indexer] = value instead\n",
      "\n",
      "See the caveats in the documentation: https://pandas.pydata.org/pandas-docs/stable/user_guide/indexing.html#returning-a-view-versus-a-copy\n",
      "  ldf['date'] = pd.to_datetime(ldf['date'], format='mixed')\n",
      "/var/folders/tg/f26try5n4pq7thttks3b9fs00000gn/T/ipykernel_92211/3146678621.py:53: SettingWithCopyWarning: \n",
      "A value is trying to be set on a copy of a slice from a DataFrame.\n",
      "Try using .loc[row_indexer,col_indexer] = value instead\n",
      "\n",
      "See the caveats in the documentation: https://pandas.pydata.org/pandas-docs/stable/user_guide/indexing.html#returning-a-view-versus-a-copy\n",
      "  ldf['date'] = ldf['date'].dt.tz_convert('UTC')\n"
     ]
    },
    {
     "name": "stdout",
     "output_type": "stream",
     "text": [
      "First date for formatting:  2024-06-05T10:09:40.580Z\n",
      "DF date already timezone aware so no need!\n"
     ]
    },
    {
     "name": "stderr",
     "output_type": "stream",
     "text": [
      "/var/folders/tg/f26try5n4pq7thttks3b9fs00000gn/T/ipykernel_92211/3146678621.py:45: SettingWithCopyWarning: \n",
      "A value is trying to be set on a copy of a slice from a DataFrame.\n",
      "Try using .loc[row_indexer,col_indexer] = value instead\n",
      "\n",
      "See the caveats in the documentation: https://pandas.pydata.org/pandas-docs/stable/user_guide/indexing.html#returning-a-view-versus-a-copy\n",
      "  ldf['date'] = pd.to_datetime(ldf['date'], format='mixed')\n",
      "/var/folders/tg/f26try5n4pq7thttks3b9fs00000gn/T/ipykernel_92211/3146678621.py:53: SettingWithCopyWarning: \n",
      "A value is trying to be set on a copy of a slice from a DataFrame.\n",
      "Try using .loc[row_indexer,col_indexer] = value instead\n",
      "\n",
      "See the caveats in the documentation: https://pandas.pydata.org/pandas-docs/stable/user_guide/indexing.html#returning-a-view-versus-a-copy\n",
      "  ldf['date'] = ldf['date'].dt.tz_convert('UTC')\n"
     ]
    },
    {
     "name": "stdout",
     "output_type": "stream",
     "text": [
      "First date for formatting:  2024-06-05T10:09:40.580Z\n",
      "DF date already timezone aware so no need!\n"
     ]
    },
    {
     "name": "stderr",
     "output_type": "stream",
     "text": [
      "/var/folders/tg/f26try5n4pq7thttks3b9fs00000gn/T/ipykernel_92211/3146678621.py:45: SettingWithCopyWarning: \n",
      "A value is trying to be set on a copy of a slice from a DataFrame.\n",
      "Try using .loc[row_indexer,col_indexer] = value instead\n",
      "\n",
      "See the caveats in the documentation: https://pandas.pydata.org/pandas-docs/stable/user_guide/indexing.html#returning-a-view-versus-a-copy\n",
      "  ldf['date'] = pd.to_datetime(ldf['date'], format='mixed')\n",
      "/var/folders/tg/f26try5n4pq7thttks3b9fs00000gn/T/ipykernel_92211/3146678621.py:53: SettingWithCopyWarning: \n",
      "A value is trying to be set on a copy of a slice from a DataFrame.\n",
      "Try using .loc[row_indexer,col_indexer] = value instead\n",
      "\n",
      "See the caveats in the documentation: https://pandas.pydata.org/pandas-docs/stable/user_guide/indexing.html#returning-a-view-versus-a-copy\n",
      "  ldf['date'] = ldf['date'].dt.tz_convert('UTC')\n"
     ]
    },
    {
     "name": "stdout",
     "output_type": "stream",
     "text": [
      "First date for formatting:  2024-04-18T03:27:14.396Z\n",
      "DF date already timezone aware so no need!\n"
     ]
    },
    {
     "name": "stderr",
     "output_type": "stream",
     "text": [
      "/var/folders/tg/f26try5n4pq7thttks3b9fs00000gn/T/ipykernel_92211/3146678621.py:45: SettingWithCopyWarning: \n",
      "A value is trying to be set on a copy of a slice from a DataFrame.\n",
      "Try using .loc[row_indexer,col_indexer] = value instead\n",
      "\n",
      "See the caveats in the documentation: https://pandas.pydata.org/pandas-docs/stable/user_guide/indexing.html#returning-a-view-versus-a-copy\n",
      "  ldf['date'] = pd.to_datetime(ldf['date'], format='mixed')\n",
      "/var/folders/tg/f26try5n4pq7thttks3b9fs00000gn/T/ipykernel_92211/3146678621.py:53: SettingWithCopyWarning: \n",
      "A value is trying to be set on a copy of a slice from a DataFrame.\n",
      "Try using .loc[row_indexer,col_indexer] = value instead\n",
      "\n",
      "See the caveats in the documentation: https://pandas.pydata.org/pandas-docs/stable/user_guide/indexing.html#returning-a-view-versus-a-copy\n",
      "  ldf['date'] = ldf['date'].dt.tz_convert('UTC')\n"
     ]
    },
    {
     "name": "stdout",
     "output_type": "stream",
     "text": [
      "First date for formatting:  2024-06-05T10:09:40.580Z\n",
      "DF date already timezone aware so no need!\n"
     ]
    },
    {
     "name": "stderr",
     "output_type": "stream",
     "text": [
      "/var/folders/tg/f26try5n4pq7thttks3b9fs00000gn/T/ipykernel_92211/3146678621.py:45: SettingWithCopyWarning: \n",
      "A value is trying to be set on a copy of a slice from a DataFrame.\n",
      "Try using .loc[row_indexer,col_indexer] = value instead\n",
      "\n",
      "See the caveats in the documentation: https://pandas.pydata.org/pandas-docs/stable/user_guide/indexing.html#returning-a-view-versus-a-copy\n",
      "  ldf['date'] = pd.to_datetime(ldf['date'], format='mixed')\n",
      "/var/folders/tg/f26try5n4pq7thttks3b9fs00000gn/T/ipykernel_92211/3146678621.py:53: SettingWithCopyWarning: \n",
      "A value is trying to be set on a copy of a slice from a DataFrame.\n",
      "Try using .loc[row_indexer,col_indexer] = value instead\n",
      "\n",
      "See the caveats in the documentation: https://pandas.pydata.org/pandas-docs/stable/user_guide/indexing.html#returning-a-view-versus-a-copy\n",
      "  ldf['date'] = ldf['date'].dt.tz_convert('UTC')\n"
     ]
    },
    {
     "name": "stdout",
     "output_type": "stream",
     "text": [
      "First date for formatting:  2024-06-05T10:09:40.580Z\n",
      "DF date already timezone aware so no need!\n"
     ]
    },
    {
     "name": "stderr",
     "output_type": "stream",
     "text": [
      "/var/folders/tg/f26try5n4pq7thttks3b9fs00000gn/T/ipykernel_92211/3146678621.py:45: SettingWithCopyWarning: \n",
      "A value is trying to be set on a copy of a slice from a DataFrame.\n",
      "Try using .loc[row_indexer,col_indexer] = value instead\n",
      "\n",
      "See the caveats in the documentation: https://pandas.pydata.org/pandas-docs/stable/user_guide/indexing.html#returning-a-view-versus-a-copy\n",
      "  ldf['date'] = pd.to_datetime(ldf['date'], format='mixed')\n",
      "/var/folders/tg/f26try5n4pq7thttks3b9fs00000gn/T/ipykernel_92211/3146678621.py:53: SettingWithCopyWarning: \n",
      "A value is trying to be set on a copy of a slice from a DataFrame.\n",
      "Try using .loc[row_indexer,col_indexer] = value instead\n",
      "\n",
      "See the caveats in the documentation: https://pandas.pydata.org/pandas-docs/stable/user_guide/indexing.html#returning-a-view-versus-a-copy\n",
      "  ldf['date'] = ldf['date'].dt.tz_convert('UTC')\n"
     ]
    },
    {
     "name": "stdout",
     "output_type": "stream",
     "text": [
      "Log file index 1\n",
      "Last log date bf shutdown:  2023-09-19 18:00:00+00:00 \n",
      "First log date after shutdown:  2023-09-20 04:00:00+00:00\n",
      "Log file index 2\n",
      "Last log date bf shutdown:  2023-12-09 15:00:00+00:00 \n",
      "First log date after shutdown:  2023-12-10 04:00:00+00:00\n",
      "Log file index 3\n",
      "Last log date bf shutdown:  2024-01-08 13:00:00+00:00 \n",
      "First log date after shutdown:  2024-01-08 16:00:00+00:00\n",
      "Log file index 4\n",
      "Last log date bf shutdown:  2024-03-21 20:00:00+00:00 \n",
      "First log date after shutdown:  2024-03-23 12:00:00+00:00\n",
      "Log file index 5\n",
      "Last log date bf shutdown:  2024-03-23 20:00:00+00:00 \n",
      "First log date after shutdown:  2024-03-24 02:00:00+00:00\n",
      "Log file index 6\n",
      "Last log date bf shutdown:  2024-04-04 13:00:00+00:00 \n",
      "First log date after shutdown:  2024-04-08 14:00:00+00:00\n",
      "Log file index 7\n",
      "Last log date bf shutdown:  2024-04-10 20:00:00+00:00 \n",
      "First log date after shutdown:  2024-04-18 04:00:00+00:00\n",
      "Log file index 8\n",
      "Last log date bf shutdown:  2024-06-04 20:00:00+00:00 \n",
      "First log date after shutdown:  2024-06-05 11:00:00+00:00\n",
      "Log file index 9\n",
      "Last log date bf shutdown:  2024-07-15 20:00:00+00:00 \n",
      "First log date after shutdown:  2024-06-05 11:00:00+00:00\n",
      "Log file index 10\n",
      "Last log date bf shutdown:  2024-07-15 20:00:00+00:00 \n",
      "First log date after shutdown:  2024-06-05 11:00:00+00:00\n",
      "Log file index 11\n",
      "Last log date bf shutdown:  2024-07-15 20:00:00+00:00 \n",
      "First log date after shutdown:  2024-06-05 11:00:00+00:00\n",
      "Log file index 12\n",
      "Last log date bf shutdown:  2024-07-15 20:00:00+00:00 \n",
      "First log date after shutdown:  2024-06-05 11:00:00+00:00\n",
      "Log file index 13\n",
      "Last log date bf shutdown:  2024-07-15 20:00:00+00:00 \n",
      "First log date after shutdown:  2024-06-05 11:00:00+00:00\n",
      "Table sent to DB successfully\n",
      "Query for primary key sent successfully\n"
     ]
    }
   ],
   "source": [
    "process_and_save_logs('Colombo/V1')"
   ]
  },
  {
   "cell_type": "markdown",
   "metadata": {},
   "source": [
    "# ColomboV2 Merging"
   ]
  },
  {
   "cell_type": "code",
   "execution_count": 12,
   "metadata": {},
   "outputs": [
    {
     "name": "stdout",
     "output_type": "stream",
     "text": [
      "Processing any logs for monitor Colombo/V2\n",
      "First date for formatting:  Tue Aug 20 22:58:28 2024\n"
     ]
    },
    {
     "name": "stderr",
     "output_type": "stream",
     "text": [
      "/var/folders/tg/f26try5n4pq7thttks3b9fs00000gn/T/ipykernel_94221/3146678621.py:45: SettingWithCopyWarning: \n",
      "A value is trying to be set on a copy of a slice from a DataFrame.\n",
      "Try using .loc[row_indexer,col_indexer] = value instead\n",
      "\n",
      "See the caveats in the documentation: https://pandas.pydata.org/pandas-docs/stable/user_guide/indexing.html#returning-a-view-versus-a-copy\n",
      "  ldf['date'] = pd.to_datetime(ldf['date'], format='mixed')\n",
      "/var/folders/tg/f26try5n4pq7thttks3b9fs00000gn/T/ipykernel_94221/3146678621.py:49: SettingWithCopyWarning: \n",
      "A value is trying to be set on a copy of a slice from a DataFrame.\n",
      "Try using .loc[row_indexer,col_indexer] = value instead\n",
      "\n",
      "See the caveats in the documentation: https://pandas.pydata.org/pandas-docs/stable/user_guide/indexing.html#returning-a-view-versus-a-copy\n",
      "  ldf['date'] = ldf['date'].dt.tz_localize(monitor_tz, ambiguous='infer', nonexistent='shift_forward')\n",
      "/var/folders/tg/f26try5n4pq7thttks3b9fs00000gn/T/ipykernel_94221/3146678621.py:53: SettingWithCopyWarning: \n",
      "A value is trying to be set on a copy of a slice from a DataFrame.\n",
      "Try using .loc[row_indexer,col_indexer] = value instead\n",
      "\n",
      "See the caveats in the documentation: https://pandas.pydata.org/pandas-docs/stable/user_guide/indexing.html#returning-a-view-versus-a-copy\n",
      "  ldf['date'] = ldf['date'].dt.tz_convert('UTC')\n"
     ]
    },
    {
     "name": "stdout",
     "output_type": "stream",
     "text": [
      "First date for formatting:  Tue Aug 20 22:58:28 2024\n"
     ]
    },
    {
     "name": "stderr",
     "output_type": "stream",
     "text": [
      "/var/folders/tg/f26try5n4pq7thttks3b9fs00000gn/T/ipykernel_94221/3146678621.py:45: SettingWithCopyWarning: \n",
      "A value is trying to be set on a copy of a slice from a DataFrame.\n",
      "Try using .loc[row_indexer,col_indexer] = value instead\n",
      "\n",
      "See the caveats in the documentation: https://pandas.pydata.org/pandas-docs/stable/user_guide/indexing.html#returning-a-view-versus-a-copy\n",
      "  ldf['date'] = pd.to_datetime(ldf['date'], format='mixed')\n",
      "/var/folders/tg/f26try5n4pq7thttks3b9fs00000gn/T/ipykernel_94221/3146678621.py:49: SettingWithCopyWarning: \n",
      "A value is trying to be set on a copy of a slice from a DataFrame.\n",
      "Try using .loc[row_indexer,col_indexer] = value instead\n",
      "\n",
      "See the caveats in the documentation: https://pandas.pydata.org/pandas-docs/stable/user_guide/indexing.html#returning-a-view-versus-a-copy\n",
      "  ldf['date'] = ldf['date'].dt.tz_localize(monitor_tz, ambiguous='infer', nonexistent='shift_forward')\n",
      "/var/folders/tg/f26try5n4pq7thttks3b9fs00000gn/T/ipykernel_94221/3146678621.py:53: SettingWithCopyWarning: \n",
      "A value is trying to be set on a copy of a slice from a DataFrame.\n",
      "Try using .loc[row_indexer,col_indexer] = value instead\n",
      "\n",
      "See the caveats in the documentation: https://pandas.pydata.org/pandas-docs/stable/user_guide/indexing.html#returning-a-view-versus-a-copy\n",
      "  ldf['date'] = ldf['date'].dt.tz_convert('UTC')\n"
     ]
    },
    {
     "name": "stdout",
     "output_type": "stream",
     "text": [
      "First date for formatting:  Wed Jul 17 17:24:36 2024\n"
     ]
    },
    {
     "name": "stderr",
     "output_type": "stream",
     "text": [
      "/var/folders/tg/f26try5n4pq7thttks3b9fs00000gn/T/ipykernel_94221/3146678621.py:45: SettingWithCopyWarning: \n",
      "A value is trying to be set on a copy of a slice from a DataFrame.\n",
      "Try using .loc[row_indexer,col_indexer] = value instead\n",
      "\n",
      "See the caveats in the documentation: https://pandas.pydata.org/pandas-docs/stable/user_guide/indexing.html#returning-a-view-versus-a-copy\n",
      "  ldf['date'] = pd.to_datetime(ldf['date'], format='mixed')\n",
      "/var/folders/tg/f26try5n4pq7thttks3b9fs00000gn/T/ipykernel_94221/3146678621.py:49: SettingWithCopyWarning: \n",
      "A value is trying to be set on a copy of a slice from a DataFrame.\n",
      "Try using .loc[row_indexer,col_indexer] = value instead\n",
      "\n",
      "See the caveats in the documentation: https://pandas.pydata.org/pandas-docs/stable/user_guide/indexing.html#returning-a-view-versus-a-copy\n",
      "  ldf['date'] = ldf['date'].dt.tz_localize(monitor_tz, ambiguous='infer', nonexistent='shift_forward')\n",
      "/var/folders/tg/f26try5n4pq7thttks3b9fs00000gn/T/ipykernel_94221/3146678621.py:53: SettingWithCopyWarning: \n",
      "A value is trying to be set on a copy of a slice from a DataFrame.\n",
      "Try using .loc[row_indexer,col_indexer] = value instead\n",
      "\n",
      "See the caveats in the documentation: https://pandas.pydata.org/pandas-docs/stable/user_guide/indexing.html#returning-a-view-versus-a-copy\n",
      "  ldf['date'] = ldf['date'].dt.tz_convert('UTC')\n"
     ]
    },
    {
     "name": "stdout",
     "output_type": "stream",
     "text": [
      "First date for formatting:  Tue Aug 20 22:58:28 2024\n"
     ]
    },
    {
     "name": "stderr",
     "output_type": "stream",
     "text": [
      "/var/folders/tg/f26try5n4pq7thttks3b9fs00000gn/T/ipykernel_94221/3146678621.py:45: SettingWithCopyWarning: \n",
      "A value is trying to be set on a copy of a slice from a DataFrame.\n",
      "Try using .loc[row_indexer,col_indexer] = value instead\n",
      "\n",
      "See the caveats in the documentation: https://pandas.pydata.org/pandas-docs/stable/user_guide/indexing.html#returning-a-view-versus-a-copy\n",
      "  ldf['date'] = pd.to_datetime(ldf['date'], format='mixed')\n",
      "/var/folders/tg/f26try5n4pq7thttks3b9fs00000gn/T/ipykernel_94221/3146678621.py:49: SettingWithCopyWarning: \n",
      "A value is trying to be set on a copy of a slice from a DataFrame.\n",
      "Try using .loc[row_indexer,col_indexer] = value instead\n",
      "\n",
      "See the caveats in the documentation: https://pandas.pydata.org/pandas-docs/stable/user_guide/indexing.html#returning-a-view-versus-a-copy\n",
      "  ldf['date'] = ldf['date'].dt.tz_localize(monitor_tz, ambiguous='infer', nonexistent='shift_forward')\n",
      "/var/folders/tg/f26try5n4pq7thttks3b9fs00000gn/T/ipykernel_94221/3146678621.py:53: SettingWithCopyWarning: \n",
      "A value is trying to be set on a copy of a slice from a DataFrame.\n",
      "Try using .loc[row_indexer,col_indexer] = value instead\n",
      "\n",
      "See the caveats in the documentation: https://pandas.pydata.org/pandas-docs/stable/user_guide/indexing.html#returning-a-view-versus-a-copy\n",
      "  ldf['date'] = ldf['date'].dt.tz_convert('UTC')\n"
     ]
    },
    {
     "name": "stdout",
     "output_type": "stream",
     "text": [
      "First date for formatting:  Wed Jul 17 17:24:36 2024\n"
     ]
    },
    {
     "name": "stderr",
     "output_type": "stream",
     "text": [
      "/var/folders/tg/f26try5n4pq7thttks3b9fs00000gn/T/ipykernel_94221/3146678621.py:45: SettingWithCopyWarning: \n",
      "A value is trying to be set on a copy of a slice from a DataFrame.\n",
      "Try using .loc[row_indexer,col_indexer] = value instead\n",
      "\n",
      "See the caveats in the documentation: https://pandas.pydata.org/pandas-docs/stable/user_guide/indexing.html#returning-a-view-versus-a-copy\n",
      "  ldf['date'] = pd.to_datetime(ldf['date'], format='mixed')\n",
      "/var/folders/tg/f26try5n4pq7thttks3b9fs00000gn/T/ipykernel_94221/3146678621.py:49: SettingWithCopyWarning: \n",
      "A value is trying to be set on a copy of a slice from a DataFrame.\n",
      "Try using .loc[row_indexer,col_indexer] = value instead\n",
      "\n",
      "See the caveats in the documentation: https://pandas.pydata.org/pandas-docs/stable/user_guide/indexing.html#returning-a-view-versus-a-copy\n",
      "  ldf['date'] = ldf['date'].dt.tz_localize(monitor_tz, ambiguous='infer', nonexistent='shift_forward')\n",
      "/var/folders/tg/f26try5n4pq7thttks3b9fs00000gn/T/ipykernel_94221/3146678621.py:53: SettingWithCopyWarning: \n",
      "A value is trying to be set on a copy of a slice from a DataFrame.\n",
      "Try using .loc[row_indexer,col_indexer] = value instead\n",
      "\n",
      "See the caveats in the documentation: https://pandas.pydata.org/pandas-docs/stable/user_guide/indexing.html#returning-a-view-versus-a-copy\n",
      "  ldf['date'] = ldf['date'].dt.tz_convert('UTC')\n"
     ]
    },
    {
     "name": "stdout",
     "output_type": "stream",
     "text": [
      "First date for formatting:  Wed Jul 17 17:24:36 2024\n"
     ]
    },
    {
     "name": "stderr",
     "output_type": "stream",
     "text": [
      "/var/folders/tg/f26try5n4pq7thttks3b9fs00000gn/T/ipykernel_94221/3146678621.py:45: SettingWithCopyWarning: \n",
      "A value is trying to be set on a copy of a slice from a DataFrame.\n",
      "Try using .loc[row_indexer,col_indexer] = value instead\n",
      "\n",
      "See the caveats in the documentation: https://pandas.pydata.org/pandas-docs/stable/user_guide/indexing.html#returning-a-view-versus-a-copy\n",
      "  ldf['date'] = pd.to_datetime(ldf['date'], format='mixed')\n",
      "/var/folders/tg/f26try5n4pq7thttks3b9fs00000gn/T/ipykernel_94221/3146678621.py:49: SettingWithCopyWarning: \n",
      "A value is trying to be set on a copy of a slice from a DataFrame.\n",
      "Try using .loc[row_indexer,col_indexer] = value instead\n",
      "\n",
      "See the caveats in the documentation: https://pandas.pydata.org/pandas-docs/stable/user_guide/indexing.html#returning-a-view-versus-a-copy\n",
      "  ldf['date'] = ldf['date'].dt.tz_localize(monitor_tz, ambiguous='infer', nonexistent='shift_forward')\n",
      "/var/folders/tg/f26try5n4pq7thttks3b9fs00000gn/T/ipykernel_94221/3146678621.py:53: SettingWithCopyWarning: \n",
      "A value is trying to be set on a copy of a slice from a DataFrame.\n",
      "Try using .loc[row_indexer,col_indexer] = value instead\n",
      "\n",
      "See the caveats in the documentation: https://pandas.pydata.org/pandas-docs/stable/user_guide/indexing.html#returning-a-view-versus-a-copy\n",
      "  ldf['date'] = ldf['date'].dt.tz_convert('UTC')\n"
     ]
    },
    {
     "name": "stdout",
     "output_type": "stream",
     "text": [
      "Log file index 1\n",
      "Last log date bf shutdown:  2024-08-12 12:00:00+00:00 \n",
      "First log date after shutdown:  2024-07-17 12:00:00+00:00\n",
      "Log file index 2\n",
      "Last log date bf shutdown:  2024-08-12 12:00:00+00:00 \n",
      "First log date after shutdown:  2024-07-17 12:00:00+00:00\n",
      "Log file index 3\n",
      "Last log date bf shutdown:  2024-08-12 12:00:00+00:00 \n",
      "First log date after shutdown:  2024-08-20 18:00:00+00:00\n",
      "Log file index 4\n",
      "Last log date bf shutdown:  2024-08-22 17:00:00+00:00 \n",
      "First log date after shutdown:  2024-08-20 18:00:00+00:00\n",
      "Log file index 5\n",
      "Last log date bf shutdown:  2024-08-22 17:00:00+00:00 \n",
      "First log date after shutdown:  2024-08-20 18:00:00+00:00\n",
      "Table sent to DB successfully\n",
      "Query for primary key sent successfully\n"
     ]
    }
   ],
   "source": [
    "process_and_save_logs('Colombo/V2')"
   ]
  },
  {
   "cell_type": "markdown",
   "metadata": {},
   "source": [
    "# One Park Place Merging"
   ]
  },
  {
   "cell_type": "code",
   "execution_count": 12,
   "metadata": {},
   "outputs": [
    {
     "name": "stdout",
     "output_type": "stream",
     "text": [
      "Processing any logs for monitor OneParkPlace\n",
      "First date for formatting:  Mon Jul 15 15:44:04 2024\n"
     ]
    },
    {
     "name": "stderr",
     "output_type": "stream",
     "text": [
      "/var/folders/tg/f26try5n4pq7thttks3b9fs00000gn/T/ipykernel_94875/3146678621.py:45: SettingWithCopyWarning: \n",
      "A value is trying to be set on a copy of a slice from a DataFrame.\n",
      "Try using .loc[row_indexer,col_indexer] = value instead\n",
      "\n",
      "See the caveats in the documentation: https://pandas.pydata.org/pandas-docs/stable/user_guide/indexing.html#returning-a-view-versus-a-copy\n",
      "  ldf['date'] = pd.to_datetime(ldf['date'], format='mixed')\n",
      "/var/folders/tg/f26try5n4pq7thttks3b9fs00000gn/T/ipykernel_94875/3146678621.py:49: SettingWithCopyWarning: \n",
      "A value is trying to be set on a copy of a slice from a DataFrame.\n",
      "Try using .loc[row_indexer,col_indexer] = value instead\n",
      "\n",
      "See the caveats in the documentation: https://pandas.pydata.org/pandas-docs/stable/user_guide/indexing.html#returning-a-view-versus-a-copy\n",
      "  ldf['date'] = ldf['date'].dt.tz_localize(monitor_tz, ambiguous='infer', nonexistent='shift_forward')\n",
      "/var/folders/tg/f26try5n4pq7thttks3b9fs00000gn/T/ipykernel_94875/3146678621.py:53: SettingWithCopyWarning: \n",
      "A value is trying to be set on a copy of a slice from a DataFrame.\n",
      "Try using .loc[row_indexer,col_indexer] = value instead\n",
      "\n",
      "See the caveats in the documentation: https://pandas.pydata.org/pandas-docs/stable/user_guide/indexing.html#returning-a-view-versus-a-copy\n",
      "  ldf['date'] = ldf['date'].dt.tz_convert('UTC')\n"
     ]
    },
    {
     "name": "stdout",
     "output_type": "stream",
     "text": [
      "First date for formatting:  Mon Jul 15 15:44:04 2024\n"
     ]
    },
    {
     "name": "stderr",
     "output_type": "stream",
     "text": [
      "/var/folders/tg/f26try5n4pq7thttks3b9fs00000gn/T/ipykernel_94875/3146678621.py:45: SettingWithCopyWarning: \n",
      "A value is trying to be set on a copy of a slice from a DataFrame.\n",
      "Try using .loc[row_indexer,col_indexer] = value instead\n",
      "\n",
      "See the caveats in the documentation: https://pandas.pydata.org/pandas-docs/stable/user_guide/indexing.html#returning-a-view-versus-a-copy\n",
      "  ldf['date'] = pd.to_datetime(ldf['date'], format='mixed')\n",
      "/var/folders/tg/f26try5n4pq7thttks3b9fs00000gn/T/ipykernel_94875/3146678621.py:49: SettingWithCopyWarning: \n",
      "A value is trying to be set on a copy of a slice from a DataFrame.\n",
      "Try using .loc[row_indexer,col_indexer] = value instead\n",
      "\n",
      "See the caveats in the documentation: https://pandas.pydata.org/pandas-docs/stable/user_guide/indexing.html#returning-a-view-versus-a-copy\n",
      "  ldf['date'] = ldf['date'].dt.tz_localize(monitor_tz, ambiguous='infer', nonexistent='shift_forward')\n",
      "/var/folders/tg/f26try5n4pq7thttks3b9fs00000gn/T/ipykernel_94875/3146678621.py:53: SettingWithCopyWarning: \n",
      "A value is trying to be set on a copy of a slice from a DataFrame.\n",
      "Try using .loc[row_indexer,col_indexer] = value instead\n",
      "\n",
      "See the caveats in the documentation: https://pandas.pydata.org/pandas-docs/stable/user_guide/indexing.html#returning-a-view-versus-a-copy\n",
      "  ldf['date'] = ldf['date'].dt.tz_convert('UTC')\n"
     ]
    },
    {
     "name": "stdout",
     "output_type": "stream",
     "text": [
      "First date for formatting:  Mon Jul 15 15:44:04 2024\n"
     ]
    },
    {
     "name": "stderr",
     "output_type": "stream",
     "text": [
      "/var/folders/tg/f26try5n4pq7thttks3b9fs00000gn/T/ipykernel_94875/3146678621.py:45: SettingWithCopyWarning: \n",
      "A value is trying to be set on a copy of a slice from a DataFrame.\n",
      "Try using .loc[row_indexer,col_indexer] = value instead\n",
      "\n",
      "See the caveats in the documentation: https://pandas.pydata.org/pandas-docs/stable/user_guide/indexing.html#returning-a-view-versus-a-copy\n",
      "  ldf['date'] = pd.to_datetime(ldf['date'], format='mixed')\n",
      "/var/folders/tg/f26try5n4pq7thttks3b9fs00000gn/T/ipykernel_94875/3146678621.py:49: SettingWithCopyWarning: \n",
      "A value is trying to be set on a copy of a slice from a DataFrame.\n",
      "Try using .loc[row_indexer,col_indexer] = value instead\n",
      "\n",
      "See the caveats in the documentation: https://pandas.pydata.org/pandas-docs/stable/user_guide/indexing.html#returning-a-view-versus-a-copy\n",
      "  ldf['date'] = ldf['date'].dt.tz_localize(monitor_tz, ambiguous='infer', nonexistent='shift_forward')\n",
      "/var/folders/tg/f26try5n4pq7thttks3b9fs00000gn/T/ipykernel_94875/3146678621.py:53: SettingWithCopyWarning: \n",
      "A value is trying to be set on a copy of a slice from a DataFrame.\n",
      "Try using .loc[row_indexer,col_indexer] = value instead\n",
      "\n",
      "See the caveats in the documentation: https://pandas.pydata.org/pandas-docs/stable/user_guide/indexing.html#returning-a-view-versus-a-copy\n",
      "  ldf['date'] = ldf['date'].dt.tz_convert('UTC')\n"
     ]
    },
    {
     "name": "stdout",
     "output_type": "stream",
     "text": [
      "First date for formatting:  Mon Jul 15 15:44:04 2024\n"
     ]
    },
    {
     "name": "stderr",
     "output_type": "stream",
     "text": [
      "/var/folders/tg/f26try5n4pq7thttks3b9fs00000gn/T/ipykernel_94875/3146678621.py:45: SettingWithCopyWarning: \n",
      "A value is trying to be set on a copy of a slice from a DataFrame.\n",
      "Try using .loc[row_indexer,col_indexer] = value instead\n",
      "\n",
      "See the caveats in the documentation: https://pandas.pydata.org/pandas-docs/stable/user_guide/indexing.html#returning-a-view-versus-a-copy\n",
      "  ldf['date'] = pd.to_datetime(ldf['date'], format='mixed')\n",
      "/var/folders/tg/f26try5n4pq7thttks3b9fs00000gn/T/ipykernel_94875/3146678621.py:49: SettingWithCopyWarning: \n",
      "A value is trying to be set on a copy of a slice from a DataFrame.\n",
      "Try using .loc[row_indexer,col_indexer] = value instead\n",
      "\n",
      "See the caveats in the documentation: https://pandas.pydata.org/pandas-docs/stable/user_guide/indexing.html#returning-a-view-versus-a-copy\n",
      "  ldf['date'] = ldf['date'].dt.tz_localize(monitor_tz, ambiguous='infer', nonexistent='shift_forward')\n",
      "/var/folders/tg/f26try5n4pq7thttks3b9fs00000gn/T/ipykernel_94875/3146678621.py:53: SettingWithCopyWarning: \n",
      "A value is trying to be set on a copy of a slice from a DataFrame.\n",
      "Try using .loc[row_indexer,col_indexer] = value instead\n",
      "\n",
      "See the caveats in the documentation: https://pandas.pydata.org/pandas-docs/stable/user_guide/indexing.html#returning-a-view-versus-a-copy\n",
      "  ldf['date'] = ldf['date'].dt.tz_convert('UTC')\n"
     ]
    },
    {
     "name": "stdout",
     "output_type": "stream",
     "text": [
      "Log file index 1\n",
      "Last log date bf shutdown:  2024-08-21 03:00:00+00:00 \n",
      "First log date after shutdown:  2024-07-15 20:00:00+00:00\n",
      "Log file index 2\n",
      "Last log date bf shutdown:  2024-08-21 03:00:00+00:00 \n",
      "First log date after shutdown:  2024-07-15 20:00:00+00:00\n",
      "Log file index 3\n",
      "Last log date bf shutdown:  2024-08-21 03:00:00+00:00 \n",
      "First log date after shutdown:  2024-07-15 20:00:00+00:00\n",
      "Table sent to DB successfully\n",
      "Query for primary key sent successfully\n"
     ]
    }
   ],
   "source": [
    "process_and_save_logs('OneParkPlace')"
   ]
  },
  {
   "cell_type": "markdown",
   "metadata": {},
   "source": [
    "# Rm415_Muon001 merging"
   ]
  },
  {
   "cell_type": "code",
   "execution_count": 13,
   "metadata": {},
   "outputs": [
    {
     "name": "stdout",
     "output_type": "stream",
     "text": [
      "Processing any logs for monitor Rm415_Muon001\n",
      "First date for formatting:  Wed May  8 18:18:30 2024\n"
     ]
    },
    {
     "name": "stderr",
     "output_type": "stream",
     "text": [
      "/var/folders/tg/f26try5n4pq7thttks3b9fs00000gn/T/ipykernel_94875/3146678621.py:45: SettingWithCopyWarning: \n",
      "A value is trying to be set on a copy of a slice from a DataFrame.\n",
      "Try using .loc[row_indexer,col_indexer] = value instead\n",
      "\n",
      "See the caveats in the documentation: https://pandas.pydata.org/pandas-docs/stable/user_guide/indexing.html#returning-a-view-versus-a-copy\n",
      "  ldf['date'] = pd.to_datetime(ldf['date'], format='mixed')\n",
      "/var/folders/tg/f26try5n4pq7thttks3b9fs00000gn/T/ipykernel_94875/3146678621.py:49: SettingWithCopyWarning: \n",
      "A value is trying to be set on a copy of a slice from a DataFrame.\n",
      "Try using .loc[row_indexer,col_indexer] = value instead\n",
      "\n",
      "See the caveats in the documentation: https://pandas.pydata.org/pandas-docs/stable/user_guide/indexing.html#returning-a-view-versus-a-copy\n",
      "  ldf['date'] = ldf['date'].dt.tz_localize(monitor_tz, ambiguous='infer', nonexistent='shift_forward')\n",
      "/var/folders/tg/f26try5n4pq7thttks3b9fs00000gn/T/ipykernel_94875/3146678621.py:53: SettingWithCopyWarning: \n",
      "A value is trying to be set on a copy of a slice from a DataFrame.\n",
      "Try using .loc[row_indexer,col_indexer] = value instead\n",
      "\n",
      "See the caveats in the documentation: https://pandas.pydata.org/pandas-docs/stable/user_guide/indexing.html#returning-a-view-versus-a-copy\n",
      "  ldf['date'] = ldf['date'].dt.tz_convert('UTC')\n"
     ]
    },
    {
     "name": "stdout",
     "output_type": "stream",
     "text": [
      "First date for formatting:  Wed May  8 18:18:30 2024\n"
     ]
    },
    {
     "name": "stderr",
     "output_type": "stream",
     "text": [
      "/var/folders/tg/f26try5n4pq7thttks3b9fs00000gn/T/ipykernel_94875/3146678621.py:45: SettingWithCopyWarning: \n",
      "A value is trying to be set on a copy of a slice from a DataFrame.\n",
      "Try using .loc[row_indexer,col_indexer] = value instead\n",
      "\n",
      "See the caveats in the documentation: https://pandas.pydata.org/pandas-docs/stable/user_guide/indexing.html#returning-a-view-versus-a-copy\n",
      "  ldf['date'] = pd.to_datetime(ldf['date'], format='mixed')\n",
      "/var/folders/tg/f26try5n4pq7thttks3b9fs00000gn/T/ipykernel_94875/3146678621.py:49: SettingWithCopyWarning: \n",
      "A value is trying to be set on a copy of a slice from a DataFrame.\n",
      "Try using .loc[row_indexer,col_indexer] = value instead\n",
      "\n",
      "See the caveats in the documentation: https://pandas.pydata.org/pandas-docs/stable/user_guide/indexing.html#returning-a-view-versus-a-copy\n",
      "  ldf['date'] = ldf['date'].dt.tz_localize(monitor_tz, ambiguous='infer', nonexistent='shift_forward')\n",
      "/var/folders/tg/f26try5n4pq7thttks3b9fs00000gn/T/ipykernel_94875/3146678621.py:53: SettingWithCopyWarning: \n",
      "A value is trying to be set on a copy of a slice from a DataFrame.\n",
      "Try using .loc[row_indexer,col_indexer] = value instead\n",
      "\n",
      "See the caveats in the documentation: https://pandas.pydata.org/pandas-docs/stable/user_guide/indexing.html#returning-a-view-versus-a-copy\n",
      "  ldf['date'] = ldf['date'].dt.tz_convert('UTC')\n"
     ]
    },
    {
     "name": "stdout",
     "output_type": "stream",
     "text": [
      "First date for formatting:  Wed May  8 18:18:30 2024\n"
     ]
    },
    {
     "name": "stderr",
     "output_type": "stream",
     "text": [
      "/var/folders/tg/f26try5n4pq7thttks3b9fs00000gn/T/ipykernel_94875/3146678621.py:45: SettingWithCopyWarning: \n",
      "A value is trying to be set on a copy of a slice from a DataFrame.\n",
      "Try using .loc[row_indexer,col_indexer] = value instead\n",
      "\n",
      "See the caveats in the documentation: https://pandas.pydata.org/pandas-docs/stable/user_guide/indexing.html#returning-a-view-versus-a-copy\n",
      "  ldf['date'] = pd.to_datetime(ldf['date'], format='mixed')\n",
      "/var/folders/tg/f26try5n4pq7thttks3b9fs00000gn/T/ipykernel_94875/3146678621.py:49: SettingWithCopyWarning: \n",
      "A value is trying to be set on a copy of a slice from a DataFrame.\n",
      "Try using .loc[row_indexer,col_indexer] = value instead\n",
      "\n",
      "See the caveats in the documentation: https://pandas.pydata.org/pandas-docs/stable/user_guide/indexing.html#returning-a-view-versus-a-copy\n",
      "  ldf['date'] = ldf['date'].dt.tz_localize(monitor_tz, ambiguous='infer', nonexistent='shift_forward')\n",
      "/var/folders/tg/f26try5n4pq7thttks3b9fs00000gn/T/ipykernel_94875/3146678621.py:53: SettingWithCopyWarning: \n",
      "A value is trying to be set on a copy of a slice from a DataFrame.\n",
      "Try using .loc[row_indexer,col_indexer] = value instead\n",
      "\n",
      "See the caveats in the documentation: https://pandas.pydata.org/pandas-docs/stable/user_guide/indexing.html#returning-a-view-versus-a-copy\n",
      "  ldf['date'] = ldf['date'].dt.tz_convert('UTC')\n"
     ]
    },
    {
     "name": "stdout",
     "output_type": "stream",
     "text": [
      "First date for formatting:  Fri May  3 07:18:31 2024\n"
     ]
    },
    {
     "name": "stderr",
     "output_type": "stream",
     "text": [
      "/var/folders/tg/f26try5n4pq7thttks3b9fs00000gn/T/ipykernel_94875/3146678621.py:45: SettingWithCopyWarning: \n",
      "A value is trying to be set on a copy of a slice from a DataFrame.\n",
      "Try using .loc[row_indexer,col_indexer] = value instead\n",
      "\n",
      "See the caveats in the documentation: https://pandas.pydata.org/pandas-docs/stable/user_guide/indexing.html#returning-a-view-versus-a-copy\n",
      "  ldf['date'] = pd.to_datetime(ldf['date'], format='mixed')\n",
      "/var/folders/tg/f26try5n4pq7thttks3b9fs00000gn/T/ipykernel_94875/3146678621.py:49: SettingWithCopyWarning: \n",
      "A value is trying to be set on a copy of a slice from a DataFrame.\n",
      "Try using .loc[row_indexer,col_indexer] = value instead\n",
      "\n",
      "See the caveats in the documentation: https://pandas.pydata.org/pandas-docs/stable/user_guide/indexing.html#returning-a-view-versus-a-copy\n",
      "  ldf['date'] = ldf['date'].dt.tz_localize(monitor_tz, ambiguous='infer', nonexistent='shift_forward')\n",
      "/var/folders/tg/f26try5n4pq7thttks3b9fs00000gn/T/ipykernel_94875/3146678621.py:53: SettingWithCopyWarning: \n",
      "A value is trying to be set on a copy of a slice from a DataFrame.\n",
      "Try using .loc[row_indexer,col_indexer] = value instead\n",
      "\n",
      "See the caveats in the documentation: https://pandas.pydata.org/pandas-docs/stable/user_guide/indexing.html#returning-a-view-versus-a-copy\n",
      "  ldf['date'] = ldf['date'].dt.tz_convert('UTC')\n"
     ]
    },
    {
     "name": "stdout",
     "output_type": "stream",
     "text": [
      "First date for formatting:  Wed May  8 18:18:30 2024\n"
     ]
    },
    {
     "name": "stderr",
     "output_type": "stream",
     "text": [
      "/var/folders/tg/f26try5n4pq7thttks3b9fs00000gn/T/ipykernel_94875/3146678621.py:45: SettingWithCopyWarning: \n",
      "A value is trying to be set on a copy of a slice from a DataFrame.\n",
      "Try using .loc[row_indexer,col_indexer] = value instead\n",
      "\n",
      "See the caveats in the documentation: https://pandas.pydata.org/pandas-docs/stable/user_guide/indexing.html#returning-a-view-versus-a-copy\n",
      "  ldf['date'] = pd.to_datetime(ldf['date'], format='mixed')\n",
      "/var/folders/tg/f26try5n4pq7thttks3b9fs00000gn/T/ipykernel_94875/3146678621.py:49: SettingWithCopyWarning: \n",
      "A value is trying to be set on a copy of a slice from a DataFrame.\n",
      "Try using .loc[row_indexer,col_indexer] = value instead\n",
      "\n",
      "See the caveats in the documentation: https://pandas.pydata.org/pandas-docs/stable/user_guide/indexing.html#returning-a-view-versus-a-copy\n",
      "  ldf['date'] = ldf['date'].dt.tz_localize(monitor_tz, ambiguous='infer', nonexistent='shift_forward')\n",
      "/var/folders/tg/f26try5n4pq7thttks3b9fs00000gn/T/ipykernel_94875/3146678621.py:53: SettingWithCopyWarning: \n",
      "A value is trying to be set on a copy of a slice from a DataFrame.\n",
      "Try using .loc[row_indexer,col_indexer] = value instead\n",
      "\n",
      "See the caveats in the documentation: https://pandas.pydata.org/pandas-docs/stable/user_guide/indexing.html#returning-a-view-versus-a-copy\n",
      "  ldf['date'] = ldf['date'].dt.tz_convert('UTC')\n"
     ]
    },
    {
     "name": "stdout",
     "output_type": "stream",
     "text": [
      "First date for formatting:  Fri Aug 23 15:54:28 2024\n",
      "First date for formatting:  Fri Aug 23 15:54:28 2024\n"
     ]
    },
    {
     "name": "stderr",
     "output_type": "stream",
     "text": [
      "/var/folders/tg/f26try5n4pq7thttks3b9fs00000gn/T/ipykernel_94875/3146678621.py:45: SettingWithCopyWarning: \n",
      "A value is trying to be set on a copy of a slice from a DataFrame.\n",
      "Try using .loc[row_indexer,col_indexer] = value instead\n",
      "\n",
      "See the caveats in the documentation: https://pandas.pydata.org/pandas-docs/stable/user_guide/indexing.html#returning-a-view-versus-a-copy\n",
      "  ldf['date'] = pd.to_datetime(ldf['date'], format='mixed')\n",
      "/var/folders/tg/f26try5n4pq7thttks3b9fs00000gn/T/ipykernel_94875/3146678621.py:49: SettingWithCopyWarning: \n",
      "A value is trying to be set on a copy of a slice from a DataFrame.\n",
      "Try using .loc[row_indexer,col_indexer] = value instead\n",
      "\n",
      "See the caveats in the documentation: https://pandas.pydata.org/pandas-docs/stable/user_guide/indexing.html#returning-a-view-versus-a-copy\n",
      "  ldf['date'] = ldf['date'].dt.tz_localize(monitor_tz, ambiguous='infer', nonexistent='shift_forward')\n",
      "/var/folders/tg/f26try5n4pq7thttks3b9fs00000gn/T/ipykernel_94875/3146678621.py:53: SettingWithCopyWarning: \n",
      "A value is trying to be set on a copy of a slice from a DataFrame.\n",
      "Try using .loc[row_indexer,col_indexer] = value instead\n",
      "\n",
      "See the caveats in the documentation: https://pandas.pydata.org/pandas-docs/stable/user_guide/indexing.html#returning-a-view-versus-a-copy\n",
      "  ldf['date'] = ldf['date'].dt.tz_convert('UTC')\n",
      "/var/folders/tg/f26try5n4pq7thttks3b9fs00000gn/T/ipykernel_94875/3146678621.py:45: SettingWithCopyWarning: \n",
      "A value is trying to be set on a copy of a slice from a DataFrame.\n",
      "Try using .loc[row_indexer,col_indexer] = value instead\n",
      "\n",
      "See the caveats in the documentation: https://pandas.pydata.org/pandas-docs/stable/user_guide/indexing.html#returning-a-view-versus-a-copy\n",
      "  ldf['date'] = pd.to_datetime(ldf['date'], format='mixed')\n",
      "/var/folders/tg/f26try5n4pq7thttks3b9fs00000gn/T/ipykernel_94875/3146678621.py:49: SettingWithCopyWarning: \n",
      "A value is trying to be set on a copy of a slice from a DataFrame.\n",
      "Try using .loc[row_indexer,col_indexer] = value instead\n",
      "\n",
      "See the caveats in the documentation: https://pandas.pydata.org/pandas-docs/stable/user_guide/indexing.html#returning-a-view-versus-a-copy\n",
      "  ldf['date'] = ldf['date'].dt.tz_localize(monitor_tz, ambiguous='infer', nonexistent='shift_forward')\n",
      "/var/folders/tg/f26try5n4pq7thttks3b9fs00000gn/T/ipykernel_94875/3146678621.py:53: SettingWithCopyWarning: \n",
      "A value is trying to be set on a copy of a slice from a DataFrame.\n",
      "Try using .loc[row_indexer,col_indexer] = value instead\n",
      "\n",
      "See the caveats in the documentation: https://pandas.pydata.org/pandas-docs/stable/user_guide/indexing.html#returning-a-view-versus-a-copy\n",
      "  ldf['date'] = ldf['date'].dt.tz_convert('UTC')\n"
     ]
    },
    {
     "name": "stdout",
     "output_type": "stream",
     "text": [
      "First date for formatting:  Sun Mar 24 20:40:08 2024\n"
     ]
    },
    {
     "name": "stderr",
     "output_type": "stream",
     "text": [
      "/var/folders/tg/f26try5n4pq7thttks3b9fs00000gn/T/ipykernel_94875/3146678621.py:45: SettingWithCopyWarning: \n",
      "A value is trying to be set on a copy of a slice from a DataFrame.\n",
      "Try using .loc[row_indexer,col_indexer] = value instead\n",
      "\n",
      "See the caveats in the documentation: https://pandas.pydata.org/pandas-docs/stable/user_guide/indexing.html#returning-a-view-versus-a-copy\n",
      "  ldf['date'] = pd.to_datetime(ldf['date'], format='mixed')\n",
      "/var/folders/tg/f26try5n4pq7thttks3b9fs00000gn/T/ipykernel_94875/3146678621.py:49: SettingWithCopyWarning: \n",
      "A value is trying to be set on a copy of a slice from a DataFrame.\n",
      "Try using .loc[row_indexer,col_indexer] = value instead\n",
      "\n",
      "See the caveats in the documentation: https://pandas.pydata.org/pandas-docs/stable/user_guide/indexing.html#returning-a-view-versus-a-copy\n",
      "  ldf['date'] = ldf['date'].dt.tz_localize(monitor_tz, ambiguous='infer', nonexistent='shift_forward')\n",
      "/var/folders/tg/f26try5n4pq7thttks3b9fs00000gn/T/ipykernel_94875/3146678621.py:53: SettingWithCopyWarning: \n",
      "A value is trying to be set on a copy of a slice from a DataFrame.\n",
      "Try using .loc[row_indexer,col_indexer] = value instead\n",
      "\n",
      "See the caveats in the documentation: https://pandas.pydata.org/pandas-docs/stable/user_guide/indexing.html#returning-a-view-versus-a-copy\n",
      "  ldf['date'] = ldf['date'].dt.tz_convert('UTC')\n"
     ]
    },
    {
     "name": "stdout",
     "output_type": "stream",
     "text": [
      "Log file index 1\n",
      "Last log date bf shutdown:  2024-05-03 09:00:00+00:00 \n",
      "First log date after shutdown:  2024-05-03 12:00:00+00:00\n",
      "Log file index 2\n",
      "Last log date bf shutdown:  2024-05-08 20:00:00+00:00 \n",
      "First log date after shutdown:  2024-05-08 23:00:00+00:00\n",
      "Log file index 3\n",
      "Last log date bf shutdown:  2024-08-21 04:00:00+00:00 \n",
      "First log date after shutdown:  2024-05-08 23:00:00+00:00\n",
      "Log file index 4\n",
      "Last log date bf shutdown:  2024-08-21 04:00:00+00:00 \n",
      "First log date after shutdown:  2024-05-08 23:00:00+00:00\n",
      "Log file index 5\n",
      "Last log date bf shutdown:  2024-08-21 04:00:00+00:00 \n",
      "First log date after shutdown:  2024-05-08 23:00:00+00:00\n",
      "Log file index 6\n",
      "Last log date bf shutdown:  2024-08-21 04:00:00+00:00 \n",
      "First log date after shutdown:  2024-08-23 20:00:00+00:00\n",
      "Log file index 7\n",
      "Last log date bf shutdown:  2024-08-25 02:00:00+00:00 \n",
      "First log date after shutdown:  2024-08-23 20:00:00+00:00\n",
      "Table sent to DB successfully\n",
      "Query for primary key sent successfully\n"
     ]
    }
   ],
   "source": [
    "process_and_save_logs('Rm415_Muon001')"
   ]
  },
  {
   "cell_type": "markdown",
   "metadata": {},
   "source": [
    "# SantaMarta merging"
   ]
  },
  {
   "cell_type": "code",
   "execution_count": 81,
   "metadata": {},
   "outputs": [
    {
     "name": "stdout",
     "output_type": "stream",
     "text": [
      "Processing any logs for monitor SantaMarta\n",
      "     0   1    2                         3\n",
      "0  135  69  160  Sat Apr 27 14:02:09 2024\n",
      "First date for formatting:  Sat Apr 27 14:02:09 2024\n"
     ]
    },
    {
     "name": "stderr",
     "output_type": "stream",
     "text": [
      "/var/folders/tg/f26try5n4pq7thttks3b9fs00000gn/T/ipykernel_1055/4005775305.py:45: SettingWithCopyWarning: \n",
      "A value is trying to be set on a copy of a slice from a DataFrame.\n",
      "Try using .loc[row_indexer,col_indexer] = value instead\n",
      "\n",
      "See the caveats in the documentation: https://pandas.pydata.org/pandas-docs/stable/user_guide/indexing.html#returning-a-view-versus-a-copy\n",
      "  ldf['date'] = pd.to_datetime(ldf['date'], format='mixed')\n",
      "/var/folders/tg/f26try5n4pq7thttks3b9fs00000gn/T/ipykernel_1055/4005775305.py:52: SettingWithCopyWarning: \n",
      "A value is trying to be set on a copy of a slice from a DataFrame.\n",
      "Try using .loc[row_indexer,col_indexer] = value instead\n",
      "\n",
      "See the caveats in the documentation: https://pandas.pydata.org/pandas-docs/stable/user_guide/indexing.html#returning-a-view-versus-a-copy\n",
      "  ldf['date'] = ldf['date'].dt.tz_localize(monitor_tz, ambiguous='infer', nonexistent='shift_forward')\n",
      "/var/folders/tg/f26try5n4pq7thttks3b9fs00000gn/T/ipykernel_1055/4005775305.py:61: SettingWithCopyWarning: \n",
      "A value is trying to be set on a copy of a slice from a DataFrame.\n",
      "Try using .loc[row_indexer,col_indexer] = value instead\n",
      "\n",
      "See the caveats in the documentation: https://pandas.pydata.org/pandas-docs/stable/user_guide/indexing.html#returning-a-view-versus-a-copy\n",
      "  ldf['date'] = ldf['date'].dt.tz_convert('UTC')\n"
     ]
    },
    {
     "name": "stdout",
     "output_type": "stream",
     "text": [
      "date check prior to localize:                   date counts\n",
      "0 2024-04-27 14:02:09    135\n",
      "     0   1    2                         3\n",
      "0  143  70  165  Fri Apr 26 11:36:00 2024\n",
      "First date for formatting:  Fri Apr 26 11:36:00 2024\n"
     ]
    },
    {
     "name": "stderr",
     "output_type": "stream",
     "text": [
      "/var/folders/tg/f26try5n4pq7thttks3b9fs00000gn/T/ipykernel_1055/4005775305.py:45: SettingWithCopyWarning: \n",
      "A value is trying to be set on a copy of a slice from a DataFrame.\n",
      "Try using .loc[row_indexer,col_indexer] = value instead\n",
      "\n",
      "See the caveats in the documentation: https://pandas.pydata.org/pandas-docs/stable/user_guide/indexing.html#returning-a-view-versus-a-copy\n",
      "  ldf['date'] = pd.to_datetime(ldf['date'], format='mixed')\n",
      "/var/folders/tg/f26try5n4pq7thttks3b9fs00000gn/T/ipykernel_1055/4005775305.py:52: SettingWithCopyWarning: \n",
      "A value is trying to be set on a copy of a slice from a DataFrame.\n",
      "Try using .loc[row_indexer,col_indexer] = value instead\n",
      "\n",
      "See the caveats in the documentation: https://pandas.pydata.org/pandas-docs/stable/user_guide/indexing.html#returning-a-view-versus-a-copy\n",
      "  ldf['date'] = ldf['date'].dt.tz_localize(monitor_tz, ambiguous='infer', nonexistent='shift_forward')\n",
      "/var/folders/tg/f26try5n4pq7thttks3b9fs00000gn/T/ipykernel_1055/4005775305.py:61: SettingWithCopyWarning: \n",
      "A value is trying to be set on a copy of a slice from a DataFrame.\n",
      "Try using .loc[row_indexer,col_indexer] = value instead\n",
      "\n",
      "See the caveats in the documentation: https://pandas.pydata.org/pandas-docs/stable/user_guide/indexing.html#returning-a-view-versus-a-copy\n",
      "  ldf['date'] = ldf['date'].dt.tz_convert('UTC')\n",
      "/var/folders/tg/f26try5n4pq7thttks3b9fs00000gn/T/ipykernel_1055/4005775305.py:45: SettingWithCopyWarning: \n",
      "A value is trying to be set on a copy of a slice from a DataFrame.\n",
      "Try using .loc[row_indexer,col_indexer] = value instead\n",
      "\n",
      "See the caveats in the documentation: https://pandas.pydata.org/pandas-docs/stable/user_guide/indexing.html#returning-a-view-versus-a-copy\n",
      "  ldf['date'] = pd.to_datetime(ldf['date'], format='mixed')\n",
      "/var/folders/tg/f26try5n4pq7thttks3b9fs00000gn/T/ipykernel_1055/4005775305.py:52: SettingWithCopyWarning: \n",
      "A value is trying to be set on a copy of a slice from a DataFrame.\n",
      "Try using .loc[row_indexer,col_indexer] = value instead\n",
      "\n",
      "See the caveats in the documentation: https://pandas.pydata.org/pandas-docs/stable/user_guide/indexing.html#returning-a-view-versus-a-copy\n",
      "  ldf['date'] = ldf['date'].dt.tz_localize(monitor_tz, ambiguous='infer', nonexistent='shift_forward')\n",
      "/var/folders/tg/f26try5n4pq7thttks3b9fs00000gn/T/ipykernel_1055/4005775305.py:61: SettingWithCopyWarning: \n",
      "A value is trying to be set on a copy of a slice from a DataFrame.\n",
      "Try using .loc[row_indexer,col_indexer] = value instead\n",
      "\n",
      "See the caveats in the documentation: https://pandas.pydata.org/pandas-docs/stable/user_guide/indexing.html#returning-a-view-versus-a-copy\n",
      "  ldf['date'] = ldf['date'].dt.tz_convert('UTC')\n"
     ]
    },
    {
     "name": "stdout",
     "output_type": "stream",
     "text": [
      "date check prior to localize:                   date counts\n",
      "0 2024-04-26 11:36:00    143\n",
      "     0   1    2                         3\n",
      "0  149  58  102  Sat Feb 24 21:18:43 2024\n",
      "First date for formatting:  Sat Feb 24 21:18:43 2024\n",
      "date check prior to localize:                   date counts\n",
      "0 2024-02-24 21:18:43    149\n",
      "     0   1    2                         3\n",
      "0  102  53  105  Mon Aug 14 14:30:23 2023\n",
      "First date for formatting:  Mon Aug 14 14:30:23 2023\n"
     ]
    },
    {
     "name": "stderr",
     "output_type": "stream",
     "text": [
      "/var/folders/tg/f26try5n4pq7thttks3b9fs00000gn/T/ipykernel_1055/4005775305.py:45: SettingWithCopyWarning: \n",
      "A value is trying to be set on a copy of a slice from a DataFrame.\n",
      "Try using .loc[row_indexer,col_indexer] = value instead\n",
      "\n",
      "See the caveats in the documentation: https://pandas.pydata.org/pandas-docs/stable/user_guide/indexing.html#returning-a-view-versus-a-copy\n",
      "  ldf['date'] = pd.to_datetime(ldf['date'], format='mixed')\n",
      "/var/folders/tg/f26try5n4pq7thttks3b9fs00000gn/T/ipykernel_1055/4005775305.py:52: SettingWithCopyWarning: \n",
      "A value is trying to be set on a copy of a slice from a DataFrame.\n",
      "Try using .loc[row_indexer,col_indexer] = value instead\n",
      "\n",
      "See the caveats in the documentation: https://pandas.pydata.org/pandas-docs/stable/user_guide/indexing.html#returning-a-view-versus-a-copy\n",
      "  ldf['date'] = ldf['date'].dt.tz_localize(monitor_tz, ambiguous='infer', nonexistent='shift_forward')\n",
      "/var/folders/tg/f26try5n4pq7thttks3b9fs00000gn/T/ipykernel_1055/4005775305.py:61: SettingWithCopyWarning: \n",
      "A value is trying to be set on a copy of a slice from a DataFrame.\n",
      "Try using .loc[row_indexer,col_indexer] = value instead\n",
      "\n",
      "See the caveats in the documentation: https://pandas.pydata.org/pandas-docs/stable/user_guide/indexing.html#returning-a-view-versus-a-copy\n",
      "  ldf['date'] = ldf['date'].dt.tz_convert('UTC')\n",
      "/var/folders/tg/f26try5n4pq7thttks3b9fs00000gn/T/ipykernel_1055/4005775305.py:69: FutureWarning: The behavior of 'isin' with dtype=datetime64[ns, UTC] and castable values (e.g. strings) is deprecated. In a future version, these will not be considered matching by isin. Explicitly cast to the appropriate dtype before calling isin instead.\n",
      "  ldf2 = ldf.drop('NaT')\n",
      "/var/folders/tg/f26try5n4pq7thttks3b9fs00000gn/T/ipykernel_1055/4005775305.py:45: SettingWithCopyWarning: \n",
      "A value is trying to be set on a copy of a slice from a DataFrame.\n",
      "Try using .loc[row_indexer,col_indexer] = value instead\n",
      "\n",
      "See the caveats in the documentation: https://pandas.pydata.org/pandas-docs/stable/user_guide/indexing.html#returning-a-view-versus-a-copy\n",
      "  ldf['date'] = pd.to_datetime(ldf['date'], format='mixed')\n",
      "/var/folders/tg/f26try5n4pq7thttks3b9fs00000gn/T/ipykernel_1055/4005775305.py:52: SettingWithCopyWarning: \n",
      "A value is trying to be set on a copy of a slice from a DataFrame.\n",
      "Try using .loc[row_indexer,col_indexer] = value instead\n",
      "\n",
      "See the caveats in the documentation: https://pandas.pydata.org/pandas-docs/stable/user_guide/indexing.html#returning-a-view-versus-a-copy\n",
      "  ldf['date'] = ldf['date'].dt.tz_localize(monitor_tz, ambiguous='infer', nonexistent='shift_forward')\n",
      "/var/folders/tg/f26try5n4pq7thttks3b9fs00000gn/T/ipykernel_1055/4005775305.py:61: SettingWithCopyWarning: \n",
      "A value is trying to be set on a copy of a slice from a DataFrame.\n",
      "Try using .loc[row_indexer,col_indexer] = value instead\n",
      "\n",
      "See the caveats in the documentation: https://pandas.pydata.org/pandas-docs/stable/user_guide/indexing.html#returning-a-view-versus-a-copy\n",
      "  ldf['date'] = ldf['date'].dt.tz_convert('UTC')\n",
      "/var/folders/tg/f26try5n4pq7thttks3b9fs00000gn/T/ipykernel_1055/4005775305.py:45: SettingWithCopyWarning: \n",
      "A value is trying to be set on a copy of a slice from a DataFrame.\n",
      "Try using .loc[row_indexer,col_indexer] = value instead\n",
      "\n",
      "See the caveats in the documentation: https://pandas.pydata.org/pandas-docs/stable/user_guide/indexing.html#returning-a-view-versus-a-copy\n",
      "  ldf['date'] = pd.to_datetime(ldf['date'], format='mixed')\n",
      "/var/folders/tg/f26try5n4pq7thttks3b9fs00000gn/T/ipykernel_1055/4005775305.py:52: SettingWithCopyWarning: \n",
      "A value is trying to be set on a copy of a slice from a DataFrame.\n",
      "Try using .loc[row_indexer,col_indexer] = value instead\n",
      "\n",
      "See the caveats in the documentation: https://pandas.pydata.org/pandas-docs/stable/user_guide/indexing.html#returning-a-view-versus-a-copy\n",
      "  ldf['date'] = ldf['date'].dt.tz_localize(monitor_tz, ambiguous='infer', nonexistent='shift_forward')\n",
      "/var/folders/tg/f26try5n4pq7thttks3b9fs00000gn/T/ipykernel_1055/4005775305.py:61: SettingWithCopyWarning: \n",
      "A value is trying to be set on a copy of a slice from a DataFrame.\n",
      "Try using .loc[row_indexer,col_indexer] = value instead\n",
      "\n",
      "See the caveats in the documentation: https://pandas.pydata.org/pandas-docs/stable/user_guide/indexing.html#returning-a-view-versus-a-copy\n",
      "  ldf['date'] = ldf['date'].dt.tz_convert('UTC')\n"
     ]
    },
    {
     "name": "stdout",
     "output_type": "stream",
     "text": [
      "date check prior to localize:                   date counts\n",
      "0 2023-08-14 14:30:23    102\n",
      "     0   1    2                         3\n",
      "0  149  57  125  Sun Feb 25 06:26:31 2024\n",
      "First date for formatting:  Sun Feb 25 06:26:31 2024\n",
      "date check prior to localize:                   date counts\n",
      "0 2024-02-25 06:26:31    149\n",
      "     0   1    2                         3\n",
      "0  102  53  105  Mon Aug 14 14:30:23 2023\n",
      "First date for formatting:  Mon Aug 14 14:30:23 2023\n",
      "date check prior to localize:                   date counts\n",
      "0 2023-08-14 14:30:23    102\n"
     ]
    },
    {
     "name": "stderr",
     "output_type": "stream",
     "text": [
      "/var/folders/tg/f26try5n4pq7thttks3b9fs00000gn/T/ipykernel_1055/4005775305.py:69: FutureWarning: The behavior of 'isin' with dtype=datetime64[ns, UTC] and castable values (e.g. strings) is deprecated. In a future version, these will not be considered matching by isin. Explicitly cast to the appropriate dtype before calling isin instead.\n",
      "  ldf2 = ldf.drop('NaT')\n"
     ]
    },
    {
     "name": "stdout",
     "output_type": "stream",
     "text": [
      "    0   1    2                         3\n",
      "0  77  42  111  Tue Aug 13 14:39:59 2024\n",
      "First date for formatting:  Tue Aug 13 14:39:59 2024\n"
     ]
    },
    {
     "name": "stderr",
     "output_type": "stream",
     "text": [
      "/var/folders/tg/f26try5n4pq7thttks3b9fs00000gn/T/ipykernel_1055/4005775305.py:45: SettingWithCopyWarning: \n",
      "A value is trying to be set on a copy of a slice from a DataFrame.\n",
      "Try using .loc[row_indexer,col_indexer] = value instead\n",
      "\n",
      "See the caveats in the documentation: https://pandas.pydata.org/pandas-docs/stable/user_guide/indexing.html#returning-a-view-versus-a-copy\n",
      "  ldf['date'] = pd.to_datetime(ldf['date'], format='mixed')\n",
      "/var/folders/tg/f26try5n4pq7thttks3b9fs00000gn/T/ipykernel_1055/4005775305.py:52: SettingWithCopyWarning: \n",
      "A value is trying to be set on a copy of a slice from a DataFrame.\n",
      "Try using .loc[row_indexer,col_indexer] = value instead\n",
      "\n",
      "See the caveats in the documentation: https://pandas.pydata.org/pandas-docs/stable/user_guide/indexing.html#returning-a-view-versus-a-copy\n",
      "  ldf['date'] = ldf['date'].dt.tz_localize(monitor_tz, ambiguous='infer', nonexistent='shift_forward')\n",
      "/var/folders/tg/f26try5n4pq7thttks3b9fs00000gn/T/ipykernel_1055/4005775305.py:61: SettingWithCopyWarning: \n",
      "A value is trying to be set on a copy of a slice from a DataFrame.\n",
      "Try using .loc[row_indexer,col_indexer] = value instead\n",
      "\n",
      "See the caveats in the documentation: https://pandas.pydata.org/pandas-docs/stable/user_guide/indexing.html#returning-a-view-versus-a-copy\n",
      "  ldf['date'] = ldf['date'].dt.tz_convert('UTC')\n"
     ]
    },
    {
     "name": "stdout",
     "output_type": "stream",
     "text": [
      "date check prior to localize:                   date counts\n",
      "0 2024-08-13 14:39:59     77\n",
      "     0   1    2                         3\n",
      "0  102  53  105  Mon Aug 14 14:30:23 2023\n",
      "First date for formatting:  Mon Aug 14 14:30:23 2023\n"
     ]
    },
    {
     "name": "stderr",
     "output_type": "stream",
     "text": [
      "/var/folders/tg/f26try5n4pq7thttks3b9fs00000gn/T/ipykernel_1055/4005775305.py:45: SettingWithCopyWarning: \n",
      "A value is trying to be set on a copy of a slice from a DataFrame.\n",
      "Try using .loc[row_indexer,col_indexer] = value instead\n",
      "\n",
      "See the caveats in the documentation: https://pandas.pydata.org/pandas-docs/stable/user_guide/indexing.html#returning-a-view-versus-a-copy\n",
      "  ldf['date'] = pd.to_datetime(ldf['date'], format='mixed')\n",
      "/var/folders/tg/f26try5n4pq7thttks3b9fs00000gn/T/ipykernel_1055/4005775305.py:56: SettingWithCopyWarning: \n",
      "A value is trying to be set on a copy of a slice from a DataFrame.\n",
      "Try using .loc[row_indexer,col_indexer] = value instead\n",
      "\n",
      "See the caveats in the documentation: https://pandas.pydata.org/pandas-docs/stable/user_guide/indexing.html#returning-a-view-versus-a-copy\n",
      "  ldf['date'] = ldf['date'].dt.tz_localize(monitor_tz, ambiguous=True, nonexistent='shift_forward')\n",
      "/var/folders/tg/f26try5n4pq7thttks3b9fs00000gn/T/ipykernel_1055/4005775305.py:61: SettingWithCopyWarning: \n",
      "A value is trying to be set on a copy of a slice from a DataFrame.\n",
      "Try using .loc[row_indexer,col_indexer] = value instead\n",
      "\n",
      "See the caveats in the documentation: https://pandas.pydata.org/pandas-docs/stable/user_guide/indexing.html#returning-a-view-versus-a-copy\n",
      "  ldf['date'] = ldf['date'].dt.tz_convert('UTC')\n"
     ]
    },
    {
     "name": "stdout",
     "output_type": "stream",
     "text": [
      "date check prior to localize:                   date counts\n",
      "0 2023-08-14 14:30:23    102\n"
     ]
    },
    {
     "name": "stderr",
     "output_type": "stream",
     "text": [
      "/var/folders/tg/f26try5n4pq7thttks3b9fs00000gn/T/ipykernel_1055/4005775305.py:69: FutureWarning: The behavior of 'isin' with dtype=datetime64[ns, UTC] and castable values (e.g. strings) is deprecated. In a future version, these will not be considered matching by isin. Explicitly cast to the appropriate dtype before calling isin instead.\n",
      "  ldf2 = ldf.drop('NaT')\n"
     ]
    },
    {
     "name": "stdout",
     "output_type": "stream",
     "text": [
      "    0   1    2                         3\n",
      "0  96  51  157  Tue Aug  6 15:36:00 2024\n",
      "First date for formatting:  Tue Aug  6 15:36:00 2024\n",
      "date check prior to localize:                   date counts\n",
      "0 2024-08-06 15:36:00     96\n",
      "     0   1    2                         3\n",
      "0  102  53  105  Mon Aug 14 14:30:23 2023\n",
      "First date for formatting:  Mon Aug 14 14:30:23 2023\n"
     ]
    },
    {
     "name": "stderr",
     "output_type": "stream",
     "text": [
      "/var/folders/tg/f26try5n4pq7thttks3b9fs00000gn/T/ipykernel_1055/4005775305.py:45: SettingWithCopyWarning: \n",
      "A value is trying to be set on a copy of a slice from a DataFrame.\n",
      "Try using .loc[row_indexer,col_indexer] = value instead\n",
      "\n",
      "See the caveats in the documentation: https://pandas.pydata.org/pandas-docs/stable/user_guide/indexing.html#returning-a-view-versus-a-copy\n",
      "  ldf['date'] = pd.to_datetime(ldf['date'], format='mixed')\n",
      "/var/folders/tg/f26try5n4pq7thttks3b9fs00000gn/T/ipykernel_1055/4005775305.py:52: SettingWithCopyWarning: \n",
      "A value is trying to be set on a copy of a slice from a DataFrame.\n",
      "Try using .loc[row_indexer,col_indexer] = value instead\n",
      "\n",
      "See the caveats in the documentation: https://pandas.pydata.org/pandas-docs/stable/user_guide/indexing.html#returning-a-view-versus-a-copy\n",
      "  ldf['date'] = ldf['date'].dt.tz_localize(monitor_tz, ambiguous='infer', nonexistent='shift_forward')\n",
      "/var/folders/tg/f26try5n4pq7thttks3b9fs00000gn/T/ipykernel_1055/4005775305.py:61: SettingWithCopyWarning: \n",
      "A value is trying to be set on a copy of a slice from a DataFrame.\n",
      "Try using .loc[row_indexer,col_indexer] = value instead\n",
      "\n",
      "See the caveats in the documentation: https://pandas.pydata.org/pandas-docs/stable/user_guide/indexing.html#returning-a-view-versus-a-copy\n",
      "  ldf['date'] = ldf['date'].dt.tz_convert('UTC')\n",
      "/var/folders/tg/f26try5n4pq7thttks3b9fs00000gn/T/ipykernel_1055/4005775305.py:45: SettingWithCopyWarning: \n",
      "A value is trying to be set on a copy of a slice from a DataFrame.\n",
      "Try using .loc[row_indexer,col_indexer] = value instead\n",
      "\n",
      "See the caveats in the documentation: https://pandas.pydata.org/pandas-docs/stable/user_guide/indexing.html#returning-a-view-versus-a-copy\n",
      "  ldf['date'] = pd.to_datetime(ldf['date'], format='mixed')\n",
      "/var/folders/tg/f26try5n4pq7thttks3b9fs00000gn/T/ipykernel_1055/4005775305.py:52: SettingWithCopyWarning: \n",
      "A value is trying to be set on a copy of a slice from a DataFrame.\n",
      "Try using .loc[row_indexer,col_indexer] = value instead\n",
      "\n",
      "See the caveats in the documentation: https://pandas.pydata.org/pandas-docs/stable/user_guide/indexing.html#returning-a-view-versus-a-copy\n",
      "  ldf['date'] = ldf['date'].dt.tz_localize(monitor_tz, ambiguous='infer', nonexistent='shift_forward')\n",
      "/var/folders/tg/f26try5n4pq7thttks3b9fs00000gn/T/ipykernel_1055/4005775305.py:61: SettingWithCopyWarning: \n",
      "A value is trying to be set on a copy of a slice from a DataFrame.\n",
      "Try using .loc[row_indexer,col_indexer] = value instead\n",
      "\n",
      "See the caveats in the documentation: https://pandas.pydata.org/pandas-docs/stable/user_guide/indexing.html#returning-a-view-versus-a-copy\n",
      "  ldf['date'] = ldf['date'].dt.tz_convert('UTC')\n",
      "/var/folders/tg/f26try5n4pq7thttks3b9fs00000gn/T/ipykernel_1055/4005775305.py:69: FutureWarning: The behavior of 'isin' with dtype=datetime64[ns, UTC] and castable values (e.g. strings) is deprecated. In a future version, these will not be considered matching by isin. Explicitly cast to the appropriate dtype before calling isin instead.\n",
      "  ldf2 = ldf.drop('NaT')\n",
      "/var/folders/tg/f26try5n4pq7thttks3b9fs00000gn/T/ipykernel_1055/4005775305.py:45: SettingWithCopyWarning: \n",
      "A value is trying to be set on a copy of a slice from a DataFrame.\n",
      "Try using .loc[row_indexer,col_indexer] = value instead\n",
      "\n",
      "See the caveats in the documentation: https://pandas.pydata.org/pandas-docs/stable/user_guide/indexing.html#returning-a-view-versus-a-copy\n",
      "  ldf['date'] = pd.to_datetime(ldf['date'], format='mixed')\n",
      "/var/folders/tg/f26try5n4pq7thttks3b9fs00000gn/T/ipykernel_1055/4005775305.py:52: SettingWithCopyWarning: \n",
      "A value is trying to be set on a copy of a slice from a DataFrame.\n",
      "Try using .loc[row_indexer,col_indexer] = value instead\n",
      "\n",
      "See the caveats in the documentation: https://pandas.pydata.org/pandas-docs/stable/user_guide/indexing.html#returning-a-view-versus-a-copy\n",
      "  ldf['date'] = ldf['date'].dt.tz_localize(monitor_tz, ambiguous='infer', nonexistent='shift_forward')\n",
      "/var/folders/tg/f26try5n4pq7thttks3b9fs00000gn/T/ipykernel_1055/4005775305.py:61: SettingWithCopyWarning: \n",
      "A value is trying to be set on a copy of a slice from a DataFrame.\n",
      "Try using .loc[row_indexer,col_indexer] = value instead\n",
      "\n",
      "See the caveats in the documentation: https://pandas.pydata.org/pandas-docs/stable/user_guide/indexing.html#returning-a-view-versus-a-copy\n",
      "  ldf['date'] = ldf['date'].dt.tz_convert('UTC')\n",
      "/var/folders/tg/f26try5n4pq7thttks3b9fs00000gn/T/ipykernel_1055/4005775305.py:45: SettingWithCopyWarning: \n",
      "A value is trying to be set on a copy of a slice from a DataFrame.\n",
      "Try using .loc[row_indexer,col_indexer] = value instead\n",
      "\n",
      "See the caveats in the documentation: https://pandas.pydata.org/pandas-docs/stable/user_guide/indexing.html#returning-a-view-versus-a-copy\n",
      "  ldf['date'] = pd.to_datetime(ldf['date'], format='mixed')\n",
      "/var/folders/tg/f26try5n4pq7thttks3b9fs00000gn/T/ipykernel_1055/4005775305.py:52: SettingWithCopyWarning: \n",
      "A value is trying to be set on a copy of a slice from a DataFrame.\n",
      "Try using .loc[row_indexer,col_indexer] = value instead\n",
      "\n",
      "See the caveats in the documentation: https://pandas.pydata.org/pandas-docs/stable/user_guide/indexing.html#returning-a-view-versus-a-copy\n",
      "  ldf['date'] = ldf['date'].dt.tz_localize(monitor_tz, ambiguous='infer', nonexistent='shift_forward')\n",
      "/var/folders/tg/f26try5n4pq7thttks3b9fs00000gn/T/ipykernel_1055/4005775305.py:61: SettingWithCopyWarning: \n",
      "A value is trying to be set on a copy of a slice from a DataFrame.\n",
      "Try using .loc[row_indexer,col_indexer] = value instead\n",
      "\n",
      "See the caveats in the documentation: https://pandas.pydata.org/pandas-docs/stable/user_guide/indexing.html#returning-a-view-versus-a-copy\n",
      "  ldf['date'] = ldf['date'].dt.tz_convert('UTC')\n"
     ]
    },
    {
     "name": "stdout",
     "output_type": "stream",
     "text": [
      "date check prior to localize:                   date counts\n",
      "0 2023-08-14 14:30:23    102\n",
      "     0   1    2                         3\n",
      "0  135  70  157  Mon Apr 22 14:17:41 2024\n",
      "First date for formatting:  Mon Apr 22 14:17:41 2024\n",
      "date check prior to localize:                   date counts\n",
      "0 2024-04-22 14:17:41    135\n",
      "     0   1    2                         3\n",
      "0  154  70  125  Sun Feb 25 05:31:23 2024\n",
      "First date for formatting:  Sun Feb 25 05:31:23 2024\n",
      "date check prior to localize:                   date counts\n",
      "0 2024-02-25 05:31:23    154\n",
      "     0   1   2                         3\n",
      "0  130  50  98  Thu Mar 21 10:53:27 2024\n",
      "First date for formatting:  Thu Mar 21 10:53:27 2024\n"
     ]
    },
    {
     "name": "stderr",
     "output_type": "stream",
     "text": [
      "/var/folders/tg/f26try5n4pq7thttks3b9fs00000gn/T/ipykernel_1055/4005775305.py:45: SettingWithCopyWarning: \n",
      "A value is trying to be set on a copy of a slice from a DataFrame.\n",
      "Try using .loc[row_indexer,col_indexer] = value instead\n",
      "\n",
      "See the caveats in the documentation: https://pandas.pydata.org/pandas-docs/stable/user_guide/indexing.html#returning-a-view-versus-a-copy\n",
      "  ldf['date'] = pd.to_datetime(ldf['date'], format='mixed')\n",
      "/var/folders/tg/f26try5n4pq7thttks3b9fs00000gn/T/ipykernel_1055/4005775305.py:52: SettingWithCopyWarning: \n",
      "A value is trying to be set on a copy of a slice from a DataFrame.\n",
      "Try using .loc[row_indexer,col_indexer] = value instead\n",
      "\n",
      "See the caveats in the documentation: https://pandas.pydata.org/pandas-docs/stable/user_guide/indexing.html#returning-a-view-versus-a-copy\n",
      "  ldf['date'] = ldf['date'].dt.tz_localize(monitor_tz, ambiguous='infer', nonexistent='shift_forward')\n",
      "/var/folders/tg/f26try5n4pq7thttks3b9fs00000gn/T/ipykernel_1055/4005775305.py:61: SettingWithCopyWarning: \n",
      "A value is trying to be set on a copy of a slice from a DataFrame.\n",
      "Try using .loc[row_indexer,col_indexer] = value instead\n",
      "\n",
      "See the caveats in the documentation: https://pandas.pydata.org/pandas-docs/stable/user_guide/indexing.html#returning-a-view-versus-a-copy\n",
      "  ldf['date'] = ldf['date'].dt.tz_convert('UTC')\n"
     ]
    },
    {
     "name": "stdout",
     "output_type": "stream",
     "text": [
      "date check prior to localize:                   date counts\n",
      "0 2024-03-21 10:53:27    130\n",
      "     0   1    2                         3\n",
      "0  148  74  131  Tue Feb  6 13:01:37 2024\n",
      "First date for formatting:  Tue Feb  6 13:01:37 2024\n"
     ]
    },
    {
     "name": "stderr",
     "output_type": "stream",
     "text": [
      "/var/folders/tg/f26try5n4pq7thttks3b9fs00000gn/T/ipykernel_1055/4005775305.py:45: SettingWithCopyWarning: \n",
      "A value is trying to be set on a copy of a slice from a DataFrame.\n",
      "Try using .loc[row_indexer,col_indexer] = value instead\n",
      "\n",
      "See the caveats in the documentation: https://pandas.pydata.org/pandas-docs/stable/user_guide/indexing.html#returning-a-view-versus-a-copy\n",
      "  ldf['date'] = pd.to_datetime(ldf['date'], format='mixed')\n",
      "/var/folders/tg/f26try5n4pq7thttks3b9fs00000gn/T/ipykernel_1055/4005775305.py:52: SettingWithCopyWarning: \n",
      "A value is trying to be set on a copy of a slice from a DataFrame.\n",
      "Try using .loc[row_indexer,col_indexer] = value instead\n",
      "\n",
      "See the caveats in the documentation: https://pandas.pydata.org/pandas-docs/stable/user_guide/indexing.html#returning-a-view-versus-a-copy\n",
      "  ldf['date'] = ldf['date'].dt.tz_localize(monitor_tz, ambiguous='infer', nonexistent='shift_forward')\n",
      "/var/folders/tg/f26try5n4pq7thttks3b9fs00000gn/T/ipykernel_1055/4005775305.py:61: SettingWithCopyWarning: \n",
      "A value is trying to be set on a copy of a slice from a DataFrame.\n",
      "Try using .loc[row_indexer,col_indexer] = value instead\n",
      "\n",
      "See the caveats in the documentation: https://pandas.pydata.org/pandas-docs/stable/user_guide/indexing.html#returning-a-view-versus-a-copy\n",
      "  ldf['date'] = ldf['date'].dt.tz_convert('UTC')\n"
     ]
    },
    {
     "name": "stdout",
     "output_type": "stream",
     "text": [
      "date check prior to localize:                   date counts\n",
      "0 2024-02-06 13:01:37    148\n",
      "     0   1    2                         3\n",
      "0  113  67  142  Thu Aug 22 16:20:45 2024\n",
      "First date for formatting:  Thu Aug 22 16:20:45 2024\n"
     ]
    },
    {
     "name": "stderr",
     "output_type": "stream",
     "text": [
      "/var/folders/tg/f26try5n4pq7thttks3b9fs00000gn/T/ipykernel_1055/4005775305.py:45: SettingWithCopyWarning: \n",
      "A value is trying to be set on a copy of a slice from a DataFrame.\n",
      "Try using .loc[row_indexer,col_indexer] = value instead\n",
      "\n",
      "See the caveats in the documentation: https://pandas.pydata.org/pandas-docs/stable/user_guide/indexing.html#returning-a-view-versus-a-copy\n",
      "  ldf['date'] = pd.to_datetime(ldf['date'], format='mixed')\n",
      "/var/folders/tg/f26try5n4pq7thttks3b9fs00000gn/T/ipykernel_1055/4005775305.py:52: SettingWithCopyWarning: \n",
      "A value is trying to be set on a copy of a slice from a DataFrame.\n",
      "Try using .loc[row_indexer,col_indexer] = value instead\n",
      "\n",
      "See the caveats in the documentation: https://pandas.pydata.org/pandas-docs/stable/user_guide/indexing.html#returning-a-view-versus-a-copy\n",
      "  ldf['date'] = ldf['date'].dt.tz_localize(monitor_tz, ambiguous='infer', nonexistent='shift_forward')\n",
      "/var/folders/tg/f26try5n4pq7thttks3b9fs00000gn/T/ipykernel_1055/4005775305.py:61: SettingWithCopyWarning: \n",
      "A value is trying to be set on a copy of a slice from a DataFrame.\n",
      "Try using .loc[row_indexer,col_indexer] = value instead\n",
      "\n",
      "See the caveats in the documentation: https://pandas.pydata.org/pandas-docs/stable/user_guide/indexing.html#returning-a-view-versus-a-copy\n",
      "  ldf['date'] = ldf['date'].dt.tz_convert('UTC')\n",
      "/var/folders/tg/f26try5n4pq7thttks3b9fs00000gn/T/ipykernel_1055/4005775305.py:45: SettingWithCopyWarning: \n",
      "A value is trying to be set on a copy of a slice from a DataFrame.\n",
      "Try using .loc[row_indexer,col_indexer] = value instead\n",
      "\n",
      "See the caveats in the documentation: https://pandas.pydata.org/pandas-docs/stable/user_guide/indexing.html#returning-a-view-versus-a-copy\n",
      "  ldf['date'] = pd.to_datetime(ldf['date'], format='mixed')\n",
      "/var/folders/tg/f26try5n4pq7thttks3b9fs00000gn/T/ipykernel_1055/4005775305.py:52: SettingWithCopyWarning: \n",
      "A value is trying to be set on a copy of a slice from a DataFrame.\n",
      "Try using .loc[row_indexer,col_indexer] = value instead\n",
      "\n",
      "See the caveats in the documentation: https://pandas.pydata.org/pandas-docs/stable/user_guide/indexing.html#returning-a-view-versus-a-copy\n",
      "  ldf['date'] = ldf['date'].dt.tz_localize(monitor_tz, ambiguous='infer', nonexistent='shift_forward')\n",
      "/var/folders/tg/f26try5n4pq7thttks3b9fs00000gn/T/ipykernel_1055/4005775305.py:61: SettingWithCopyWarning: \n",
      "A value is trying to be set on a copy of a slice from a DataFrame.\n",
      "Try using .loc[row_indexer,col_indexer] = value instead\n",
      "\n",
      "See the caveats in the documentation: https://pandas.pydata.org/pandas-docs/stable/user_guide/indexing.html#returning-a-view-versus-a-copy\n",
      "  ldf['date'] = ldf['date'].dt.tz_convert('UTC')\n"
     ]
    },
    {
     "name": "stdout",
     "output_type": "stream",
     "text": [
      "date check prior to localize:                   date counts\n",
      "0 2024-08-22 16:20:45    113\n",
      "     0   1    2                         3\n",
      "0  113  67  142  Thu Aug 22 16:20:45 2024\n",
      "First date for formatting:  Thu Aug 22 16:20:45 2024\n",
      "date check prior to localize:                   date counts\n",
      "0 2024-08-22 16:20:45    113\n",
      "     0   1    2                         3\n",
      "0  140  65  121  Mon Apr  8 13:20:29 2024\n",
      "First date for formatting:  Mon Apr  8 13:20:29 2024\n"
     ]
    },
    {
     "name": "stderr",
     "output_type": "stream",
     "text": [
      "/var/folders/tg/f26try5n4pq7thttks3b9fs00000gn/T/ipykernel_1055/4005775305.py:45: SettingWithCopyWarning: \n",
      "A value is trying to be set on a copy of a slice from a DataFrame.\n",
      "Try using .loc[row_indexer,col_indexer] = value instead\n",
      "\n",
      "See the caveats in the documentation: https://pandas.pydata.org/pandas-docs/stable/user_guide/indexing.html#returning-a-view-versus-a-copy\n",
      "  ldf['date'] = pd.to_datetime(ldf['date'], format='mixed')\n",
      "/var/folders/tg/f26try5n4pq7thttks3b9fs00000gn/T/ipykernel_1055/4005775305.py:52: SettingWithCopyWarning: \n",
      "A value is trying to be set on a copy of a slice from a DataFrame.\n",
      "Try using .loc[row_indexer,col_indexer] = value instead\n",
      "\n",
      "See the caveats in the documentation: https://pandas.pydata.org/pandas-docs/stable/user_guide/indexing.html#returning-a-view-versus-a-copy\n",
      "  ldf['date'] = ldf['date'].dt.tz_localize(monitor_tz, ambiguous='infer', nonexistent='shift_forward')\n",
      "/var/folders/tg/f26try5n4pq7thttks3b9fs00000gn/T/ipykernel_1055/4005775305.py:61: SettingWithCopyWarning: \n",
      "A value is trying to be set on a copy of a slice from a DataFrame.\n",
      "Try using .loc[row_indexer,col_indexer] = value instead\n",
      "\n",
      "See the caveats in the documentation: https://pandas.pydata.org/pandas-docs/stable/user_guide/indexing.html#returning-a-view-versus-a-copy\n",
      "  ldf['date'] = ldf['date'].dt.tz_convert('UTC')\n"
     ]
    },
    {
     "name": "stdout",
     "output_type": "stream",
     "text": [
      "date check prior to localize:                   date counts\n",
      "0 2024-04-08 13:20:29    140\n",
      "    0   1    2                         3\n",
      "0  77  42  111  Tue Aug 13 14:39:59 2024\n",
      "First date for formatting:  Tue Aug 13 14:39:59 2024\n"
     ]
    },
    {
     "name": "stderr",
     "output_type": "stream",
     "text": [
      "/var/folders/tg/f26try5n4pq7thttks3b9fs00000gn/T/ipykernel_1055/4005775305.py:45: SettingWithCopyWarning: \n",
      "A value is trying to be set on a copy of a slice from a DataFrame.\n",
      "Try using .loc[row_indexer,col_indexer] = value instead\n",
      "\n",
      "See the caveats in the documentation: https://pandas.pydata.org/pandas-docs/stable/user_guide/indexing.html#returning-a-view-versus-a-copy\n",
      "  ldf['date'] = pd.to_datetime(ldf['date'], format='mixed')\n",
      "/var/folders/tg/f26try5n4pq7thttks3b9fs00000gn/T/ipykernel_1055/4005775305.py:52: SettingWithCopyWarning: \n",
      "A value is trying to be set on a copy of a slice from a DataFrame.\n",
      "Try using .loc[row_indexer,col_indexer] = value instead\n",
      "\n",
      "See the caveats in the documentation: https://pandas.pydata.org/pandas-docs/stable/user_guide/indexing.html#returning-a-view-versus-a-copy\n",
      "  ldf['date'] = ldf['date'].dt.tz_localize(monitor_tz, ambiguous='infer', nonexistent='shift_forward')\n",
      "/var/folders/tg/f26try5n4pq7thttks3b9fs00000gn/T/ipykernel_1055/4005775305.py:61: SettingWithCopyWarning: \n",
      "A value is trying to be set on a copy of a slice from a DataFrame.\n",
      "Try using .loc[row_indexer,col_indexer] = value instead\n",
      "\n",
      "See the caveats in the documentation: https://pandas.pydata.org/pandas-docs/stable/user_guide/indexing.html#returning-a-view-versus-a-copy\n",
      "  ldf['date'] = ldf['date'].dt.tz_convert('UTC')\n"
     ]
    },
    {
     "name": "stdout",
     "output_type": "stream",
     "text": [
      "date check prior to localize:                   date counts\n",
      "0 2024-08-13 14:39:59     77\n",
      "    0   1    2                         3\n",
      "0  77  42  111  Tue Aug 13 14:39:59 2024\n",
      "First date for formatting:  Tue Aug 13 14:39:59 2024\n"
     ]
    },
    {
     "name": "stderr",
     "output_type": "stream",
     "text": [
      "/var/folders/tg/f26try5n4pq7thttks3b9fs00000gn/T/ipykernel_1055/4005775305.py:45: SettingWithCopyWarning: \n",
      "A value is trying to be set on a copy of a slice from a DataFrame.\n",
      "Try using .loc[row_indexer,col_indexer] = value instead\n",
      "\n",
      "See the caveats in the documentation: https://pandas.pydata.org/pandas-docs/stable/user_guide/indexing.html#returning-a-view-versus-a-copy\n",
      "  ldf['date'] = pd.to_datetime(ldf['date'], format='mixed')\n",
      "/var/folders/tg/f26try5n4pq7thttks3b9fs00000gn/T/ipykernel_1055/4005775305.py:52: SettingWithCopyWarning: \n",
      "A value is trying to be set on a copy of a slice from a DataFrame.\n",
      "Try using .loc[row_indexer,col_indexer] = value instead\n",
      "\n",
      "See the caveats in the documentation: https://pandas.pydata.org/pandas-docs/stable/user_guide/indexing.html#returning-a-view-versus-a-copy\n",
      "  ldf['date'] = ldf['date'].dt.tz_localize(monitor_tz, ambiguous='infer', nonexistent='shift_forward')\n",
      "/var/folders/tg/f26try5n4pq7thttks3b9fs00000gn/T/ipykernel_1055/4005775305.py:61: SettingWithCopyWarning: \n",
      "A value is trying to be set on a copy of a slice from a DataFrame.\n",
      "Try using .loc[row_indexer,col_indexer] = value instead\n",
      "\n",
      "See the caveats in the documentation: https://pandas.pydata.org/pandas-docs/stable/user_guide/indexing.html#returning-a-view-versus-a-copy\n",
      "  ldf['date'] = ldf['date'].dt.tz_convert('UTC')\n",
      "/var/folders/tg/f26try5n4pq7thttks3b9fs00000gn/T/ipykernel_1055/4005775305.py:45: SettingWithCopyWarning: \n",
      "A value is trying to be set on a copy of a slice from a DataFrame.\n",
      "Try using .loc[row_indexer,col_indexer] = value instead\n",
      "\n",
      "See the caveats in the documentation: https://pandas.pydata.org/pandas-docs/stable/user_guide/indexing.html#returning-a-view-versus-a-copy\n",
      "  ldf['date'] = pd.to_datetime(ldf['date'], format='mixed')\n",
      "/var/folders/tg/f26try5n4pq7thttks3b9fs00000gn/T/ipykernel_1055/4005775305.py:52: SettingWithCopyWarning: \n",
      "A value is trying to be set on a copy of a slice from a DataFrame.\n",
      "Try using .loc[row_indexer,col_indexer] = value instead\n",
      "\n",
      "See the caveats in the documentation: https://pandas.pydata.org/pandas-docs/stable/user_guide/indexing.html#returning-a-view-versus-a-copy\n",
      "  ldf['date'] = ldf['date'].dt.tz_localize(monitor_tz, ambiguous='infer', nonexistent='shift_forward')\n",
      "/var/folders/tg/f26try5n4pq7thttks3b9fs00000gn/T/ipykernel_1055/4005775305.py:61: SettingWithCopyWarning: \n",
      "A value is trying to be set on a copy of a slice from a DataFrame.\n",
      "Try using .loc[row_indexer,col_indexer] = value instead\n",
      "\n",
      "See the caveats in the documentation: https://pandas.pydata.org/pandas-docs/stable/user_guide/indexing.html#returning-a-view-versus-a-copy\n",
      "  ldf['date'] = ldf['date'].dt.tz_convert('UTC')\n"
     ]
    },
    {
     "name": "stdout",
     "output_type": "stream",
     "text": [
      "date check prior to localize:                   date counts\n",
      "0 2024-08-13 14:39:59     77\n",
      "     0   1    2                         3\n",
      "0  113  67  142  Thu Aug 22 16:20:45 2024\n",
      "First date for formatting:  Thu Aug 22 16:20:45 2024\n",
      "date check prior to localize:                   date counts\n",
      "0 2024-08-22 16:20:45    113\n",
      "     0   1    2                         3\n",
      "0  102  53  105  Mon Aug 14 14:30:23 2023\n",
      "First date for formatting:  Mon Aug 14 14:30:23 2023\n"
     ]
    },
    {
     "name": "stderr",
     "output_type": "stream",
     "text": [
      "/var/folders/tg/f26try5n4pq7thttks3b9fs00000gn/T/ipykernel_1055/4005775305.py:45: SettingWithCopyWarning: \n",
      "A value is trying to be set on a copy of a slice from a DataFrame.\n",
      "Try using .loc[row_indexer,col_indexer] = value instead\n",
      "\n",
      "See the caveats in the documentation: https://pandas.pydata.org/pandas-docs/stable/user_guide/indexing.html#returning-a-view-versus-a-copy\n",
      "  ldf['date'] = pd.to_datetime(ldf['date'], format='mixed')\n",
      "/var/folders/tg/f26try5n4pq7thttks3b9fs00000gn/T/ipykernel_1055/4005775305.py:52: SettingWithCopyWarning: \n",
      "A value is trying to be set on a copy of a slice from a DataFrame.\n",
      "Try using .loc[row_indexer,col_indexer] = value instead\n",
      "\n",
      "See the caveats in the documentation: https://pandas.pydata.org/pandas-docs/stable/user_guide/indexing.html#returning-a-view-versus-a-copy\n",
      "  ldf['date'] = ldf['date'].dt.tz_localize(monitor_tz, ambiguous='infer', nonexistent='shift_forward')\n",
      "/var/folders/tg/f26try5n4pq7thttks3b9fs00000gn/T/ipykernel_1055/4005775305.py:61: SettingWithCopyWarning: \n",
      "A value is trying to be set on a copy of a slice from a DataFrame.\n",
      "Try using .loc[row_indexer,col_indexer] = value instead\n",
      "\n",
      "See the caveats in the documentation: https://pandas.pydata.org/pandas-docs/stable/user_guide/indexing.html#returning-a-view-versus-a-copy\n",
      "  ldf['date'] = ldf['date'].dt.tz_convert('UTC')\n",
      "/var/folders/tg/f26try5n4pq7thttks3b9fs00000gn/T/ipykernel_1055/4005775305.py:69: FutureWarning: The behavior of 'isin' with dtype=datetime64[ns, UTC] and castable values (e.g. strings) is deprecated. In a future version, these will not be considered matching by isin. Explicitly cast to the appropriate dtype before calling isin instead.\n",
      "  ldf2 = ldf.drop('NaT')\n"
     ]
    },
    {
     "name": "stdout",
     "output_type": "stream",
     "text": [
      "date check prior to localize:                   date counts\n",
      "0 2023-08-14 14:30:23    102\n",
      "     0   1    2                         3\n",
      "0  138  79  160  Tue Apr 23 09:49:16 2024\n",
      "First date for formatting:  Tue Apr 23 09:49:16 2024\n"
     ]
    },
    {
     "name": "stderr",
     "output_type": "stream",
     "text": [
      "/var/folders/tg/f26try5n4pq7thttks3b9fs00000gn/T/ipykernel_1055/4005775305.py:45: SettingWithCopyWarning: \n",
      "A value is trying to be set on a copy of a slice from a DataFrame.\n",
      "Try using .loc[row_indexer,col_indexer] = value instead\n",
      "\n",
      "See the caveats in the documentation: https://pandas.pydata.org/pandas-docs/stable/user_guide/indexing.html#returning-a-view-versus-a-copy\n",
      "  ldf['date'] = pd.to_datetime(ldf['date'], format='mixed')\n",
      "/var/folders/tg/f26try5n4pq7thttks3b9fs00000gn/T/ipykernel_1055/4005775305.py:52: SettingWithCopyWarning: \n",
      "A value is trying to be set on a copy of a slice from a DataFrame.\n",
      "Try using .loc[row_indexer,col_indexer] = value instead\n",
      "\n",
      "See the caveats in the documentation: https://pandas.pydata.org/pandas-docs/stable/user_guide/indexing.html#returning-a-view-versus-a-copy\n",
      "  ldf['date'] = ldf['date'].dt.tz_localize(monitor_tz, ambiguous='infer', nonexistent='shift_forward')\n",
      "/var/folders/tg/f26try5n4pq7thttks3b9fs00000gn/T/ipykernel_1055/4005775305.py:61: SettingWithCopyWarning: \n",
      "A value is trying to be set on a copy of a slice from a DataFrame.\n",
      "Try using .loc[row_indexer,col_indexer] = value instead\n",
      "\n",
      "See the caveats in the documentation: https://pandas.pydata.org/pandas-docs/stable/user_guide/indexing.html#returning-a-view-versus-a-copy\n",
      "  ldf['date'] = ldf['date'].dt.tz_convert('UTC')\n"
     ]
    },
    {
     "name": "stdout",
     "output_type": "stream",
     "text": [
      "date check prior to localize:                   date counts\n",
      "0 2024-04-23 09:49:16    138\n",
      "     0   1    2                         3\n",
      "0  169  71  124  Sun Feb 25 11:33:36 2024\n",
      "First date for formatting:  Sun Feb 25 11:33:36 2024\n"
     ]
    },
    {
     "name": "stderr",
     "output_type": "stream",
     "text": [
      "/var/folders/tg/f26try5n4pq7thttks3b9fs00000gn/T/ipykernel_1055/4005775305.py:45: SettingWithCopyWarning: \n",
      "A value is trying to be set on a copy of a slice from a DataFrame.\n",
      "Try using .loc[row_indexer,col_indexer] = value instead\n",
      "\n",
      "See the caveats in the documentation: https://pandas.pydata.org/pandas-docs/stable/user_guide/indexing.html#returning-a-view-versus-a-copy\n",
      "  ldf['date'] = pd.to_datetime(ldf['date'], format='mixed')\n",
      "/var/folders/tg/f26try5n4pq7thttks3b9fs00000gn/T/ipykernel_1055/4005775305.py:52: SettingWithCopyWarning: \n",
      "A value is trying to be set on a copy of a slice from a DataFrame.\n",
      "Try using .loc[row_indexer,col_indexer] = value instead\n",
      "\n",
      "See the caveats in the documentation: https://pandas.pydata.org/pandas-docs/stable/user_guide/indexing.html#returning-a-view-versus-a-copy\n",
      "  ldf['date'] = ldf['date'].dt.tz_localize(monitor_tz, ambiguous='infer', nonexistent='shift_forward')\n",
      "/var/folders/tg/f26try5n4pq7thttks3b9fs00000gn/T/ipykernel_1055/4005775305.py:61: SettingWithCopyWarning: \n",
      "A value is trying to be set on a copy of a slice from a DataFrame.\n",
      "Try using .loc[row_indexer,col_indexer] = value instead\n",
      "\n",
      "See the caveats in the documentation: https://pandas.pydata.org/pandas-docs/stable/user_guide/indexing.html#returning-a-view-versus-a-copy\n",
      "  ldf['date'] = ldf['date'].dt.tz_convert('UTC')\n"
     ]
    },
    {
     "name": "stdout",
     "output_type": "stream",
     "text": [
      "date check prior to localize:                   date counts\n",
      "0 2024-02-25 11:33:36    169\n",
      "    0   1    2                         3\n",
      "0  89  45  114  Sun May 19 18:48:48 2024\n",
      "First date for formatting:  Sun May 19 18:48:48 2024\n"
     ]
    },
    {
     "name": "stderr",
     "output_type": "stream",
     "text": [
      "/var/folders/tg/f26try5n4pq7thttks3b9fs00000gn/T/ipykernel_1055/4005775305.py:45: SettingWithCopyWarning: \n",
      "A value is trying to be set on a copy of a slice from a DataFrame.\n",
      "Try using .loc[row_indexer,col_indexer] = value instead\n",
      "\n",
      "See the caveats in the documentation: https://pandas.pydata.org/pandas-docs/stable/user_guide/indexing.html#returning-a-view-versus-a-copy\n",
      "  ldf['date'] = pd.to_datetime(ldf['date'], format='mixed')\n",
      "/var/folders/tg/f26try5n4pq7thttks3b9fs00000gn/T/ipykernel_1055/4005775305.py:52: SettingWithCopyWarning: \n",
      "A value is trying to be set on a copy of a slice from a DataFrame.\n",
      "Try using .loc[row_indexer,col_indexer] = value instead\n",
      "\n",
      "See the caveats in the documentation: https://pandas.pydata.org/pandas-docs/stable/user_guide/indexing.html#returning-a-view-versus-a-copy\n",
      "  ldf['date'] = ldf['date'].dt.tz_localize(monitor_tz, ambiguous='infer', nonexistent='shift_forward')\n",
      "/var/folders/tg/f26try5n4pq7thttks3b9fs00000gn/T/ipykernel_1055/4005775305.py:61: SettingWithCopyWarning: \n",
      "A value is trying to be set on a copy of a slice from a DataFrame.\n",
      "Try using .loc[row_indexer,col_indexer] = value instead\n",
      "\n",
      "See the caveats in the documentation: https://pandas.pydata.org/pandas-docs/stable/user_guide/indexing.html#returning-a-view-versus-a-copy\n",
      "  ldf['date'] = ldf['date'].dt.tz_convert('UTC')\n"
     ]
    },
    {
     "name": "stdout",
     "output_type": "stream",
     "text": [
      "date check prior to localize:                   date counts\n",
      "0 2024-05-19 18:48:48     89\n",
      "     0   1    2                         3\n",
      "0  149  68  117  Sat Feb 24 10:18:42 2024\n",
      "First date for formatting:  Sat Feb 24 10:18:42 2024\n",
      "date check prior to localize:                   date counts\n",
      "0 2024-02-24 10:18:42    149\n",
      "Log file index 1\n",
      "Last log date bf shutdown:  2023-08-29 18:00:00+00:00 \n",
      "First log date after shutdown:  2023-08-15 23:00:00+00:00\n",
      "Log file index 2\n",
      "Last log date bf shutdown:  2023-08-29 18:00:00+00:00 \n",
      "First log date after shutdown:  2023-08-15 23:00:00+00:00\n",
      "Log file index 3\n",
      "Last log date bf shutdown:  2023-08-29 18:00:00+00:00 \n",
      "First log date after shutdown:  2023-08-15 23:00:00+00:00\n",
      "Log file index 4\n",
      "Last log date bf shutdown:  2023-08-29 18:00:00+00:00 \n",
      "First log date after shutdown:  2023-08-15 23:00:00+00:00\n",
      "Log file index 5\n",
      "Last log date bf shutdown:  2023-08-29 18:00:00+00:00 \n",
      "First log date after shutdown:  2024-02-06 22:00:00+00:00\n",
      "Log file index 6\n",
      "Last log date bf shutdown:  2024-02-24 17:00:00+00:00 \n",
      "First log date after shutdown:  2024-02-24 19:00:00+00:00\n",
      "Log file index 7\n",
      "Last log date bf shutdown:  2024-02-25 04:00:00+00:00 \n",
      "First log date after shutdown:  2024-02-25 06:00:00+00:00\n",
      "Log file index 8\n",
      "Log file index 9\n",
      "Last log date bf shutdown:  2024-02-25 12:00:00+00:00 \n",
      "First log date after shutdown:  2024-02-25 15:00:00+00:00\n",
      "Log file index 10\n",
      "Last log date bf shutdown:  2024-02-25 18:00:00+00:00 \n",
      "First log date after shutdown:  2024-02-25 20:00:00+00:00\n",
      "Log file index 11\n",
      "Last log date bf shutdown:  2024-03-09 21:00:00+00:00 \n",
      "First log date after shutdown:  2024-03-21 18:00:00+00:00\n",
      "Log file index 12\n",
      "Last log date bf shutdown:  2024-04-08 19:00:00+00:00 \n",
      "First log date after shutdown:  2024-04-08 21:00:00+00:00\n",
      "Log file index 13\n",
      "Last log date bf shutdown:  2024-04-14 12:00:00+00:00 \n",
      "First log date after shutdown:  2024-04-22 22:00:00+00:00\n",
      "Log file index 14\n",
      "Last log date bf shutdown:  2024-04-23 11:00:00+00:00 \n",
      "First log date after shutdown:  2024-04-23 17:00:00+00:00\n",
      "Log file index 15\n",
      "Last log date bf shutdown:  2024-04-26 11:00:00+00:00 \n",
      "First log date after shutdown:  2024-04-26 19:00:00+00:00\n",
      "Log file index 16\n",
      "Last log date bf shutdown:  2024-04-27 17:00:00+00:00 \n",
      "First log date after shutdown:  2024-04-27 22:00:00+00:00\n"
     ]
    },
    {
     "name": "stderr",
     "output_type": "stream",
     "text": [
      "/var/folders/tg/f26try5n4pq7thttks3b9fs00000gn/T/ipykernel_1055/4005775305.py:45: SettingWithCopyWarning: \n",
      "A value is trying to be set on a copy of a slice from a DataFrame.\n",
      "Try using .loc[row_indexer,col_indexer] = value instead\n",
      "\n",
      "See the caveats in the documentation: https://pandas.pydata.org/pandas-docs/stable/user_guide/indexing.html#returning-a-view-versus-a-copy\n",
      "  ldf['date'] = pd.to_datetime(ldf['date'], format='mixed')\n",
      "/var/folders/tg/f26try5n4pq7thttks3b9fs00000gn/T/ipykernel_1055/4005775305.py:52: SettingWithCopyWarning: \n",
      "A value is trying to be set on a copy of a slice from a DataFrame.\n",
      "Try using .loc[row_indexer,col_indexer] = value instead\n",
      "\n",
      "See the caveats in the documentation: https://pandas.pydata.org/pandas-docs/stable/user_guide/indexing.html#returning-a-view-versus-a-copy\n",
      "  ldf['date'] = ldf['date'].dt.tz_localize(monitor_tz, ambiguous='infer', nonexistent='shift_forward')\n",
      "/var/folders/tg/f26try5n4pq7thttks3b9fs00000gn/T/ipykernel_1055/4005775305.py:61: SettingWithCopyWarning: \n",
      "A value is trying to be set on a copy of a slice from a DataFrame.\n",
      "Try using .loc[row_indexer,col_indexer] = value instead\n",
      "\n",
      "See the caveats in the documentation: https://pandas.pydata.org/pandas-docs/stable/user_guide/indexing.html#returning-a-view-versus-a-copy\n",
      "  ldf['date'] = ldf['date'].dt.tz_convert('UTC')\n"
     ]
    },
    {
     "name": "stdout",
     "output_type": "stream",
     "text": [
      "Log file index 17\n",
      "Last log date bf shutdown:  2024-05-19 11:00:00+00:00 \n",
      "First log date after shutdown:  2024-05-20 05:00:00+00:00\n",
      "Log file index 18\n",
      "Last log date bf shutdown:  2024-08-01 11:00:00+00:00 \n",
      "First log date after shutdown:  2024-08-06 23:00:00+00:00\n",
      "Log file index 19\n",
      "Last log date bf shutdown:  2024-08-09 12:00:00+00:00 \n",
      "First log date after shutdown:  2024-08-13 22:00:00+00:00\n",
      "Log file index 20\n",
      "Last log date bf shutdown:  2024-08-20 18:00:00+00:00 \n",
      "First log date after shutdown:  2024-08-13 22:00:00+00:00\n",
      "Log file index 21\n",
      "Last log date bf shutdown:  2024-08-20 18:00:00+00:00 \n",
      "First log date after shutdown:  2024-08-13 22:00:00+00:00\n",
      "Log file index 22\n",
      "Log file index 23\n",
      "Log file index 24\n",
      "Table sent to DB successfully\n",
      "Query for primary key sent successfully\n"
     ]
    }
   ],
   "source": [
    "process_and_save_logs('SantaMarta')"
   ]
  },
  {
   "cell_type": "markdown",
   "metadata": {},
   "source": [
    "# Serbia_Belgrade Det1 Merging"
   ]
  },
  {
   "cell_type": "code",
   "execution_count": 46,
   "metadata": {},
   "outputs": [
    {
     "name": "stdout",
     "output_type": "stream",
     "text": [
      "Processing any logs for monitor Serbia_Belgrade/Det1\n",
      "      0    1    2    3                         4\n",
      "0  1505  217  107  204  Tue Jun 18 11:24:09 2024\n",
      "First date for formatting:  Tue Jun 18 11:24:09 2024\n"
     ]
    },
    {
     "name": "stderr",
     "output_type": "stream",
     "text": [
      "/var/folders/tg/f26try5n4pq7thttks3b9fs00000gn/T/ipykernel_94875/3466536323.py:45: SettingWithCopyWarning: \n",
      "A value is trying to be set on a copy of a slice from a DataFrame.\n",
      "Try using .loc[row_indexer,col_indexer] = value instead\n",
      "\n",
      "See the caveats in the documentation: https://pandas.pydata.org/pandas-docs/stable/user_guide/indexing.html#returning-a-view-versus-a-copy\n",
      "  ldf['date'] = pd.to_datetime(ldf['date'], format='mixed')\n",
      "/var/folders/tg/f26try5n4pq7thttks3b9fs00000gn/T/ipykernel_94875/3466536323.py:50: SettingWithCopyWarning: \n",
      "A value is trying to be set on a copy of a slice from a DataFrame.\n",
      "Try using .loc[row_indexer,col_indexer] = value instead\n",
      "\n",
      "See the caveats in the documentation: https://pandas.pydata.org/pandas-docs/stable/user_guide/indexing.html#returning-a-view-versus-a-copy\n",
      "  ldf['date'] = ldf['date'].dt.tz_localize(monitor_tz, ambiguous='infer', nonexistent='shift_forward')\n",
      "/var/folders/tg/f26try5n4pq7thttks3b9fs00000gn/T/ipykernel_94875/3466536323.py:54: SettingWithCopyWarning: \n",
      "A value is trying to be set on a copy of a slice from a DataFrame.\n",
      "Try using .loc[row_indexer,col_indexer] = value instead\n",
      "\n",
      "See the caveats in the documentation: https://pandas.pydata.org/pandas-docs/stable/user_guide/indexing.html#returning-a-view-versus-a-copy\n",
      "  ldf['date'] = ldf['date'].dt.tz_convert('UTC')\n"
     ]
    },
    {
     "name": "stdout",
     "output_type": "stream",
     "text": [
      "                 date counts\n",
      "0 2024-06-18 11:24:09    217\n",
      "      0    1    2    3                         4\n",
      "0  2542  218  117  234  Mon Jul 22 15:06:18 2024\n",
      "First date for formatting:  Mon Jul 22 15:06:18 2024\n"
     ]
    },
    {
     "name": "stderr",
     "output_type": "stream",
     "text": [
      "/var/folders/tg/f26try5n4pq7thttks3b9fs00000gn/T/ipykernel_94875/3466536323.py:45: SettingWithCopyWarning: \n",
      "A value is trying to be set on a copy of a slice from a DataFrame.\n",
      "Try using .loc[row_indexer,col_indexer] = value instead\n",
      "\n",
      "See the caveats in the documentation: https://pandas.pydata.org/pandas-docs/stable/user_guide/indexing.html#returning-a-view-versus-a-copy\n",
      "  ldf['date'] = pd.to_datetime(ldf['date'], format='mixed')\n",
      "/var/folders/tg/f26try5n4pq7thttks3b9fs00000gn/T/ipykernel_94875/3466536323.py:50: SettingWithCopyWarning: \n",
      "A value is trying to be set on a copy of a slice from a DataFrame.\n",
      "Try using .loc[row_indexer,col_indexer] = value instead\n",
      "\n",
      "See the caveats in the documentation: https://pandas.pydata.org/pandas-docs/stable/user_guide/indexing.html#returning-a-view-versus-a-copy\n",
      "  ldf['date'] = ldf['date'].dt.tz_localize(monitor_tz, ambiguous='infer', nonexistent='shift_forward')\n",
      "/var/folders/tg/f26try5n4pq7thttks3b9fs00000gn/T/ipykernel_94875/3466536323.py:54: SettingWithCopyWarning: \n",
      "A value is trying to be set on a copy of a slice from a DataFrame.\n",
      "Try using .loc[row_indexer,col_indexer] = value instead\n",
      "\n",
      "See the caveats in the documentation: https://pandas.pydata.org/pandas-docs/stable/user_guide/indexing.html#returning-a-view-versus-a-copy\n",
      "  ldf['date'] = ldf['date'].dt.tz_convert('UTC')\n"
     ]
    },
    {
     "name": "stdout",
     "output_type": "stream",
     "text": [
      "                 date counts\n",
      "0 2024-07-22 15:06:18    218\n",
      "      0    1    2    3                         4\n",
      "0  2542  218  117  234  Mon Jul 22 15:06:18 2024\n",
      "First date for formatting:  Mon Jul 22 15:06:18 2024\n"
     ]
    },
    {
     "name": "stderr",
     "output_type": "stream",
     "text": [
      "/var/folders/tg/f26try5n4pq7thttks3b9fs00000gn/T/ipykernel_94875/3466536323.py:45: SettingWithCopyWarning: \n",
      "A value is trying to be set on a copy of a slice from a DataFrame.\n",
      "Try using .loc[row_indexer,col_indexer] = value instead\n",
      "\n",
      "See the caveats in the documentation: https://pandas.pydata.org/pandas-docs/stable/user_guide/indexing.html#returning-a-view-versus-a-copy\n",
      "  ldf['date'] = pd.to_datetime(ldf['date'], format='mixed')\n",
      "/var/folders/tg/f26try5n4pq7thttks3b9fs00000gn/T/ipykernel_94875/3466536323.py:50: SettingWithCopyWarning: \n",
      "A value is trying to be set on a copy of a slice from a DataFrame.\n",
      "Try using .loc[row_indexer,col_indexer] = value instead\n",
      "\n",
      "See the caveats in the documentation: https://pandas.pydata.org/pandas-docs/stable/user_guide/indexing.html#returning-a-view-versus-a-copy\n",
      "  ldf['date'] = ldf['date'].dt.tz_localize(monitor_tz, ambiguous='infer', nonexistent='shift_forward')\n",
      "/var/folders/tg/f26try5n4pq7thttks3b9fs00000gn/T/ipykernel_94875/3466536323.py:54: SettingWithCopyWarning: \n",
      "A value is trying to be set on a copy of a slice from a DataFrame.\n",
      "Try using .loc[row_indexer,col_indexer] = value instead\n",
      "\n",
      "See the caveats in the documentation: https://pandas.pydata.org/pandas-docs/stable/user_guide/indexing.html#returning-a-view-versus-a-copy\n",
      "  ldf['date'] = ldf['date'].dt.tz_convert('UTC')\n"
     ]
    },
    {
     "name": "stdout",
     "output_type": "stream",
     "text": [
      "                 date counts\n",
      "0 2024-07-22 15:06:18    218\n",
      "      0    1    2    3                         4\n",
      "0  2542  218  117  234  Mon Jul 22 15:06:18 2024\n",
      "First date for formatting:  Mon Jul 22 15:06:18 2024\n"
     ]
    },
    {
     "name": "stderr",
     "output_type": "stream",
     "text": [
      "/var/folders/tg/f26try5n4pq7thttks3b9fs00000gn/T/ipykernel_94875/3466536323.py:45: SettingWithCopyWarning: \n",
      "A value is trying to be set on a copy of a slice from a DataFrame.\n",
      "Try using .loc[row_indexer,col_indexer] = value instead\n",
      "\n",
      "See the caveats in the documentation: https://pandas.pydata.org/pandas-docs/stable/user_guide/indexing.html#returning-a-view-versus-a-copy\n",
      "  ldf['date'] = pd.to_datetime(ldf['date'], format='mixed')\n",
      "/var/folders/tg/f26try5n4pq7thttks3b9fs00000gn/T/ipykernel_94875/3466536323.py:50: SettingWithCopyWarning: \n",
      "A value is trying to be set on a copy of a slice from a DataFrame.\n",
      "Try using .loc[row_indexer,col_indexer] = value instead\n",
      "\n",
      "See the caveats in the documentation: https://pandas.pydata.org/pandas-docs/stable/user_guide/indexing.html#returning-a-view-versus-a-copy\n",
      "  ldf['date'] = ldf['date'].dt.tz_localize(monitor_tz, ambiguous='infer', nonexistent='shift_forward')\n",
      "/var/folders/tg/f26try5n4pq7thttks3b9fs00000gn/T/ipykernel_94875/3466536323.py:54: SettingWithCopyWarning: \n",
      "A value is trying to be set on a copy of a slice from a DataFrame.\n",
      "Try using .loc[row_indexer,col_indexer] = value instead\n",
      "\n",
      "See the caveats in the documentation: https://pandas.pydata.org/pandas-docs/stable/user_guide/indexing.html#returning-a-view-versus-a-copy\n",
      "  ldf['date'] = ldf['date'].dt.tz_convert('UTC')\n"
     ]
    },
    {
     "name": "stdout",
     "output_type": "stream",
     "text": [
      "                 date counts\n",
      "0 2024-07-22 15:06:18    218\n",
      "      0    1    2    3                         4\n",
      "0  2542  218  117  234  Mon Jul 22 15:06:18 2024\n",
      "First date for formatting:  Mon Jul 22 15:06:18 2024\n"
     ]
    },
    {
     "name": "stderr",
     "output_type": "stream",
     "text": [
      "/var/folders/tg/f26try5n4pq7thttks3b9fs00000gn/T/ipykernel_94875/3466536323.py:45: SettingWithCopyWarning: \n",
      "A value is trying to be set on a copy of a slice from a DataFrame.\n",
      "Try using .loc[row_indexer,col_indexer] = value instead\n",
      "\n",
      "See the caveats in the documentation: https://pandas.pydata.org/pandas-docs/stable/user_guide/indexing.html#returning-a-view-versus-a-copy\n",
      "  ldf['date'] = pd.to_datetime(ldf['date'], format='mixed')\n",
      "/var/folders/tg/f26try5n4pq7thttks3b9fs00000gn/T/ipykernel_94875/3466536323.py:50: SettingWithCopyWarning: \n",
      "A value is trying to be set on a copy of a slice from a DataFrame.\n",
      "Try using .loc[row_indexer,col_indexer] = value instead\n",
      "\n",
      "See the caveats in the documentation: https://pandas.pydata.org/pandas-docs/stable/user_guide/indexing.html#returning-a-view-versus-a-copy\n",
      "  ldf['date'] = ldf['date'].dt.tz_localize(monitor_tz, ambiguous='infer', nonexistent='shift_forward')\n",
      "/var/folders/tg/f26try5n4pq7thttks3b9fs00000gn/T/ipykernel_94875/3466536323.py:54: SettingWithCopyWarning: \n",
      "A value is trying to be set on a copy of a slice from a DataFrame.\n",
      "Try using .loc[row_indexer,col_indexer] = value instead\n",
      "\n",
      "See the caveats in the documentation: https://pandas.pydata.org/pandas-docs/stable/user_guide/indexing.html#returning-a-view-versus-a-copy\n",
      "  ldf['date'] = ldf['date'].dt.tz_convert('UTC')\n"
     ]
    },
    {
     "name": "stdout",
     "output_type": "stream",
     "text": [
      "                 date counts\n",
      "0 2024-07-22 15:06:18    218\n",
      "      0    1    2    3                         4\n",
      "0  2542  218  117  234  Mon Jul 22 15:06:18 2024\n",
      "First date for formatting:  Mon Jul 22 15:06:18 2024\n"
     ]
    },
    {
     "name": "stderr",
     "output_type": "stream",
     "text": [
      "/var/folders/tg/f26try5n4pq7thttks3b9fs00000gn/T/ipykernel_94875/3466536323.py:45: SettingWithCopyWarning: \n",
      "A value is trying to be set on a copy of a slice from a DataFrame.\n",
      "Try using .loc[row_indexer,col_indexer] = value instead\n",
      "\n",
      "See the caveats in the documentation: https://pandas.pydata.org/pandas-docs/stable/user_guide/indexing.html#returning-a-view-versus-a-copy\n",
      "  ldf['date'] = pd.to_datetime(ldf['date'], format='mixed')\n",
      "/var/folders/tg/f26try5n4pq7thttks3b9fs00000gn/T/ipykernel_94875/3466536323.py:50: SettingWithCopyWarning: \n",
      "A value is trying to be set on a copy of a slice from a DataFrame.\n",
      "Try using .loc[row_indexer,col_indexer] = value instead\n",
      "\n",
      "See the caveats in the documentation: https://pandas.pydata.org/pandas-docs/stable/user_guide/indexing.html#returning-a-view-versus-a-copy\n",
      "  ldf['date'] = ldf['date'].dt.tz_localize(monitor_tz, ambiguous='infer', nonexistent='shift_forward')\n",
      "/var/folders/tg/f26try5n4pq7thttks3b9fs00000gn/T/ipykernel_94875/3466536323.py:54: SettingWithCopyWarning: \n",
      "A value is trying to be set on a copy of a slice from a DataFrame.\n",
      "Try using .loc[row_indexer,col_indexer] = value instead\n",
      "\n",
      "See the caveats in the documentation: https://pandas.pydata.org/pandas-docs/stable/user_guide/indexing.html#returning-a-view-versus-a-copy\n",
      "  ldf['date'] = ldf['date'].dt.tz_convert('UTC')\n"
     ]
    },
    {
     "name": "stdout",
     "output_type": "stream",
     "text": [
      "                 date counts\n",
      "0 2024-07-22 15:06:18    218\n",
      "      0    1    2    3                         4\n",
      "0  2542  218  117  234  Mon Jul 22 15:06:18 2024\n",
      "First date for formatting:  Mon Jul 22 15:06:18 2024\n"
     ]
    },
    {
     "name": "stderr",
     "output_type": "stream",
     "text": [
      "/var/folders/tg/f26try5n4pq7thttks3b9fs00000gn/T/ipykernel_94875/3466536323.py:45: SettingWithCopyWarning: \n",
      "A value is trying to be set on a copy of a slice from a DataFrame.\n",
      "Try using .loc[row_indexer,col_indexer] = value instead\n",
      "\n",
      "See the caveats in the documentation: https://pandas.pydata.org/pandas-docs/stable/user_guide/indexing.html#returning-a-view-versus-a-copy\n",
      "  ldf['date'] = pd.to_datetime(ldf['date'], format='mixed')\n",
      "/var/folders/tg/f26try5n4pq7thttks3b9fs00000gn/T/ipykernel_94875/3466536323.py:50: SettingWithCopyWarning: \n",
      "A value is trying to be set on a copy of a slice from a DataFrame.\n",
      "Try using .loc[row_indexer,col_indexer] = value instead\n",
      "\n",
      "See the caveats in the documentation: https://pandas.pydata.org/pandas-docs/stable/user_guide/indexing.html#returning-a-view-versus-a-copy\n",
      "  ldf['date'] = ldf['date'].dt.tz_localize(monitor_tz, ambiguous='infer', nonexistent='shift_forward')\n",
      "/var/folders/tg/f26try5n4pq7thttks3b9fs00000gn/T/ipykernel_94875/3466536323.py:54: SettingWithCopyWarning: \n",
      "A value is trying to be set on a copy of a slice from a DataFrame.\n",
      "Try using .loc[row_indexer,col_indexer] = value instead\n",
      "\n",
      "See the caveats in the documentation: https://pandas.pydata.org/pandas-docs/stable/user_guide/indexing.html#returning-a-view-versus-a-copy\n",
      "  ldf['date'] = ldf['date'].dt.tz_convert('UTC')\n"
     ]
    },
    {
     "name": "stdout",
     "output_type": "stream",
     "text": [
      "                 date counts\n",
      "0 2024-07-22 15:06:18    218\n",
      "      0    1   2    3                         4\n",
      "0  1510  180  89  208  Tue Jul  9 00:26:47 2024\n",
      "First date for formatting:  Tue Jul  9 00:26:47 2024\n"
     ]
    },
    {
     "name": "stderr",
     "output_type": "stream",
     "text": [
      "/var/folders/tg/f26try5n4pq7thttks3b9fs00000gn/T/ipykernel_94875/3466536323.py:45: SettingWithCopyWarning: \n",
      "A value is trying to be set on a copy of a slice from a DataFrame.\n",
      "Try using .loc[row_indexer,col_indexer] = value instead\n",
      "\n",
      "See the caveats in the documentation: https://pandas.pydata.org/pandas-docs/stable/user_guide/indexing.html#returning-a-view-versus-a-copy\n",
      "  ldf['date'] = pd.to_datetime(ldf['date'], format='mixed')\n",
      "/var/folders/tg/f26try5n4pq7thttks3b9fs00000gn/T/ipykernel_94875/3466536323.py:50: SettingWithCopyWarning: \n",
      "A value is trying to be set on a copy of a slice from a DataFrame.\n",
      "Try using .loc[row_indexer,col_indexer] = value instead\n",
      "\n",
      "See the caveats in the documentation: https://pandas.pydata.org/pandas-docs/stable/user_guide/indexing.html#returning-a-view-versus-a-copy\n",
      "  ldf['date'] = ldf['date'].dt.tz_localize(monitor_tz, ambiguous='infer', nonexistent='shift_forward')\n",
      "/var/folders/tg/f26try5n4pq7thttks3b9fs00000gn/T/ipykernel_94875/3466536323.py:54: SettingWithCopyWarning: \n",
      "A value is trying to be set on a copy of a slice from a DataFrame.\n",
      "Try using .loc[row_indexer,col_indexer] = value instead\n",
      "\n",
      "See the caveats in the documentation: https://pandas.pydata.org/pandas-docs/stable/user_guide/indexing.html#returning-a-view-versus-a-copy\n",
      "  ldf['date'] = ldf['date'].dt.tz_convert('UTC')\n"
     ]
    },
    {
     "name": "stdout",
     "output_type": "stream",
     "text": [
      "                 date counts\n",
      "0 2024-07-09 00:26:47    180\n",
      "Log file index 1\n",
      "Last log date bf shutdown:  2024-07-08 19:00:00+00:00 \n",
      "First log date after shutdown:  2024-07-08 23:00:00+00:00\n",
      "Log file index 2\n",
      "Last log date bf shutdown:  2024-07-22 10:00:00+00:00 \n",
      "First log date after shutdown:  2024-07-22 14:00:00+00:00\n",
      "Log file index 3\n",
      "Last log date bf shutdown:  2024-08-24 02:00:00+00:00 \n",
      "First log date after shutdown:  2024-07-22 14:00:00+00:00\n",
      "Log file index 4\n",
      "Last log date bf shutdown:  2024-08-24 02:00:00+00:00 \n",
      "First log date after shutdown:  2024-07-22 14:00:00+00:00\n",
      "Log file index 5\n",
      "Last log date bf shutdown:  2024-08-24 02:00:00+00:00 \n",
      "First log date after shutdown:  2024-07-22 14:00:00+00:00\n",
      "Log file index 6\n",
      "Last log date bf shutdown:  2024-08-24 02:00:00+00:00 \n",
      "First log date after shutdown:  2024-07-22 14:00:00+00:00\n",
      "Log file index 7\n",
      "Last log date bf shutdown:  2024-08-24 02:00:00+00:00 \n",
      "First log date after shutdown:  2024-07-22 14:00:00+00:00\n",
      "Table sent to DB successfully\n",
      "Query for primary key sent successfully\n"
     ]
    }
   ],
   "source": [
    "process_and_save_logs('Serbia_Belgrade/Det1')"
   ]
  },
  {
   "cell_type": "markdown",
   "metadata": {},
   "source": [
    "# Serbia_Belgrade Det2 Merging"
   ]
  },
  {
   "cell_type": "code",
   "execution_count": 47,
   "metadata": {},
   "outputs": [
    {
     "name": "stdout",
     "output_type": "stream",
     "text": [
      "Processing any logs for monitor Serbia_Belgrade/Det2\n",
      "      0    1   2    3                         4\n",
      "0  1641  197  94  201  Tue Jul  9 00:26:47 2024\n",
      "First date for formatting:  Tue Jul  9 00:26:47 2024\n"
     ]
    },
    {
     "name": "stderr",
     "output_type": "stream",
     "text": [
      "/var/folders/tg/f26try5n4pq7thttks3b9fs00000gn/T/ipykernel_94875/3466536323.py:45: SettingWithCopyWarning: \n",
      "A value is trying to be set on a copy of a slice from a DataFrame.\n",
      "Try using .loc[row_indexer,col_indexer] = value instead\n",
      "\n",
      "See the caveats in the documentation: https://pandas.pydata.org/pandas-docs/stable/user_guide/indexing.html#returning-a-view-versus-a-copy\n",
      "  ldf['date'] = pd.to_datetime(ldf['date'], format='mixed')\n",
      "/var/folders/tg/f26try5n4pq7thttks3b9fs00000gn/T/ipykernel_94875/3466536323.py:50: SettingWithCopyWarning: \n",
      "A value is trying to be set on a copy of a slice from a DataFrame.\n",
      "Try using .loc[row_indexer,col_indexer] = value instead\n",
      "\n",
      "See the caveats in the documentation: https://pandas.pydata.org/pandas-docs/stable/user_guide/indexing.html#returning-a-view-versus-a-copy\n",
      "  ldf['date'] = ldf['date'].dt.tz_localize(monitor_tz, ambiguous='infer', nonexistent='shift_forward')\n",
      "/var/folders/tg/f26try5n4pq7thttks3b9fs00000gn/T/ipykernel_94875/3466536323.py:54: SettingWithCopyWarning: \n",
      "A value is trying to be set on a copy of a slice from a DataFrame.\n",
      "Try using .loc[row_indexer,col_indexer] = value instead\n",
      "\n",
      "See the caveats in the documentation: https://pandas.pydata.org/pandas-docs/stable/user_guide/indexing.html#returning-a-view-versus-a-copy\n",
      "  ldf['date'] = ldf['date'].dt.tz_convert('UTC')\n"
     ]
    },
    {
     "name": "stdout",
     "output_type": "stream",
     "text": [
      "                 date counts\n",
      "0 2024-07-09 00:26:47    197\n",
      "      0    1    2    3                         4\n",
      "0  2740  214  117  242  Mon Jul 22 15:06:18 2024\n",
      "First date for formatting:  Mon Jul 22 15:06:18 2024\n"
     ]
    },
    {
     "name": "stderr",
     "output_type": "stream",
     "text": [
      "/var/folders/tg/f26try5n4pq7thttks3b9fs00000gn/T/ipykernel_94875/3466536323.py:45: SettingWithCopyWarning: \n",
      "A value is trying to be set on a copy of a slice from a DataFrame.\n",
      "Try using .loc[row_indexer,col_indexer] = value instead\n",
      "\n",
      "See the caveats in the documentation: https://pandas.pydata.org/pandas-docs/stable/user_guide/indexing.html#returning-a-view-versus-a-copy\n",
      "  ldf['date'] = pd.to_datetime(ldf['date'], format='mixed')\n",
      "/var/folders/tg/f26try5n4pq7thttks3b9fs00000gn/T/ipykernel_94875/3466536323.py:50: SettingWithCopyWarning: \n",
      "A value is trying to be set on a copy of a slice from a DataFrame.\n",
      "Try using .loc[row_indexer,col_indexer] = value instead\n",
      "\n",
      "See the caveats in the documentation: https://pandas.pydata.org/pandas-docs/stable/user_guide/indexing.html#returning-a-view-versus-a-copy\n",
      "  ldf['date'] = ldf['date'].dt.tz_localize(monitor_tz, ambiguous='infer', nonexistent='shift_forward')\n",
      "/var/folders/tg/f26try5n4pq7thttks3b9fs00000gn/T/ipykernel_94875/3466536323.py:54: SettingWithCopyWarning: \n",
      "A value is trying to be set on a copy of a slice from a DataFrame.\n",
      "Try using .loc[row_indexer,col_indexer] = value instead\n",
      "\n",
      "See the caveats in the documentation: https://pandas.pydata.org/pandas-docs/stable/user_guide/indexing.html#returning-a-view-versus-a-copy\n",
      "  ldf['date'] = ldf['date'].dt.tz_convert('UTC')\n"
     ]
    },
    {
     "name": "stdout",
     "output_type": "stream",
     "text": [
      "                 date counts\n",
      "0 2024-07-22 15:06:18    214\n",
      "      0    1    2    3                         4\n",
      "0  2740  214  117  242  Mon Jul 22 15:06:18 2024\n",
      "First date for formatting:  Mon Jul 22 15:06:18 2024\n"
     ]
    },
    {
     "name": "stderr",
     "output_type": "stream",
     "text": [
      "/var/folders/tg/f26try5n4pq7thttks3b9fs00000gn/T/ipykernel_94875/3466536323.py:45: SettingWithCopyWarning: \n",
      "A value is trying to be set on a copy of a slice from a DataFrame.\n",
      "Try using .loc[row_indexer,col_indexer] = value instead\n",
      "\n",
      "See the caveats in the documentation: https://pandas.pydata.org/pandas-docs/stable/user_guide/indexing.html#returning-a-view-versus-a-copy\n",
      "  ldf['date'] = pd.to_datetime(ldf['date'], format='mixed')\n",
      "/var/folders/tg/f26try5n4pq7thttks3b9fs00000gn/T/ipykernel_94875/3466536323.py:50: SettingWithCopyWarning: \n",
      "A value is trying to be set on a copy of a slice from a DataFrame.\n",
      "Try using .loc[row_indexer,col_indexer] = value instead\n",
      "\n",
      "See the caveats in the documentation: https://pandas.pydata.org/pandas-docs/stable/user_guide/indexing.html#returning-a-view-versus-a-copy\n",
      "  ldf['date'] = ldf['date'].dt.tz_localize(monitor_tz, ambiguous='infer', nonexistent='shift_forward')\n",
      "/var/folders/tg/f26try5n4pq7thttks3b9fs00000gn/T/ipykernel_94875/3466536323.py:54: SettingWithCopyWarning: \n",
      "A value is trying to be set on a copy of a slice from a DataFrame.\n",
      "Try using .loc[row_indexer,col_indexer] = value instead\n",
      "\n",
      "See the caveats in the documentation: https://pandas.pydata.org/pandas-docs/stable/user_guide/indexing.html#returning-a-view-versus-a-copy\n",
      "  ldf['date'] = ldf['date'].dt.tz_convert('UTC')\n"
     ]
    },
    {
     "name": "stdout",
     "output_type": "stream",
     "text": [
      "                 date counts\n",
      "0 2024-07-22 15:06:18    214\n",
      "      0    1    2    3                         4\n",
      "0  2740  214  117  242  Mon Jul 22 15:06:18 2024\n",
      "First date for formatting:  Mon Jul 22 15:06:18 2024\n"
     ]
    },
    {
     "name": "stderr",
     "output_type": "stream",
     "text": [
      "/var/folders/tg/f26try5n4pq7thttks3b9fs00000gn/T/ipykernel_94875/3466536323.py:45: SettingWithCopyWarning: \n",
      "A value is trying to be set on a copy of a slice from a DataFrame.\n",
      "Try using .loc[row_indexer,col_indexer] = value instead\n",
      "\n",
      "See the caveats in the documentation: https://pandas.pydata.org/pandas-docs/stable/user_guide/indexing.html#returning-a-view-versus-a-copy\n",
      "  ldf['date'] = pd.to_datetime(ldf['date'], format='mixed')\n",
      "/var/folders/tg/f26try5n4pq7thttks3b9fs00000gn/T/ipykernel_94875/3466536323.py:50: SettingWithCopyWarning: \n",
      "A value is trying to be set on a copy of a slice from a DataFrame.\n",
      "Try using .loc[row_indexer,col_indexer] = value instead\n",
      "\n",
      "See the caveats in the documentation: https://pandas.pydata.org/pandas-docs/stable/user_guide/indexing.html#returning-a-view-versus-a-copy\n",
      "  ldf['date'] = ldf['date'].dt.tz_localize(monitor_tz, ambiguous='infer', nonexistent='shift_forward')\n",
      "/var/folders/tg/f26try5n4pq7thttks3b9fs00000gn/T/ipykernel_94875/3466536323.py:54: SettingWithCopyWarning: \n",
      "A value is trying to be set on a copy of a slice from a DataFrame.\n",
      "Try using .loc[row_indexer,col_indexer] = value instead\n",
      "\n",
      "See the caveats in the documentation: https://pandas.pydata.org/pandas-docs/stable/user_guide/indexing.html#returning-a-view-versus-a-copy\n",
      "  ldf['date'] = ldf['date'].dt.tz_convert('UTC')\n"
     ]
    },
    {
     "name": "stdout",
     "output_type": "stream",
     "text": [
      "                 date counts\n",
      "0 2024-07-22 15:06:18    214\n",
      "      0    1    2    3                         4\n",
      "0  2740  214  117  242  Mon Jul 22 15:06:18 2024\n",
      "First date for formatting:  Mon Jul 22 15:06:18 2024\n"
     ]
    },
    {
     "name": "stderr",
     "output_type": "stream",
     "text": [
      "/var/folders/tg/f26try5n4pq7thttks3b9fs00000gn/T/ipykernel_94875/3466536323.py:45: SettingWithCopyWarning: \n",
      "A value is trying to be set on a copy of a slice from a DataFrame.\n",
      "Try using .loc[row_indexer,col_indexer] = value instead\n",
      "\n",
      "See the caveats in the documentation: https://pandas.pydata.org/pandas-docs/stable/user_guide/indexing.html#returning-a-view-versus-a-copy\n",
      "  ldf['date'] = pd.to_datetime(ldf['date'], format='mixed')\n",
      "/var/folders/tg/f26try5n4pq7thttks3b9fs00000gn/T/ipykernel_94875/3466536323.py:50: SettingWithCopyWarning: \n",
      "A value is trying to be set on a copy of a slice from a DataFrame.\n",
      "Try using .loc[row_indexer,col_indexer] = value instead\n",
      "\n",
      "See the caveats in the documentation: https://pandas.pydata.org/pandas-docs/stable/user_guide/indexing.html#returning-a-view-versus-a-copy\n",
      "  ldf['date'] = ldf['date'].dt.tz_localize(monitor_tz, ambiguous='infer', nonexistent='shift_forward')\n",
      "/var/folders/tg/f26try5n4pq7thttks3b9fs00000gn/T/ipykernel_94875/3466536323.py:54: SettingWithCopyWarning: \n",
      "A value is trying to be set on a copy of a slice from a DataFrame.\n",
      "Try using .loc[row_indexer,col_indexer] = value instead\n",
      "\n",
      "See the caveats in the documentation: https://pandas.pydata.org/pandas-docs/stable/user_guide/indexing.html#returning-a-view-versus-a-copy\n",
      "  ldf['date'] = ldf['date'].dt.tz_convert('UTC')\n"
     ]
    },
    {
     "name": "stdout",
     "output_type": "stream",
     "text": [
      "                 date counts\n",
      "0 2024-07-22 15:06:18    214\n",
      "      0    1    2    3                         4\n",
      "0  2740  214  117  242  Mon Jul 22 15:06:18 2024\n",
      "First date for formatting:  Mon Jul 22 15:06:18 2024\n"
     ]
    },
    {
     "name": "stderr",
     "output_type": "stream",
     "text": [
      "/var/folders/tg/f26try5n4pq7thttks3b9fs00000gn/T/ipykernel_94875/3466536323.py:45: SettingWithCopyWarning: \n",
      "A value is trying to be set on a copy of a slice from a DataFrame.\n",
      "Try using .loc[row_indexer,col_indexer] = value instead\n",
      "\n",
      "See the caveats in the documentation: https://pandas.pydata.org/pandas-docs/stable/user_guide/indexing.html#returning-a-view-versus-a-copy\n",
      "  ldf['date'] = pd.to_datetime(ldf['date'], format='mixed')\n",
      "/var/folders/tg/f26try5n4pq7thttks3b9fs00000gn/T/ipykernel_94875/3466536323.py:50: SettingWithCopyWarning: \n",
      "A value is trying to be set on a copy of a slice from a DataFrame.\n",
      "Try using .loc[row_indexer,col_indexer] = value instead\n",
      "\n",
      "See the caveats in the documentation: https://pandas.pydata.org/pandas-docs/stable/user_guide/indexing.html#returning-a-view-versus-a-copy\n",
      "  ldf['date'] = ldf['date'].dt.tz_localize(monitor_tz, ambiguous='infer', nonexistent='shift_forward')\n",
      "/var/folders/tg/f26try5n4pq7thttks3b9fs00000gn/T/ipykernel_94875/3466536323.py:54: SettingWithCopyWarning: \n",
      "A value is trying to be set on a copy of a slice from a DataFrame.\n",
      "Try using .loc[row_indexer,col_indexer] = value instead\n",
      "\n",
      "See the caveats in the documentation: https://pandas.pydata.org/pandas-docs/stable/user_guide/indexing.html#returning-a-view-versus-a-copy\n",
      "  ldf['date'] = ldf['date'].dt.tz_convert('UTC')\n"
     ]
    },
    {
     "name": "stdout",
     "output_type": "stream",
     "text": [
      "                 date counts\n",
      "0 2024-07-22 15:06:18    214\n",
      "      0    1    2    3                         4\n",
      "0  2740  214  117  242  Mon Jul 22 15:06:18 2024\n",
      "First date for formatting:  Mon Jul 22 15:06:18 2024\n"
     ]
    },
    {
     "name": "stderr",
     "output_type": "stream",
     "text": [
      "/var/folders/tg/f26try5n4pq7thttks3b9fs00000gn/T/ipykernel_94875/3466536323.py:45: SettingWithCopyWarning: \n",
      "A value is trying to be set on a copy of a slice from a DataFrame.\n",
      "Try using .loc[row_indexer,col_indexer] = value instead\n",
      "\n",
      "See the caveats in the documentation: https://pandas.pydata.org/pandas-docs/stable/user_guide/indexing.html#returning-a-view-versus-a-copy\n",
      "  ldf['date'] = pd.to_datetime(ldf['date'], format='mixed')\n",
      "/var/folders/tg/f26try5n4pq7thttks3b9fs00000gn/T/ipykernel_94875/3466536323.py:50: SettingWithCopyWarning: \n",
      "A value is trying to be set on a copy of a slice from a DataFrame.\n",
      "Try using .loc[row_indexer,col_indexer] = value instead\n",
      "\n",
      "See the caveats in the documentation: https://pandas.pydata.org/pandas-docs/stable/user_guide/indexing.html#returning-a-view-versus-a-copy\n",
      "  ldf['date'] = ldf['date'].dt.tz_localize(monitor_tz, ambiguous='infer', nonexistent='shift_forward')\n",
      "/var/folders/tg/f26try5n4pq7thttks3b9fs00000gn/T/ipykernel_94875/3466536323.py:54: SettingWithCopyWarning: \n",
      "A value is trying to be set on a copy of a slice from a DataFrame.\n",
      "Try using .loc[row_indexer,col_indexer] = value instead\n",
      "\n",
      "See the caveats in the documentation: https://pandas.pydata.org/pandas-docs/stable/user_guide/indexing.html#returning-a-view-versus-a-copy\n",
      "  ldf['date'] = ldf['date'].dt.tz_convert('UTC')\n"
     ]
    },
    {
     "name": "stdout",
     "output_type": "stream",
     "text": [
      "                 date counts\n",
      "0 2024-07-22 15:06:18    214\n",
      "      0    1    2    3                         4\n",
      "0  1604  197  105  222  Mon Jun 17 13:20:59 2024\n",
      "First date for formatting:  Mon Jun 17 13:20:59 2024\n"
     ]
    },
    {
     "name": "stderr",
     "output_type": "stream",
     "text": [
      "/var/folders/tg/f26try5n4pq7thttks3b9fs00000gn/T/ipykernel_94875/3466536323.py:45: SettingWithCopyWarning: \n",
      "A value is trying to be set on a copy of a slice from a DataFrame.\n",
      "Try using .loc[row_indexer,col_indexer] = value instead\n",
      "\n",
      "See the caveats in the documentation: https://pandas.pydata.org/pandas-docs/stable/user_guide/indexing.html#returning-a-view-versus-a-copy\n",
      "  ldf['date'] = pd.to_datetime(ldf['date'], format='mixed')\n",
      "/var/folders/tg/f26try5n4pq7thttks3b9fs00000gn/T/ipykernel_94875/3466536323.py:50: SettingWithCopyWarning: \n",
      "A value is trying to be set on a copy of a slice from a DataFrame.\n",
      "Try using .loc[row_indexer,col_indexer] = value instead\n",
      "\n",
      "See the caveats in the documentation: https://pandas.pydata.org/pandas-docs/stable/user_guide/indexing.html#returning-a-view-versus-a-copy\n",
      "  ldf['date'] = ldf['date'].dt.tz_localize(monitor_tz, ambiguous='infer', nonexistent='shift_forward')\n",
      "/var/folders/tg/f26try5n4pq7thttks3b9fs00000gn/T/ipykernel_94875/3466536323.py:54: SettingWithCopyWarning: \n",
      "A value is trying to be set on a copy of a slice from a DataFrame.\n",
      "Try using .loc[row_indexer,col_indexer] = value instead\n",
      "\n",
      "See the caveats in the documentation: https://pandas.pydata.org/pandas-docs/stable/user_guide/indexing.html#returning-a-view-versus-a-copy\n",
      "  ldf['date'] = ldf['date'].dt.tz_convert('UTC')\n"
     ]
    },
    {
     "name": "stdout",
     "output_type": "stream",
     "text": [
      "                 date counts\n",
      "0 2024-06-17 13:20:59    197\n",
      "Log file index 1\n",
      "Last log date bf shutdown:  2024-07-08 19:00:00+00:00 \n",
      "First log date after shutdown:  2024-07-08 23:00:00+00:00\n",
      "Log file index 2\n",
      "Last log date bf shutdown:  2024-07-22 10:00:00+00:00 \n",
      "First log date after shutdown:  2024-07-22 14:00:00+00:00\n",
      "Log file index 3\n",
      "Last log date bf shutdown:  2024-08-19 08:00:00+00:00 \n",
      "First log date after shutdown:  2024-07-22 14:00:00+00:00\n",
      "Log file index 4\n",
      "Last log date bf shutdown:  2024-08-19 08:00:00+00:00 \n",
      "First log date after shutdown:  2024-07-22 14:00:00+00:00\n",
      "Log file index 5\n",
      "Last log date bf shutdown:  2024-08-19 08:00:00+00:00 \n",
      "First log date after shutdown:  2024-07-22 14:00:00+00:00\n",
      "Log file index 6\n",
      "Last log date bf shutdown:  2024-08-19 08:00:00+00:00 \n",
      "First log date after shutdown:  2024-07-22 14:00:00+00:00\n",
      "Log file index 7\n",
      "Last log date bf shutdown:  2024-08-19 08:00:00+00:00 \n",
      "First log date after shutdown:  2024-07-22 14:00:00+00:00\n",
      "Table sent to DB successfully\n",
      "Query for primary key sent successfully\n"
     ]
    }
   ],
   "source": [
    "process_and_save_logs('Serbia_Belgrade/Det2')"
   ]
  },
  {
   "cell_type": "markdown",
   "metadata": {},
   "source": [
    "# UvaWellassa merging"
   ]
  },
  {
   "cell_type": "code",
   "execution_count": 12,
   "metadata": {},
   "outputs": [
    {
     "name": "stdout",
     "output_type": "stream",
     "text": [
      "Processing any logs for monitor UvaWellassa_Muon001\n",
      "                         0  1  2  3   4   5   6  7    8    9    10 11\n",
      "1  2024-07-21T05:28:11.699Z  0  0  0  61  25  51  0  522  421  457   \n",
      "First date for formatting:  2024-07-21T05:28:11.699Z\n"
     ]
    },
    {
     "name": "stderr",
     "output_type": "stream",
     "text": [
      "/var/folders/tg/f26try5n4pq7thttks3b9fs00000gn/T/ipykernel_1055/3466536323.py:45: SettingWithCopyWarning: \n",
      "A value is trying to be set on a copy of a slice from a DataFrame.\n",
      "Try using .loc[row_indexer,col_indexer] = value instead\n",
      "\n",
      "See the caveats in the documentation: https://pandas.pydata.org/pandas-docs/stable/user_guide/indexing.html#returning-a-view-versus-a-copy\n",
      "  ldf['date'] = pd.to_datetime(ldf['date'], format='mixed')\n",
      "/var/folders/tg/f26try5n4pq7thttks3b9fs00000gn/T/ipykernel_1055/3466536323.py:54: SettingWithCopyWarning: \n",
      "A value is trying to be set on a copy of a slice from a DataFrame.\n",
      "Try using .loc[row_indexer,col_indexer] = value instead\n",
      "\n",
      "See the caveats in the documentation: https://pandas.pydata.org/pandas-docs/stable/user_guide/indexing.html#returning-a-view-versus-a-copy\n",
      "  ldf['date'] = ldf['date'].dt.tz_convert('UTC')\n"
     ]
    },
    {
     "name": "stdout",
     "output_type": "stream",
     "text": [
      "                              date counts\n",
      "1 2024-07-21 05:28:11.699000+00:00     61\n",
      "DF date already timezone aware so no need!\n",
      "                         0  1  2  3   4   5   6  7    8    9    10 11\n",
      "1  2024-07-21T05:28:11.699Z  0  0  0  61  25  51  0  522  421  457   \n",
      "First date for formatting:  2024-07-21T05:28:11.699Z\n",
      "                              date counts\n",
      "1 2024-07-21 05:28:11.699000+00:00     61\n",
      "DF date already timezone aware so no need!\n"
     ]
    },
    {
     "name": "stderr",
     "output_type": "stream",
     "text": [
      "/var/folders/tg/f26try5n4pq7thttks3b9fs00000gn/T/ipykernel_1055/3466536323.py:45: SettingWithCopyWarning: \n",
      "A value is trying to be set on a copy of a slice from a DataFrame.\n",
      "Try using .loc[row_indexer,col_indexer] = value instead\n",
      "\n",
      "See the caveats in the documentation: https://pandas.pydata.org/pandas-docs/stable/user_guide/indexing.html#returning-a-view-versus-a-copy\n",
      "  ldf['date'] = pd.to_datetime(ldf['date'], format='mixed')\n",
      "/var/folders/tg/f26try5n4pq7thttks3b9fs00000gn/T/ipykernel_1055/3466536323.py:54: SettingWithCopyWarning: \n",
      "A value is trying to be set on a copy of a slice from a DataFrame.\n",
      "Try using .loc[row_indexer,col_indexer] = value instead\n",
      "\n",
      "See the caveats in the documentation: https://pandas.pydata.org/pandas-docs/stable/user_guide/indexing.html#returning-a-view-versus-a-copy\n",
      "  ldf['date'] = ldf['date'].dt.tz_convert('UTC')\n"
     ]
    },
    {
     "name": "stdout",
     "output_type": "stream",
     "text": [
      "                         0  1  2  3   4   5   6  7    8    9    10 11\n",
      "1  2024-07-21T05:28:11.699Z  0  0  0  61  25  51  0  522  421  457   \n",
      "First date for formatting:  2024-07-21T05:28:11.699Z\n",
      "                              date counts\n",
      "1 2024-07-21 05:28:11.699000+00:00     61\n",
      "DF date already timezone aware so no need!\n"
     ]
    },
    {
     "name": "stderr",
     "output_type": "stream",
     "text": [
      "/var/folders/tg/f26try5n4pq7thttks3b9fs00000gn/T/ipykernel_1055/3466536323.py:45: SettingWithCopyWarning: \n",
      "A value is trying to be set on a copy of a slice from a DataFrame.\n",
      "Try using .loc[row_indexer,col_indexer] = value instead\n",
      "\n",
      "See the caveats in the documentation: https://pandas.pydata.org/pandas-docs/stable/user_guide/indexing.html#returning-a-view-versus-a-copy\n",
      "  ldf['date'] = pd.to_datetime(ldf['date'], format='mixed')\n",
      "/var/folders/tg/f26try5n4pq7thttks3b9fs00000gn/T/ipykernel_1055/3466536323.py:54: SettingWithCopyWarning: \n",
      "A value is trying to be set on a copy of a slice from a DataFrame.\n",
      "Try using .loc[row_indexer,col_indexer] = value instead\n",
      "\n",
      "See the caveats in the documentation: https://pandas.pydata.org/pandas-docs/stable/user_guide/indexing.html#returning-a-view-versus-a-copy\n",
      "  ldf['date'] = ldf['date'].dt.tz_convert('UTC')\n"
     ]
    },
    {
     "name": "stdout",
     "output_type": "stream",
     "text": [
      "                         0  1  2  3   4   5   6  7    8    9    10 11\n",
      "1  2024-07-21T05:28:11.699Z  0  0  0  61  25  51  0  522  421  457   \n",
      "First date for formatting:  2024-07-21T05:28:11.699Z\n",
      "                              date counts\n",
      "1 2024-07-21 05:28:11.699000+00:00     61\n",
      "DF date already timezone aware so no need!\n"
     ]
    },
    {
     "name": "stderr",
     "output_type": "stream",
     "text": [
      "/var/folders/tg/f26try5n4pq7thttks3b9fs00000gn/T/ipykernel_1055/3466536323.py:45: SettingWithCopyWarning: \n",
      "A value is trying to be set on a copy of a slice from a DataFrame.\n",
      "Try using .loc[row_indexer,col_indexer] = value instead\n",
      "\n",
      "See the caveats in the documentation: https://pandas.pydata.org/pandas-docs/stable/user_guide/indexing.html#returning-a-view-versus-a-copy\n",
      "  ldf['date'] = pd.to_datetime(ldf['date'], format='mixed')\n",
      "/var/folders/tg/f26try5n4pq7thttks3b9fs00000gn/T/ipykernel_1055/3466536323.py:54: SettingWithCopyWarning: \n",
      "A value is trying to be set on a copy of a slice from a DataFrame.\n",
      "Try using .loc[row_indexer,col_indexer] = value instead\n",
      "\n",
      "See the caveats in the documentation: https://pandas.pydata.org/pandas-docs/stable/user_guide/indexing.html#returning-a-view-versus-a-copy\n",
      "  ldf['date'] = ldf['date'].dt.tz_convert('UTC')\n"
     ]
    },
    {
     "name": "stdout",
     "output_type": "stream",
     "text": [
      "                         0  1  2  3    4   5    6  7    8    9    10 11\n",
      "1  2023-06-16T05:23:50.023Z  0  0  0  135  85  150  0  888  878  858   \n",
      "First date for formatting:  2023-06-16T05:23:50.023Z\n"
     ]
    },
    {
     "name": "stderr",
     "output_type": "stream",
     "text": [
      "/var/folders/tg/f26try5n4pq7thttks3b9fs00000gn/T/ipykernel_1055/3466536323.py:45: SettingWithCopyWarning: \n",
      "A value is trying to be set on a copy of a slice from a DataFrame.\n",
      "Try using .loc[row_indexer,col_indexer] = value instead\n",
      "\n",
      "See the caveats in the documentation: https://pandas.pydata.org/pandas-docs/stable/user_guide/indexing.html#returning-a-view-versus-a-copy\n",
      "  ldf['date'] = pd.to_datetime(ldf['date'], format='mixed')\n",
      "/var/folders/tg/f26try5n4pq7thttks3b9fs00000gn/T/ipykernel_1055/3466536323.py:54: SettingWithCopyWarning: \n",
      "A value is trying to be set on a copy of a slice from a DataFrame.\n",
      "Try using .loc[row_indexer,col_indexer] = value instead\n",
      "\n",
      "See the caveats in the documentation: https://pandas.pydata.org/pandas-docs/stable/user_guide/indexing.html#returning-a-view-versus-a-copy\n",
      "  ldf['date'] = ldf['date'].dt.tz_convert('UTC')\n"
     ]
    },
    {
     "name": "stdout",
     "output_type": "stream",
     "text": [
      "                              date counts\n",
      "1 2023-06-16 05:23:50.023000+00:00    135\n",
      "DF date already timezone aware so no need!\n",
      "                         0  1  2  3   4   5   6  7    8    9    10 11\n",
      "1  2024-07-21T05:28:11.699Z  0  0  0  61  25  51  0  522  421  457   \n",
      "First date for formatting:  2024-07-21T05:28:11.699Z\n",
      "                              date counts\n",
      "1 2024-07-21 05:28:11.699000+00:00     61\n",
      "DF date already timezone aware so no need!\n"
     ]
    },
    {
     "name": "stderr",
     "output_type": "stream",
     "text": [
      "/var/folders/tg/f26try5n4pq7thttks3b9fs00000gn/T/ipykernel_1055/3466536323.py:45: SettingWithCopyWarning: \n",
      "A value is trying to be set on a copy of a slice from a DataFrame.\n",
      "Try using .loc[row_indexer,col_indexer] = value instead\n",
      "\n",
      "See the caveats in the documentation: https://pandas.pydata.org/pandas-docs/stable/user_guide/indexing.html#returning-a-view-versus-a-copy\n",
      "  ldf['date'] = pd.to_datetime(ldf['date'], format='mixed')\n",
      "/var/folders/tg/f26try5n4pq7thttks3b9fs00000gn/T/ipykernel_1055/3466536323.py:54: SettingWithCopyWarning: \n",
      "A value is trying to be set on a copy of a slice from a DataFrame.\n",
      "Try using .loc[row_indexer,col_indexer] = value instead\n",
      "\n",
      "See the caveats in the documentation: https://pandas.pydata.org/pandas-docs/stable/user_guide/indexing.html#returning-a-view-versus-a-copy\n",
      "  ldf['date'] = ldf['date'].dt.tz_convert('UTC')\n"
     ]
    },
    {
     "name": "stdout",
     "output_type": "stream",
     "text": [
      "                         0  1  2  3   4   5   6  7    8    9    10 11\n",
      "1  2024-07-18T12:25:01.234Z  0  0  0  60  20  43  0  547  430  457   \n",
      "First date for formatting:  2024-07-18T12:25:01.234Z\n",
      "                              date counts\n",
      "1 2024-07-18 12:25:01.234000+00:00     60\n",
      "DF date already timezone aware so no need!\n"
     ]
    },
    {
     "name": "stderr",
     "output_type": "stream",
     "text": [
      "/var/folders/tg/f26try5n4pq7thttks3b9fs00000gn/T/ipykernel_1055/3466536323.py:45: SettingWithCopyWarning: \n",
      "A value is trying to be set on a copy of a slice from a DataFrame.\n",
      "Try using .loc[row_indexer,col_indexer] = value instead\n",
      "\n",
      "See the caveats in the documentation: https://pandas.pydata.org/pandas-docs/stable/user_guide/indexing.html#returning-a-view-versus-a-copy\n",
      "  ldf['date'] = pd.to_datetime(ldf['date'], format='mixed')\n",
      "/var/folders/tg/f26try5n4pq7thttks3b9fs00000gn/T/ipykernel_1055/3466536323.py:54: SettingWithCopyWarning: \n",
      "A value is trying to be set on a copy of a slice from a DataFrame.\n",
      "Try using .loc[row_indexer,col_indexer] = value instead\n",
      "\n",
      "See the caveats in the documentation: https://pandas.pydata.org/pandas-docs/stable/user_guide/indexing.html#returning-a-view-versus-a-copy\n",
      "  ldf['date'] = ldf['date'].dt.tz_convert('UTC')\n"
     ]
    },
    {
     "name": "stdout",
     "output_type": "stream",
     "text": [
      "                         0  1  2  3   4   5   6  7    8    9    10 11\n",
      "1  2024-05-29T13:33:47.555Z  0  0  0  99  37  94  0  639  540  542   \n",
      "First date for formatting:  2024-05-29T13:33:47.555Z\n",
      "                              date counts\n",
      "1 2024-05-29 13:33:47.555000+00:00     99\n",
      "DF date already timezone aware so no need!\n"
     ]
    },
    {
     "name": "stderr",
     "output_type": "stream",
     "text": [
      "/var/folders/tg/f26try5n4pq7thttks3b9fs00000gn/T/ipykernel_1055/3466536323.py:45: SettingWithCopyWarning: \n",
      "A value is trying to be set on a copy of a slice from a DataFrame.\n",
      "Try using .loc[row_indexer,col_indexer] = value instead\n",
      "\n",
      "See the caveats in the documentation: https://pandas.pydata.org/pandas-docs/stable/user_guide/indexing.html#returning-a-view-versus-a-copy\n",
      "  ldf['date'] = pd.to_datetime(ldf['date'], format='mixed')\n",
      "/var/folders/tg/f26try5n4pq7thttks3b9fs00000gn/T/ipykernel_1055/3466536323.py:54: SettingWithCopyWarning: \n",
      "A value is trying to be set on a copy of a slice from a DataFrame.\n",
      "Try using .loc[row_indexer,col_indexer] = value instead\n",
      "\n",
      "See the caveats in the documentation: https://pandas.pydata.org/pandas-docs/stable/user_guide/indexing.html#returning-a-view-versus-a-copy\n",
      "  ldf['date'] = ldf['date'].dt.tz_convert('UTC')\n"
     ]
    },
    {
     "name": "stdout",
     "output_type": "stream",
     "text": [
      "                         0  1  2  3   4   5   6  7    8    9    10 11\n",
      "1  2024-07-21T05:28:11.699Z  0  0  0  61  25  51  0  522  421  457   \n",
      "First date for formatting:  2024-07-21T05:28:11.699Z\n",
      "                              date counts\n",
      "1 2024-07-21 05:28:11.699000+00:00     61\n",
      "DF date already timezone aware so no need!\n"
     ]
    },
    {
     "name": "stderr",
     "output_type": "stream",
     "text": [
      "/var/folders/tg/f26try5n4pq7thttks3b9fs00000gn/T/ipykernel_1055/3466536323.py:45: SettingWithCopyWarning: \n",
      "A value is trying to be set on a copy of a slice from a DataFrame.\n",
      "Try using .loc[row_indexer,col_indexer] = value instead\n",
      "\n",
      "See the caveats in the documentation: https://pandas.pydata.org/pandas-docs/stable/user_guide/indexing.html#returning-a-view-versus-a-copy\n",
      "  ldf['date'] = pd.to_datetime(ldf['date'], format='mixed')\n",
      "/var/folders/tg/f26try5n4pq7thttks3b9fs00000gn/T/ipykernel_1055/3466536323.py:54: SettingWithCopyWarning: \n",
      "A value is trying to be set on a copy of a slice from a DataFrame.\n",
      "Try using .loc[row_indexer,col_indexer] = value instead\n",
      "\n",
      "See the caveats in the documentation: https://pandas.pydata.org/pandas-docs/stable/user_guide/indexing.html#returning-a-view-versus-a-copy\n",
      "  ldf['date'] = ldf['date'].dt.tz_convert('UTC')\n"
     ]
    },
    {
     "name": "stdout",
     "output_type": "stream",
     "text": [
      "Log file index 1\n",
      "Last log date bf shutdown:  2024-05-29 01:00:00+00:00 \n",
      "First log date after shutdown:  2024-05-29 14:00:00+00:00\n",
      "Log file index 2\n",
      "Last log date bf shutdown:  2024-07-18 01:00:00+00:00 \n",
      "First log date after shutdown:  2024-07-18 13:00:00+00:00\n",
      "Log file index 3\n",
      "Last log date bf shutdown:  2024-07-21 01:00:00+00:00 \n",
      "First log date after shutdown:  2024-07-21 06:00:00+00:00\n",
      "Log file index 4\n",
      "Last log date bf shutdown:  2024-08-21 01:00:00+00:00 \n",
      "First log date after shutdown:  2024-07-21 06:00:00+00:00\n",
      "Log file index 5\n",
      "Last log date bf shutdown:  2024-08-21 01:00:00+00:00 \n",
      "First log date after shutdown:  2024-07-21 06:00:00+00:00\n",
      "Log file index 6\n",
      "Last log date bf shutdown:  2024-08-21 01:00:00+00:00 \n",
      "First log date after shutdown:  2024-07-21 06:00:00+00:00\n",
      "Log file index 7\n",
      "Last log date bf shutdown:  2024-08-21 01:00:00+00:00 \n",
      "First log date after shutdown:  2024-07-21 06:00:00+00:00\n",
      "Log file index 8\n",
      "Last log date bf shutdown:  2024-08-21 01:00:00+00:00 \n",
      "First log date after shutdown:  2024-07-21 06:00:00+00:00\n",
      "Table sent to DB successfully\n",
      "Query for primary key sent successfully\n"
     ]
    }
   ],
   "source": [
    "process_and_save_logs('UvaWellassa_Muon001')"
   ]
  },
  {
   "cell_type": "code",
   "execution_count": 93,
   "metadata": {},
   "outputs": [
    {
     "name": "stdout",
     "output_type": "stream",
     "text": [
      "Table sent to DB successfully\n",
      "Table sent to DB successfully\n",
      "Table sent to DB successfully\n",
      "Table sent to DB successfully\n",
      "Table sent to DB successfully\n",
      "Table sent to DB successfully\n",
      "Table sent to DB successfully\n",
      "Table sent to DB successfully\n",
      "Table sent to DB successfully\n"
     ]
    },
    {
     "name": "stderr",
     "output_type": "stream",
     "text": [
      "/var/folders/tg/f26try5n4pq7thttks3b9fs00000gn/T/ipykernel_1055/3691705342.py:3: DtypeWarning: Columns (1) have mixed types. Specify dtype option on import or set low_memory=False.\n",
      "  df1 = pd.read_csv(csv_path, names=['date','counts'])[1:] # Remove extra first row\n"
     ]
    },
    {
     "name": "stdout",
     "output_type": "stream",
     "text": [
      "Table sent to DB successfully\n",
      "Table sent to DB successfully\n",
      "Table sent to DB successfully\n",
      "Table sent to DB successfully\n",
      "Table sent to DB successfully\n"
     ]
    }
   ],
   "source": [
    "# Temporary function to fix any 0 vals on dfs due to resample function\n",
    "homedir = '../data/'\n",
    "a = listdir(homedir)\n",
    "detectors = [l for l in a if l != 'unsorted' and '.' not in l]\n",
    "\n",
    "for d in detectors:\n",
    "    b = listdir(homedir+d)\n",
    "    sublist = [l for l in b if l != '.DS_Store' and 'all_logs.csv' in l]\n",
    "    if len(sublist) == 0:\n",
    "        sublist = [l for l in b if l != '.DS_Store' and '.' not in l]\n",
    "        for sub in sublist:\n",
    "            c = listdir(homedir+d+'/'+sub)\n",
    "            subsublist = [l for l in c if l != '.DS_Store' and 'all_logs.csv' in l]\n",
    "\n",
    "            df = format_csv(homedir+d+'/'+sub+'/'+subsublist[0])\n",
    "            df.loc[df['counts'] == 0] = np.nan\n",
    "            df.to_csv(homedir+d+'/'+sub+'/'+subsublist[0])\n",
    "\n",
    "            monitor_name = subsublist[0][:subsublist[0].find('_all')].lower()\n",
    "\n",
    "            if monitor_name.startswith('2') or monitor_name.startswith('4'):\n",
    "                monitor_name = monitor_name[1:]+monitor_name[0]\n",
    "\n",
    "            df.to_sql(\n",
    "                con=engine, \n",
    "                name=f'{monitor_name}', \n",
    "                if_exists='replace', \n",
    "                index_label='date'\n",
    "            )\n",
    "            print('Table sent to DB successfully')\n",
    "\n",
    "            # Make primary key for table via PSYCOPG2\n",
    "            cur = conn.cursor()\n",
    "            cur.execute(f\"\"\"ALTER TABLE {monitor_name} ADD PRIMARY KEY (date)\"\"\")\n",
    "            conn.commit()\n",
    "    else:\n",
    "        df = format_csv(homedir+d+'/'+sublist[0])\n",
    "        df.loc[df['counts'] == 0] = np.nan\n",
    "        df.to_csv(homedir+d+'/'+sublist[0])\n",
    "\n",
    "        monitor_name = sublist[0][:sublist[0].find('_all')].lower()\n",
    "\n",
    "        if monitor_name.startswith('2') or monitor_name.startswith('4'):\n",
    "            monitor_name = monitor_name[1:]+monitor_name[0]\n",
    "\n",
    "        df.to_sql(\n",
    "            con=engine, \n",
    "            name=f'{monitor_name}', \n",
    "            if_exists='replace', \n",
    "            index_label='date'\n",
    "        )\n",
    "        print('Table sent to DB successfully')\n",
    "\n",
    "        # Make primary key for table via PSYCOPG2\n",
    "        cur = conn.cursor()\n",
    "        cur.execute(f\"\"\"ALTER TABLE {monitor_name} ADD PRIMARY KEY (date)\"\"\")\n",
    "        conn.commit()\n"
   ]
  }
 ],
 "metadata": {
  "language_info": {
   "name": "python"
  }
 },
 "nbformat": 4,
 "nbformat_minor": 2
}
