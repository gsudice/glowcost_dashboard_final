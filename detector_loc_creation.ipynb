{
 "cells": [
  {
   "cell_type": "code",
   "execution_count": 4,
   "metadata": {},
   "outputs": [],
   "source": [
    "import plotly.graph_objects as go\n",
    "from dash import html\n",
    "import pandas as pd\n",
    "from dotenv import load_dotenv\n",
    "import os\n",
    "\n",
    "load_dotenv()\n",
    "mapbox_access_token = os.getenv('MAPBOX_TOKEN')\n",
    "\n",
    "df = pd.read_csv('https://raw.githubusercontent.com/plotly/datasets/master/Nuclear%20Waste%20Sites%20on%20American%20Campuses.csv')\n",
    "df = df[:9]"
   ]
  },
  {
   "cell_type": "code",
   "execution_count": 5,
   "metadata": {},
   "outputs": [
    {
     "data": {
      "text/html": [
       "<div>\n",
       "<style scoped>\n",
       "    .dataframe tbody tr th:only-of-type {\n",
       "        vertical-align: middle;\n",
       "    }\n",
       "\n",
       "    .dataframe tbody tr th {\n",
       "        vertical-align: top;\n",
       "    }\n",
       "\n",
       "    .dataframe thead th {\n",
       "        text-align: right;\n",
       "    }\n",
       "</style>\n",
       "<table border=\"1\" class=\"dataframe\">\n",
       "  <thead>\n",
       "    <tr style=\"text-align: right;\">\n",
       "      <th></th>\n",
       "      <th>lat</th>\n",
       "      <th>lon</th>\n",
       "      <th>text</th>\n",
       "    </tr>\n",
       "  </thead>\n",
       "  <tbody>\n",
       "    <tr>\n",
       "      <th>0</th>\n",
       "      <td>35.888827</td>\n",
       "      <td>-106.305022</td>\n",
       "      <td>Muon000</td>\n",
       "    </tr>\n",
       "    <tr>\n",
       "      <th>1</th>\n",
       "      <td>39.503487</td>\n",
       "      <td>-84.743859</td>\n",
       "      <td>Muon001</td>\n",
       "    </tr>\n",
       "    <tr>\n",
       "      <th>2</th>\n",
       "      <td>44.620822</td>\n",
       "      <td>-123.120917</td>\n",
       "      <td>Muon002</td>\n",
       "    </tr>\n",
       "    <tr>\n",
       "      <th>3</th>\n",
       "      <td>40.641371</td>\n",
       "      <td>-80.242936</td>\n",
       "      <td>4 Paddle Detector</td>\n",
       "    </tr>\n",
       "    <tr>\n",
       "      <th>4</th>\n",
       "      <td>39.361063</td>\n",
       "      <td>-84.540750</td>\n",
       "      <td>2 Paddle Detector</td>\n",
       "    </tr>\n",
       "    <tr>\n",
       "      <th>5</th>\n",
       "      <td>39.957354</td>\n",
       "      <td>-83.011455</td>\n",
       "      <td>PI3crm001</td>\n",
       "    </tr>\n",
       "    <tr>\n",
       "      <th>6</th>\n",
       "      <td>41.672189</td>\n",
       "      <td>-83.568625</td>\n",
       "      <td>APO New Mexico</td>\n",
       "    </tr>\n",
       "    <tr>\n",
       "      <th>7</th>\n",
       "      <td>40.746102</td>\n",
       "      <td>-74.006642</td>\n",
       "      <td>Colombo</td>\n",
       "    </tr>\n",
       "    <tr>\n",
       "      <th>8</th>\n",
       "      <td>35.899725</td>\n",
       "      <td>-106.290127</td>\n",
       "      <td>Santa Marta</td>\n",
       "    </tr>\n",
       "  </tbody>\n",
       "</table>\n",
       "</div>"
      ],
      "text/plain": [
       "         lat         lon               text\n",
       "0  35.888827 -106.305022            Muon000\n",
       "1  39.503487  -84.743859            Muon001\n",
       "2  44.620822 -123.120917            Muon002\n",
       "3  40.641371  -80.242936  4 Paddle Detector\n",
       "4  39.361063  -84.540750  2 Paddle Detector\n",
       "5  39.957354  -83.011455          PI3crm001\n",
       "6  41.672189  -83.568625     APO New Mexico\n",
       "7  40.746102  -74.006642            Colombo\n",
       "8  35.899725 -106.290127        Santa Marta"
      ]
     },
     "execution_count": 5,
     "metadata": {},
     "output_type": "execute_result"
    }
   ],
   "source": [
    "df['text'] = [\n",
    "    'Muon000',\n",
    "    'Muon001', \n",
    "    'Muon002',\n",
    "    '4 Paddle Detector',\n",
    "    '2 Paddle Detector',\n",
    "    'PI3crm001',\n",
    "    'APO New Mexico',\n",
    "    'Colombo',\n",
    "    'Santa Marta'\n",
    "]\n",
    "df # Data's lon and lat values must be updated later with real locations once provided"
   ]
  },
  {
   "cell_type": "code",
   "execution_count": 7,
   "metadata": {},
   "outputs": [],
   "source": [
    "df.to_csv(path_or_buf='../app_data/detector_locations.csv')"
   ]
  },
  {
   "cell_type": "code",
   "execution_count": 3,
   "metadata": {},
   "outputs": [],
   "source": [
    "import json\n",
    "\n",
    "detectors = {\n",
    "    'Muon000':{'label':'Muon000', 'value':'Muon000'},\n",
    "    'Muon001':{'label':'Muon001 - NSC Building', 'value':'Muon001'},\n",
    "    'Muon002':{'label':'Muon002 - NSC Building (CHARA)', 'value':'Muon002'},\n",
    "    '4 Paddle Detector':{'label':'4 Paddle Detector', 'value':'4 Paddle Detector'},\n",
    "    '2 Paddle Detector':{'label':'2 Paddle Detector', 'value':'2 Paddle Detector'},\n",
    "    'PI3crm001':{'label':'PI3crm001 in Rm415 SA Building', 'value':'PI3crm001'},\n",
    "    'APO New Mexico':{'label':'APO New Mexico', 'value':'APO New Mexico'},\n",
    "    'Colombo':{'label':'Colombo', 'value':'Colombo'},\n",
    "    'Santa Marta':{'label':'Santa Marta', 'value':'Santa Marta'}\n",
    "}\n",
    "with open('./app_data/detectors.json', 'w') as f:\n",
    "    json.dump(detectors, f)"
   ]
  }
 ],
 "metadata": {
  "kernelspec": {
   "display_name": "Python 3",
   "language": "python",
   "name": "python3"
  },
  "language_info": {
   "codemirror_mode": {
    "name": "ipython",
    "version": 3
   },
   "file_extension": ".py",
   "mimetype": "text/x-python",
   "name": "python",
   "nbconvert_exporter": "python",
   "pygments_lexer": "ipython3",
   "version": "3.9.6"
  }
 },
 "nbformat": 4,
 "nbformat_minor": 2
}
